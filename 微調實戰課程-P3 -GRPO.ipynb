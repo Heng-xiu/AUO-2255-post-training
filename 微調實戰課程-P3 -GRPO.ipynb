{
  "nbformat": 4,
  "nbformat_minor": 0,
  "metadata": {
    "colab": {
      "provenance": [],
      "gpuType": "T4"
    },
    "kernelspec": {
      "name": "python3",
      "display_name": "Python 3"
    },
    "language_info": {
      "name": "python"
    },
    "accelerator": "GPU",
    "widgets": {
      "application/vnd.jupyter.widget-state+json": {
        "7c51f15fe88b4071b1c0e5600194a458": {
          "model_module": "@jupyter-widgets/controls",
          "model_name": "HBoxModel",
          "model_module_version": "1.5.0",
          "state": {
            "_dom_classes": [],
            "_model_module": "@jupyter-widgets/controls",
            "_model_module_version": "1.5.0",
            "_model_name": "HBoxModel",
            "_view_count": null,
            "_view_module": "@jupyter-widgets/controls",
            "_view_module_version": "1.5.0",
            "_view_name": "HBoxView",
            "box_style": "",
            "children": [
              "IPY_MODEL_34d4f6864ffc45fa883a14b663cdeed2",
              "IPY_MODEL_c67a560f4107424188efe4de895d1e98",
              "IPY_MODEL_a6b83cee8dce40c2bda37a950bcdff13"
            ],
            "layout": "IPY_MODEL_8b9fd3e9e4d44ba9b0c2500a717f1a4b"
          }
        },
        "34d4f6864ffc45fa883a14b663cdeed2": {
          "model_module": "@jupyter-widgets/controls",
          "model_name": "HTMLModel",
          "model_module_version": "1.5.0",
          "state": {
            "_dom_classes": [],
            "_model_module": "@jupyter-widgets/controls",
            "_model_module_version": "1.5.0",
            "_model_name": "HTMLModel",
            "_view_count": null,
            "_view_module": "@jupyter-widgets/controls",
            "_view_module_version": "1.5.0",
            "_view_name": "HTMLView",
            "description": "",
            "description_tooltip": null,
            "layout": "IPY_MODEL_2bb7ace566844bb4b7c66025edc0b06e",
            "placeholder": "​",
            "style": "IPY_MODEL_9ccebb8f2fc046589515b211377a6dfd",
            "value": "config.json: 100%"
          }
        },
        "c67a560f4107424188efe4de895d1e98": {
          "model_module": "@jupyter-widgets/controls",
          "model_name": "FloatProgressModel",
          "model_module_version": "1.5.0",
          "state": {
            "_dom_classes": [],
            "_model_module": "@jupyter-widgets/controls",
            "_model_module_version": "1.5.0",
            "_model_name": "FloatProgressModel",
            "_view_count": null,
            "_view_module": "@jupyter-widgets/controls",
            "_view_module_version": "1.5.0",
            "_view_name": "ProgressView",
            "bar_style": "success",
            "description": "",
            "description_tooltip": null,
            "layout": "IPY_MODEL_88661630128842d1926cb986832b30e7",
            "max": 659,
            "min": 0,
            "orientation": "horizontal",
            "style": "IPY_MODEL_8a9b409b93084938b111cee5facd6aa5",
            "value": 659
          }
        },
        "a6b83cee8dce40c2bda37a950bcdff13": {
          "model_module": "@jupyter-widgets/controls",
          "model_name": "HTMLModel",
          "model_module_version": "1.5.0",
          "state": {
            "_dom_classes": [],
            "_model_module": "@jupyter-widgets/controls",
            "_model_module_version": "1.5.0",
            "_model_name": "HTMLModel",
            "_view_count": null,
            "_view_module": "@jupyter-widgets/controls",
            "_view_module_version": "1.5.0",
            "_view_name": "HTMLView",
            "description": "",
            "description_tooltip": null,
            "layout": "IPY_MODEL_593a27b55ba94c8796f9bcbb8fede266",
            "placeholder": "​",
            "style": "IPY_MODEL_48ce651bc04c408f9b0ae5db9d182155",
            "value": " 659/659 [00:00&lt;00:00, 14.4kB/s]"
          }
        },
        "8b9fd3e9e4d44ba9b0c2500a717f1a4b": {
          "model_module": "@jupyter-widgets/base",
          "model_name": "LayoutModel",
          "model_module_version": "1.2.0",
          "state": {
            "_model_module": "@jupyter-widgets/base",
            "_model_module_version": "1.2.0",
            "_model_name": "LayoutModel",
            "_view_count": null,
            "_view_module": "@jupyter-widgets/base",
            "_view_module_version": "1.2.0",
            "_view_name": "LayoutView",
            "align_content": null,
            "align_items": null,
            "align_self": null,
            "border": null,
            "bottom": null,
            "display": null,
            "flex": null,
            "flex_flow": null,
            "grid_area": null,
            "grid_auto_columns": null,
            "grid_auto_flow": null,
            "grid_auto_rows": null,
            "grid_column": null,
            "grid_gap": null,
            "grid_row": null,
            "grid_template_areas": null,
            "grid_template_columns": null,
            "grid_template_rows": null,
            "height": null,
            "justify_content": null,
            "justify_items": null,
            "left": null,
            "margin": null,
            "max_height": null,
            "max_width": null,
            "min_height": null,
            "min_width": null,
            "object_fit": null,
            "object_position": null,
            "order": null,
            "overflow": null,
            "overflow_x": null,
            "overflow_y": null,
            "padding": null,
            "right": null,
            "top": null,
            "visibility": null,
            "width": null
          }
        },
        "2bb7ace566844bb4b7c66025edc0b06e": {
          "model_module": "@jupyter-widgets/base",
          "model_name": "LayoutModel",
          "model_module_version": "1.2.0",
          "state": {
            "_model_module": "@jupyter-widgets/base",
            "_model_module_version": "1.2.0",
            "_model_name": "LayoutModel",
            "_view_count": null,
            "_view_module": "@jupyter-widgets/base",
            "_view_module_version": "1.2.0",
            "_view_name": "LayoutView",
            "align_content": null,
            "align_items": null,
            "align_self": null,
            "border": null,
            "bottom": null,
            "display": null,
            "flex": null,
            "flex_flow": null,
            "grid_area": null,
            "grid_auto_columns": null,
            "grid_auto_flow": null,
            "grid_auto_rows": null,
            "grid_column": null,
            "grid_gap": null,
            "grid_row": null,
            "grid_template_areas": null,
            "grid_template_columns": null,
            "grid_template_rows": null,
            "height": null,
            "justify_content": null,
            "justify_items": null,
            "left": null,
            "margin": null,
            "max_height": null,
            "max_width": null,
            "min_height": null,
            "min_width": null,
            "object_fit": null,
            "object_position": null,
            "order": null,
            "overflow": null,
            "overflow_x": null,
            "overflow_y": null,
            "padding": null,
            "right": null,
            "top": null,
            "visibility": null,
            "width": null
          }
        },
        "9ccebb8f2fc046589515b211377a6dfd": {
          "model_module": "@jupyter-widgets/controls",
          "model_name": "DescriptionStyleModel",
          "model_module_version": "1.5.0",
          "state": {
            "_model_module": "@jupyter-widgets/controls",
            "_model_module_version": "1.5.0",
            "_model_name": "DescriptionStyleModel",
            "_view_count": null,
            "_view_module": "@jupyter-widgets/base",
            "_view_module_version": "1.2.0",
            "_view_name": "StyleView",
            "description_width": ""
          }
        },
        "88661630128842d1926cb986832b30e7": {
          "model_module": "@jupyter-widgets/base",
          "model_name": "LayoutModel",
          "model_module_version": "1.2.0",
          "state": {
            "_model_module": "@jupyter-widgets/base",
            "_model_module_version": "1.2.0",
            "_model_name": "LayoutModel",
            "_view_count": null,
            "_view_module": "@jupyter-widgets/base",
            "_view_module_version": "1.2.0",
            "_view_name": "LayoutView",
            "align_content": null,
            "align_items": null,
            "align_self": null,
            "border": null,
            "bottom": null,
            "display": null,
            "flex": null,
            "flex_flow": null,
            "grid_area": null,
            "grid_auto_columns": null,
            "grid_auto_flow": null,
            "grid_auto_rows": null,
            "grid_column": null,
            "grid_gap": null,
            "grid_row": null,
            "grid_template_areas": null,
            "grid_template_columns": null,
            "grid_template_rows": null,
            "height": null,
            "justify_content": null,
            "justify_items": null,
            "left": null,
            "margin": null,
            "max_height": null,
            "max_width": null,
            "min_height": null,
            "min_width": null,
            "object_fit": null,
            "object_position": null,
            "order": null,
            "overflow": null,
            "overflow_x": null,
            "overflow_y": null,
            "padding": null,
            "right": null,
            "top": null,
            "visibility": null,
            "width": null
          }
        },
        "8a9b409b93084938b111cee5facd6aa5": {
          "model_module": "@jupyter-widgets/controls",
          "model_name": "ProgressStyleModel",
          "model_module_version": "1.5.0",
          "state": {
            "_model_module": "@jupyter-widgets/controls",
            "_model_module_version": "1.5.0",
            "_model_name": "ProgressStyleModel",
            "_view_count": null,
            "_view_module": "@jupyter-widgets/base",
            "_view_module_version": "1.2.0",
            "_view_name": "StyleView",
            "bar_color": null,
            "description_width": ""
          }
        },
        "593a27b55ba94c8796f9bcbb8fede266": {
          "model_module": "@jupyter-widgets/base",
          "model_name": "LayoutModel",
          "model_module_version": "1.2.0",
          "state": {
            "_model_module": "@jupyter-widgets/base",
            "_model_module_version": "1.2.0",
            "_model_name": "LayoutModel",
            "_view_count": null,
            "_view_module": "@jupyter-widgets/base",
            "_view_module_version": "1.2.0",
            "_view_name": "LayoutView",
            "align_content": null,
            "align_items": null,
            "align_self": null,
            "border": null,
            "bottom": null,
            "display": null,
            "flex": null,
            "flex_flow": null,
            "grid_area": null,
            "grid_auto_columns": null,
            "grid_auto_flow": null,
            "grid_auto_rows": null,
            "grid_column": null,
            "grid_gap": null,
            "grid_row": null,
            "grid_template_areas": null,
            "grid_template_columns": null,
            "grid_template_rows": null,
            "height": null,
            "justify_content": null,
            "justify_items": null,
            "left": null,
            "margin": null,
            "max_height": null,
            "max_width": null,
            "min_height": null,
            "min_width": null,
            "object_fit": null,
            "object_position": null,
            "order": null,
            "overflow": null,
            "overflow_x": null,
            "overflow_y": null,
            "padding": null,
            "right": null,
            "top": null,
            "visibility": null,
            "width": null
          }
        },
        "48ce651bc04c408f9b0ae5db9d182155": {
          "model_module": "@jupyter-widgets/controls",
          "model_name": "DescriptionStyleModel",
          "model_module_version": "1.5.0",
          "state": {
            "_model_module": "@jupyter-widgets/controls",
            "_model_module_version": "1.5.0",
            "_model_name": "DescriptionStyleModel",
            "_view_count": null,
            "_view_module": "@jupyter-widgets/base",
            "_view_module_version": "1.2.0",
            "_view_name": "StyleView",
            "description_width": ""
          }
        },
        "7e5b9db5001f4a0d9c37448c1228be7e": {
          "model_module": "@jupyter-widgets/controls",
          "model_name": "HBoxModel",
          "model_module_version": "1.5.0",
          "state": {
            "_dom_classes": [],
            "_model_module": "@jupyter-widgets/controls",
            "_model_module_version": "1.5.0",
            "_model_name": "HBoxModel",
            "_view_count": null,
            "_view_module": "@jupyter-widgets/controls",
            "_view_module_version": "1.5.0",
            "_view_name": "HBoxView",
            "box_style": "",
            "children": [
              "IPY_MODEL_23e15b9fcdb345e79dedc9caa93a9678",
              "IPY_MODEL_84893a129c0a4d35833b9828c7696265",
              "IPY_MODEL_6371254ac2c64e44830107244d817e6c"
            ],
            "layout": "IPY_MODEL_c6ee9ae5a87f4fec86db0a3945f861b0"
          }
        },
        "23e15b9fcdb345e79dedc9caa93a9678": {
          "model_module": "@jupyter-widgets/controls",
          "model_name": "HTMLModel",
          "model_module_version": "1.5.0",
          "state": {
            "_dom_classes": [],
            "_model_module": "@jupyter-widgets/controls",
            "_model_module_version": "1.5.0",
            "_model_name": "HTMLModel",
            "_view_count": null,
            "_view_module": "@jupyter-widgets/controls",
            "_view_module_version": "1.5.0",
            "_view_name": "HTMLView",
            "description": "",
            "description_tooltip": null,
            "layout": "IPY_MODEL_7a468c904ee34f799af9dbdd3b9330c8",
            "placeholder": "​",
            "style": "IPY_MODEL_6b69f0b895104434ad86f55de6d9248f",
            "value": "model.safetensors: 100%"
          }
        },
        "84893a129c0a4d35833b9828c7696265": {
          "model_module": "@jupyter-widgets/controls",
          "model_name": "FloatProgressModel",
          "model_module_version": "1.5.0",
          "state": {
            "_dom_classes": [],
            "_model_module": "@jupyter-widgets/controls",
            "_model_module_version": "1.5.0",
            "_model_name": "FloatProgressModel",
            "_view_count": null,
            "_view_module": "@jupyter-widgets/controls",
            "_view_module_version": "1.5.0",
            "_view_name": "ProgressView",
            "bar_style": "success",
            "description": "",
            "description_tooltip": null,
            "layout": "IPY_MODEL_0ea8bfe1ec4a4d0a9c5f24a814690000",
            "max": 988097824,
            "min": 0,
            "orientation": "horizontal",
            "style": "IPY_MODEL_f5799a9c2f8c410dbf0326750208e73e",
            "value": 988097824
          }
        },
        "6371254ac2c64e44830107244d817e6c": {
          "model_module": "@jupyter-widgets/controls",
          "model_name": "HTMLModel",
          "model_module_version": "1.5.0",
          "state": {
            "_dom_classes": [],
            "_model_module": "@jupyter-widgets/controls",
            "_model_module_version": "1.5.0",
            "_model_name": "HTMLModel",
            "_view_count": null,
            "_view_module": "@jupyter-widgets/controls",
            "_view_module_version": "1.5.0",
            "_view_name": "HTMLView",
            "description": "",
            "description_tooltip": null,
            "layout": "IPY_MODEL_8301ba6a15834482903841f106b1f415",
            "placeholder": "​",
            "style": "IPY_MODEL_c54b879a54ab4e6fb8914e9598a28a5f",
            "value": " 988M/988M [00:16&lt;00:00, 59.3MB/s]"
          }
        },
        "c6ee9ae5a87f4fec86db0a3945f861b0": {
          "model_module": "@jupyter-widgets/base",
          "model_name": "LayoutModel",
          "model_module_version": "1.2.0",
          "state": {
            "_model_module": "@jupyter-widgets/base",
            "_model_module_version": "1.2.0",
            "_model_name": "LayoutModel",
            "_view_count": null,
            "_view_module": "@jupyter-widgets/base",
            "_view_module_version": "1.2.0",
            "_view_name": "LayoutView",
            "align_content": null,
            "align_items": null,
            "align_self": null,
            "border": null,
            "bottom": null,
            "display": null,
            "flex": null,
            "flex_flow": null,
            "grid_area": null,
            "grid_auto_columns": null,
            "grid_auto_flow": null,
            "grid_auto_rows": null,
            "grid_column": null,
            "grid_gap": null,
            "grid_row": null,
            "grid_template_areas": null,
            "grid_template_columns": null,
            "grid_template_rows": null,
            "height": null,
            "justify_content": null,
            "justify_items": null,
            "left": null,
            "margin": null,
            "max_height": null,
            "max_width": null,
            "min_height": null,
            "min_width": null,
            "object_fit": null,
            "object_position": null,
            "order": null,
            "overflow": null,
            "overflow_x": null,
            "overflow_y": null,
            "padding": null,
            "right": null,
            "top": null,
            "visibility": null,
            "width": null
          }
        },
        "7a468c904ee34f799af9dbdd3b9330c8": {
          "model_module": "@jupyter-widgets/base",
          "model_name": "LayoutModel",
          "model_module_version": "1.2.0",
          "state": {
            "_model_module": "@jupyter-widgets/base",
            "_model_module_version": "1.2.0",
            "_model_name": "LayoutModel",
            "_view_count": null,
            "_view_module": "@jupyter-widgets/base",
            "_view_module_version": "1.2.0",
            "_view_name": "LayoutView",
            "align_content": null,
            "align_items": null,
            "align_self": null,
            "border": null,
            "bottom": null,
            "display": null,
            "flex": null,
            "flex_flow": null,
            "grid_area": null,
            "grid_auto_columns": null,
            "grid_auto_flow": null,
            "grid_auto_rows": null,
            "grid_column": null,
            "grid_gap": null,
            "grid_row": null,
            "grid_template_areas": null,
            "grid_template_columns": null,
            "grid_template_rows": null,
            "height": null,
            "justify_content": null,
            "justify_items": null,
            "left": null,
            "margin": null,
            "max_height": null,
            "max_width": null,
            "min_height": null,
            "min_width": null,
            "object_fit": null,
            "object_position": null,
            "order": null,
            "overflow": null,
            "overflow_x": null,
            "overflow_y": null,
            "padding": null,
            "right": null,
            "top": null,
            "visibility": null,
            "width": null
          }
        },
        "6b69f0b895104434ad86f55de6d9248f": {
          "model_module": "@jupyter-widgets/controls",
          "model_name": "DescriptionStyleModel",
          "model_module_version": "1.5.0",
          "state": {
            "_model_module": "@jupyter-widgets/controls",
            "_model_module_version": "1.5.0",
            "_model_name": "DescriptionStyleModel",
            "_view_count": null,
            "_view_module": "@jupyter-widgets/base",
            "_view_module_version": "1.2.0",
            "_view_name": "StyleView",
            "description_width": ""
          }
        },
        "0ea8bfe1ec4a4d0a9c5f24a814690000": {
          "model_module": "@jupyter-widgets/base",
          "model_name": "LayoutModel",
          "model_module_version": "1.2.0",
          "state": {
            "_model_module": "@jupyter-widgets/base",
            "_model_module_version": "1.2.0",
            "_model_name": "LayoutModel",
            "_view_count": null,
            "_view_module": "@jupyter-widgets/base",
            "_view_module_version": "1.2.0",
            "_view_name": "LayoutView",
            "align_content": null,
            "align_items": null,
            "align_self": null,
            "border": null,
            "bottom": null,
            "display": null,
            "flex": null,
            "flex_flow": null,
            "grid_area": null,
            "grid_auto_columns": null,
            "grid_auto_flow": null,
            "grid_auto_rows": null,
            "grid_column": null,
            "grid_gap": null,
            "grid_row": null,
            "grid_template_areas": null,
            "grid_template_columns": null,
            "grid_template_rows": null,
            "height": null,
            "justify_content": null,
            "justify_items": null,
            "left": null,
            "margin": null,
            "max_height": null,
            "max_width": null,
            "min_height": null,
            "min_width": null,
            "object_fit": null,
            "object_position": null,
            "order": null,
            "overflow": null,
            "overflow_x": null,
            "overflow_y": null,
            "padding": null,
            "right": null,
            "top": null,
            "visibility": null,
            "width": null
          }
        },
        "f5799a9c2f8c410dbf0326750208e73e": {
          "model_module": "@jupyter-widgets/controls",
          "model_name": "ProgressStyleModel",
          "model_module_version": "1.5.0",
          "state": {
            "_model_module": "@jupyter-widgets/controls",
            "_model_module_version": "1.5.0",
            "_model_name": "ProgressStyleModel",
            "_view_count": null,
            "_view_module": "@jupyter-widgets/base",
            "_view_module_version": "1.2.0",
            "_view_name": "StyleView",
            "bar_color": null,
            "description_width": ""
          }
        },
        "8301ba6a15834482903841f106b1f415": {
          "model_module": "@jupyter-widgets/base",
          "model_name": "LayoutModel",
          "model_module_version": "1.2.0",
          "state": {
            "_model_module": "@jupyter-widgets/base",
            "_model_module_version": "1.2.0",
            "_model_name": "LayoutModel",
            "_view_count": null,
            "_view_module": "@jupyter-widgets/base",
            "_view_module_version": "1.2.0",
            "_view_name": "LayoutView",
            "align_content": null,
            "align_items": null,
            "align_self": null,
            "border": null,
            "bottom": null,
            "display": null,
            "flex": null,
            "flex_flow": null,
            "grid_area": null,
            "grid_auto_columns": null,
            "grid_auto_flow": null,
            "grid_auto_rows": null,
            "grid_column": null,
            "grid_gap": null,
            "grid_row": null,
            "grid_template_areas": null,
            "grid_template_columns": null,
            "grid_template_rows": null,
            "height": null,
            "justify_content": null,
            "justify_items": null,
            "left": null,
            "margin": null,
            "max_height": null,
            "max_width": null,
            "min_height": null,
            "min_width": null,
            "object_fit": null,
            "object_position": null,
            "order": null,
            "overflow": null,
            "overflow_x": null,
            "overflow_y": null,
            "padding": null,
            "right": null,
            "top": null,
            "visibility": null,
            "width": null
          }
        },
        "c54b879a54ab4e6fb8914e9598a28a5f": {
          "model_module": "@jupyter-widgets/controls",
          "model_name": "DescriptionStyleModel",
          "model_module_version": "1.5.0",
          "state": {
            "_model_module": "@jupyter-widgets/controls",
            "_model_module_version": "1.5.0",
            "_model_name": "DescriptionStyleModel",
            "_view_count": null,
            "_view_module": "@jupyter-widgets/base",
            "_view_module_version": "1.2.0",
            "_view_name": "StyleView",
            "description_width": ""
          }
        },
        "e38b63959bcc4144975566aba0def065": {
          "model_module": "@jupyter-widgets/controls",
          "model_name": "HBoxModel",
          "model_module_version": "1.5.0",
          "state": {
            "_dom_classes": [],
            "_model_module": "@jupyter-widgets/controls",
            "_model_module_version": "1.5.0",
            "_model_name": "HBoxModel",
            "_view_count": null,
            "_view_module": "@jupyter-widgets/controls",
            "_view_module_version": "1.5.0",
            "_view_name": "HBoxView",
            "box_style": "",
            "children": [
              "IPY_MODEL_3340564aa6234cd4bf17e9fd9bf67eb2",
              "IPY_MODEL_f92d2713bca346748cb6e70dc5729104",
              "IPY_MODEL_995fec82f12a4e47b503a0bfaf56f66f"
            ],
            "layout": "IPY_MODEL_fb117867ac4946719c70f7744efb9f42"
          }
        },
        "3340564aa6234cd4bf17e9fd9bf67eb2": {
          "model_module": "@jupyter-widgets/controls",
          "model_name": "HTMLModel",
          "model_module_version": "1.5.0",
          "state": {
            "_dom_classes": [],
            "_model_module": "@jupyter-widgets/controls",
            "_model_module_version": "1.5.0",
            "_model_name": "HTMLModel",
            "_view_count": null,
            "_view_module": "@jupyter-widgets/controls",
            "_view_module_version": "1.5.0",
            "_view_name": "HTMLView",
            "description": "",
            "description_tooltip": null,
            "layout": "IPY_MODEL_7d1dcb5b35254186a5daa0386cb37454",
            "placeholder": "​",
            "style": "IPY_MODEL_2213b49563174cec83be77ecd88263f9",
            "value": "generation_config.json: 100%"
          }
        },
        "f92d2713bca346748cb6e70dc5729104": {
          "model_module": "@jupyter-widgets/controls",
          "model_name": "FloatProgressModel",
          "model_module_version": "1.5.0",
          "state": {
            "_dom_classes": [],
            "_model_module": "@jupyter-widgets/controls",
            "_model_module_version": "1.5.0",
            "_model_name": "FloatProgressModel",
            "_view_count": null,
            "_view_module": "@jupyter-widgets/controls",
            "_view_module_version": "1.5.0",
            "_view_name": "ProgressView",
            "bar_style": "success",
            "description": "",
            "description_tooltip": null,
            "layout": "IPY_MODEL_3a30363861cb419c92b915dfde39947d",
            "max": 242,
            "min": 0,
            "orientation": "horizontal",
            "style": "IPY_MODEL_a46681e0b77446cdbf0b3e5fb4fb6df8",
            "value": 242
          }
        },
        "995fec82f12a4e47b503a0bfaf56f66f": {
          "model_module": "@jupyter-widgets/controls",
          "model_name": "HTMLModel",
          "model_module_version": "1.5.0",
          "state": {
            "_dom_classes": [],
            "_model_module": "@jupyter-widgets/controls",
            "_model_module_version": "1.5.0",
            "_model_name": "HTMLModel",
            "_view_count": null,
            "_view_module": "@jupyter-widgets/controls",
            "_view_module_version": "1.5.0",
            "_view_name": "HTMLView",
            "description": "",
            "description_tooltip": null,
            "layout": "IPY_MODEL_e88fdb1f8365414c886b7552e434cf91",
            "placeholder": "​",
            "style": "IPY_MODEL_b710f3932e404ad5beb1da1896545fa4",
            "value": " 242/242 [00:00&lt;00:00, 31.0kB/s]"
          }
        },
        "fb117867ac4946719c70f7744efb9f42": {
          "model_module": "@jupyter-widgets/base",
          "model_name": "LayoutModel",
          "model_module_version": "1.2.0",
          "state": {
            "_model_module": "@jupyter-widgets/base",
            "_model_module_version": "1.2.0",
            "_model_name": "LayoutModel",
            "_view_count": null,
            "_view_module": "@jupyter-widgets/base",
            "_view_module_version": "1.2.0",
            "_view_name": "LayoutView",
            "align_content": null,
            "align_items": null,
            "align_self": null,
            "border": null,
            "bottom": null,
            "display": null,
            "flex": null,
            "flex_flow": null,
            "grid_area": null,
            "grid_auto_columns": null,
            "grid_auto_flow": null,
            "grid_auto_rows": null,
            "grid_column": null,
            "grid_gap": null,
            "grid_row": null,
            "grid_template_areas": null,
            "grid_template_columns": null,
            "grid_template_rows": null,
            "height": null,
            "justify_content": null,
            "justify_items": null,
            "left": null,
            "margin": null,
            "max_height": null,
            "max_width": null,
            "min_height": null,
            "min_width": null,
            "object_fit": null,
            "object_position": null,
            "order": null,
            "overflow": null,
            "overflow_x": null,
            "overflow_y": null,
            "padding": null,
            "right": null,
            "top": null,
            "visibility": null,
            "width": null
          }
        },
        "7d1dcb5b35254186a5daa0386cb37454": {
          "model_module": "@jupyter-widgets/base",
          "model_name": "LayoutModel",
          "model_module_version": "1.2.0",
          "state": {
            "_model_module": "@jupyter-widgets/base",
            "_model_module_version": "1.2.0",
            "_model_name": "LayoutModel",
            "_view_count": null,
            "_view_module": "@jupyter-widgets/base",
            "_view_module_version": "1.2.0",
            "_view_name": "LayoutView",
            "align_content": null,
            "align_items": null,
            "align_self": null,
            "border": null,
            "bottom": null,
            "display": null,
            "flex": null,
            "flex_flow": null,
            "grid_area": null,
            "grid_auto_columns": null,
            "grid_auto_flow": null,
            "grid_auto_rows": null,
            "grid_column": null,
            "grid_gap": null,
            "grid_row": null,
            "grid_template_areas": null,
            "grid_template_columns": null,
            "grid_template_rows": null,
            "height": null,
            "justify_content": null,
            "justify_items": null,
            "left": null,
            "margin": null,
            "max_height": null,
            "max_width": null,
            "min_height": null,
            "min_width": null,
            "object_fit": null,
            "object_position": null,
            "order": null,
            "overflow": null,
            "overflow_x": null,
            "overflow_y": null,
            "padding": null,
            "right": null,
            "top": null,
            "visibility": null,
            "width": null
          }
        },
        "2213b49563174cec83be77ecd88263f9": {
          "model_module": "@jupyter-widgets/controls",
          "model_name": "DescriptionStyleModel",
          "model_module_version": "1.5.0",
          "state": {
            "_model_module": "@jupyter-widgets/controls",
            "_model_module_version": "1.5.0",
            "_model_name": "DescriptionStyleModel",
            "_view_count": null,
            "_view_module": "@jupyter-widgets/base",
            "_view_module_version": "1.2.0",
            "_view_name": "StyleView",
            "description_width": ""
          }
        },
        "3a30363861cb419c92b915dfde39947d": {
          "model_module": "@jupyter-widgets/base",
          "model_name": "LayoutModel",
          "model_module_version": "1.2.0",
          "state": {
            "_model_module": "@jupyter-widgets/base",
            "_model_module_version": "1.2.0",
            "_model_name": "LayoutModel",
            "_view_count": null,
            "_view_module": "@jupyter-widgets/base",
            "_view_module_version": "1.2.0",
            "_view_name": "LayoutView",
            "align_content": null,
            "align_items": null,
            "align_self": null,
            "border": null,
            "bottom": null,
            "display": null,
            "flex": null,
            "flex_flow": null,
            "grid_area": null,
            "grid_auto_columns": null,
            "grid_auto_flow": null,
            "grid_auto_rows": null,
            "grid_column": null,
            "grid_gap": null,
            "grid_row": null,
            "grid_template_areas": null,
            "grid_template_columns": null,
            "grid_template_rows": null,
            "height": null,
            "justify_content": null,
            "justify_items": null,
            "left": null,
            "margin": null,
            "max_height": null,
            "max_width": null,
            "min_height": null,
            "min_width": null,
            "object_fit": null,
            "object_position": null,
            "order": null,
            "overflow": null,
            "overflow_x": null,
            "overflow_y": null,
            "padding": null,
            "right": null,
            "top": null,
            "visibility": null,
            "width": null
          }
        },
        "a46681e0b77446cdbf0b3e5fb4fb6df8": {
          "model_module": "@jupyter-widgets/controls",
          "model_name": "ProgressStyleModel",
          "model_module_version": "1.5.0",
          "state": {
            "_model_module": "@jupyter-widgets/controls",
            "_model_module_version": "1.5.0",
            "_model_name": "ProgressStyleModel",
            "_view_count": null,
            "_view_module": "@jupyter-widgets/base",
            "_view_module_version": "1.2.0",
            "_view_name": "StyleView",
            "bar_color": null,
            "description_width": ""
          }
        },
        "e88fdb1f8365414c886b7552e434cf91": {
          "model_module": "@jupyter-widgets/base",
          "model_name": "LayoutModel",
          "model_module_version": "1.2.0",
          "state": {
            "_model_module": "@jupyter-widgets/base",
            "_model_module_version": "1.2.0",
            "_model_name": "LayoutModel",
            "_view_count": null,
            "_view_module": "@jupyter-widgets/base",
            "_view_module_version": "1.2.0",
            "_view_name": "LayoutView",
            "align_content": null,
            "align_items": null,
            "align_self": null,
            "border": null,
            "bottom": null,
            "display": null,
            "flex": null,
            "flex_flow": null,
            "grid_area": null,
            "grid_auto_columns": null,
            "grid_auto_flow": null,
            "grid_auto_rows": null,
            "grid_column": null,
            "grid_gap": null,
            "grid_row": null,
            "grid_template_areas": null,
            "grid_template_columns": null,
            "grid_template_rows": null,
            "height": null,
            "justify_content": null,
            "justify_items": null,
            "left": null,
            "margin": null,
            "max_height": null,
            "max_width": null,
            "min_height": null,
            "min_width": null,
            "object_fit": null,
            "object_position": null,
            "order": null,
            "overflow": null,
            "overflow_x": null,
            "overflow_y": null,
            "padding": null,
            "right": null,
            "top": null,
            "visibility": null,
            "width": null
          }
        },
        "b710f3932e404ad5beb1da1896545fa4": {
          "model_module": "@jupyter-widgets/controls",
          "model_name": "DescriptionStyleModel",
          "model_module_version": "1.5.0",
          "state": {
            "_model_module": "@jupyter-widgets/controls",
            "_model_module_version": "1.5.0",
            "_model_name": "DescriptionStyleModel",
            "_view_count": null,
            "_view_module": "@jupyter-widgets/base",
            "_view_module_version": "1.2.0",
            "_view_name": "StyleView",
            "description_width": ""
          }
        },
        "60af50a85a1a4f6cac86fb0a8adbed7e": {
          "model_module": "@jupyter-widgets/controls",
          "model_name": "HBoxModel",
          "model_module_version": "1.5.0",
          "state": {
            "_dom_classes": [],
            "_model_module": "@jupyter-widgets/controls",
            "_model_module_version": "1.5.0",
            "_model_name": "HBoxModel",
            "_view_count": null,
            "_view_module": "@jupyter-widgets/controls",
            "_view_module_version": "1.5.0",
            "_view_name": "HBoxView",
            "box_style": "",
            "children": [
              "IPY_MODEL_2e0cb3ce53be4e7a9b35d2abe85e11de",
              "IPY_MODEL_d67c5a8baded430a986426413bf9787f",
              "IPY_MODEL_54174b80564d40759c8d78dd09f7f5a0"
            ],
            "layout": "IPY_MODEL_e3847020bba543fea64fddd6b2a77d96"
          }
        },
        "2e0cb3ce53be4e7a9b35d2abe85e11de": {
          "model_module": "@jupyter-widgets/controls",
          "model_name": "HTMLModel",
          "model_module_version": "1.5.0",
          "state": {
            "_dom_classes": [],
            "_model_module": "@jupyter-widgets/controls",
            "_model_module_version": "1.5.0",
            "_model_name": "HTMLModel",
            "_view_count": null,
            "_view_module": "@jupyter-widgets/controls",
            "_view_module_version": "1.5.0",
            "_view_name": "HTMLView",
            "description": "",
            "description_tooltip": null,
            "layout": "IPY_MODEL_189dba6e19654b79a2c11ef61d3c50b4",
            "placeholder": "​",
            "style": "IPY_MODEL_4130efd1372248ac92216b1818c416bc",
            "value": "tokenizer_config.json: "
          }
        },
        "d67c5a8baded430a986426413bf9787f": {
          "model_module": "@jupyter-widgets/controls",
          "model_name": "FloatProgressModel",
          "model_module_version": "1.5.0",
          "state": {
            "_dom_classes": [],
            "_model_module": "@jupyter-widgets/controls",
            "_model_module_version": "1.5.0",
            "_model_name": "FloatProgressModel",
            "_view_count": null,
            "_view_module": "@jupyter-widgets/controls",
            "_view_module_version": "1.5.0",
            "_view_name": "ProgressView",
            "bar_style": "success",
            "description": "",
            "description_tooltip": null,
            "layout": "IPY_MODEL_66003d9640aa4020b73085ea8a492612",
            "max": 1,
            "min": 0,
            "orientation": "horizontal",
            "style": "IPY_MODEL_d0b24ac8114246719d37e06afd4b5165",
            "value": 1
          }
        },
        "54174b80564d40759c8d78dd09f7f5a0": {
          "model_module": "@jupyter-widgets/controls",
          "model_name": "HTMLModel",
          "model_module_version": "1.5.0",
          "state": {
            "_dom_classes": [],
            "_model_module": "@jupyter-widgets/controls",
            "_model_module_version": "1.5.0",
            "_model_name": "HTMLModel",
            "_view_count": null,
            "_view_module": "@jupyter-widgets/controls",
            "_view_module_version": "1.5.0",
            "_view_name": "HTMLView",
            "description": "",
            "description_tooltip": null,
            "layout": "IPY_MODEL_bde08a4827884e9baa866710ccd9c6a1",
            "placeholder": "​",
            "style": "IPY_MODEL_a0cadf7919794f8b824835aff258c3b0",
            "value": " 7.30k/? [00:00&lt;00:00, 462kB/s]"
          }
        },
        "e3847020bba543fea64fddd6b2a77d96": {
          "model_module": "@jupyter-widgets/base",
          "model_name": "LayoutModel",
          "model_module_version": "1.2.0",
          "state": {
            "_model_module": "@jupyter-widgets/base",
            "_model_module_version": "1.2.0",
            "_model_name": "LayoutModel",
            "_view_count": null,
            "_view_module": "@jupyter-widgets/base",
            "_view_module_version": "1.2.0",
            "_view_name": "LayoutView",
            "align_content": null,
            "align_items": null,
            "align_self": null,
            "border": null,
            "bottom": null,
            "display": null,
            "flex": null,
            "flex_flow": null,
            "grid_area": null,
            "grid_auto_columns": null,
            "grid_auto_flow": null,
            "grid_auto_rows": null,
            "grid_column": null,
            "grid_gap": null,
            "grid_row": null,
            "grid_template_areas": null,
            "grid_template_columns": null,
            "grid_template_rows": null,
            "height": null,
            "justify_content": null,
            "justify_items": null,
            "left": null,
            "margin": null,
            "max_height": null,
            "max_width": null,
            "min_height": null,
            "min_width": null,
            "object_fit": null,
            "object_position": null,
            "order": null,
            "overflow": null,
            "overflow_x": null,
            "overflow_y": null,
            "padding": null,
            "right": null,
            "top": null,
            "visibility": null,
            "width": null
          }
        },
        "189dba6e19654b79a2c11ef61d3c50b4": {
          "model_module": "@jupyter-widgets/base",
          "model_name": "LayoutModel",
          "model_module_version": "1.2.0",
          "state": {
            "_model_module": "@jupyter-widgets/base",
            "_model_module_version": "1.2.0",
            "_model_name": "LayoutModel",
            "_view_count": null,
            "_view_module": "@jupyter-widgets/base",
            "_view_module_version": "1.2.0",
            "_view_name": "LayoutView",
            "align_content": null,
            "align_items": null,
            "align_self": null,
            "border": null,
            "bottom": null,
            "display": null,
            "flex": null,
            "flex_flow": null,
            "grid_area": null,
            "grid_auto_columns": null,
            "grid_auto_flow": null,
            "grid_auto_rows": null,
            "grid_column": null,
            "grid_gap": null,
            "grid_row": null,
            "grid_template_areas": null,
            "grid_template_columns": null,
            "grid_template_rows": null,
            "height": null,
            "justify_content": null,
            "justify_items": null,
            "left": null,
            "margin": null,
            "max_height": null,
            "max_width": null,
            "min_height": null,
            "min_width": null,
            "object_fit": null,
            "object_position": null,
            "order": null,
            "overflow": null,
            "overflow_x": null,
            "overflow_y": null,
            "padding": null,
            "right": null,
            "top": null,
            "visibility": null,
            "width": null
          }
        },
        "4130efd1372248ac92216b1818c416bc": {
          "model_module": "@jupyter-widgets/controls",
          "model_name": "DescriptionStyleModel",
          "model_module_version": "1.5.0",
          "state": {
            "_model_module": "@jupyter-widgets/controls",
            "_model_module_version": "1.5.0",
            "_model_name": "DescriptionStyleModel",
            "_view_count": null,
            "_view_module": "@jupyter-widgets/base",
            "_view_module_version": "1.2.0",
            "_view_name": "StyleView",
            "description_width": ""
          }
        },
        "66003d9640aa4020b73085ea8a492612": {
          "model_module": "@jupyter-widgets/base",
          "model_name": "LayoutModel",
          "model_module_version": "1.2.0",
          "state": {
            "_model_module": "@jupyter-widgets/base",
            "_model_module_version": "1.2.0",
            "_model_name": "LayoutModel",
            "_view_count": null,
            "_view_module": "@jupyter-widgets/base",
            "_view_module_version": "1.2.0",
            "_view_name": "LayoutView",
            "align_content": null,
            "align_items": null,
            "align_self": null,
            "border": null,
            "bottom": null,
            "display": null,
            "flex": null,
            "flex_flow": null,
            "grid_area": null,
            "grid_auto_columns": null,
            "grid_auto_flow": null,
            "grid_auto_rows": null,
            "grid_column": null,
            "grid_gap": null,
            "grid_row": null,
            "grid_template_areas": null,
            "grid_template_columns": null,
            "grid_template_rows": null,
            "height": null,
            "justify_content": null,
            "justify_items": null,
            "left": null,
            "margin": null,
            "max_height": null,
            "max_width": null,
            "min_height": null,
            "min_width": null,
            "object_fit": null,
            "object_position": null,
            "order": null,
            "overflow": null,
            "overflow_x": null,
            "overflow_y": null,
            "padding": null,
            "right": null,
            "top": null,
            "visibility": null,
            "width": "20px"
          }
        },
        "d0b24ac8114246719d37e06afd4b5165": {
          "model_module": "@jupyter-widgets/controls",
          "model_name": "ProgressStyleModel",
          "model_module_version": "1.5.0",
          "state": {
            "_model_module": "@jupyter-widgets/controls",
            "_model_module_version": "1.5.0",
            "_model_name": "ProgressStyleModel",
            "_view_count": null,
            "_view_module": "@jupyter-widgets/base",
            "_view_module_version": "1.2.0",
            "_view_name": "StyleView",
            "bar_color": null,
            "description_width": ""
          }
        },
        "bde08a4827884e9baa866710ccd9c6a1": {
          "model_module": "@jupyter-widgets/base",
          "model_name": "LayoutModel",
          "model_module_version": "1.2.0",
          "state": {
            "_model_module": "@jupyter-widgets/base",
            "_model_module_version": "1.2.0",
            "_model_name": "LayoutModel",
            "_view_count": null,
            "_view_module": "@jupyter-widgets/base",
            "_view_module_version": "1.2.0",
            "_view_name": "LayoutView",
            "align_content": null,
            "align_items": null,
            "align_self": null,
            "border": null,
            "bottom": null,
            "display": null,
            "flex": null,
            "flex_flow": null,
            "grid_area": null,
            "grid_auto_columns": null,
            "grid_auto_flow": null,
            "grid_auto_rows": null,
            "grid_column": null,
            "grid_gap": null,
            "grid_row": null,
            "grid_template_areas": null,
            "grid_template_columns": null,
            "grid_template_rows": null,
            "height": null,
            "justify_content": null,
            "justify_items": null,
            "left": null,
            "margin": null,
            "max_height": null,
            "max_width": null,
            "min_height": null,
            "min_width": null,
            "object_fit": null,
            "object_position": null,
            "order": null,
            "overflow": null,
            "overflow_x": null,
            "overflow_y": null,
            "padding": null,
            "right": null,
            "top": null,
            "visibility": null,
            "width": null
          }
        },
        "a0cadf7919794f8b824835aff258c3b0": {
          "model_module": "@jupyter-widgets/controls",
          "model_name": "DescriptionStyleModel",
          "model_module_version": "1.5.0",
          "state": {
            "_model_module": "@jupyter-widgets/controls",
            "_model_module_version": "1.5.0",
            "_model_name": "DescriptionStyleModel",
            "_view_count": null,
            "_view_module": "@jupyter-widgets/base",
            "_view_module_version": "1.2.0",
            "_view_name": "StyleView",
            "description_width": ""
          }
        },
        "69ef2dbb3288406f98951f295d162bdf": {
          "model_module": "@jupyter-widgets/controls",
          "model_name": "HBoxModel",
          "model_module_version": "1.5.0",
          "state": {
            "_dom_classes": [],
            "_model_module": "@jupyter-widgets/controls",
            "_model_module_version": "1.5.0",
            "_model_name": "HBoxModel",
            "_view_count": null,
            "_view_module": "@jupyter-widgets/controls",
            "_view_module_version": "1.5.0",
            "_view_name": "HBoxView",
            "box_style": "",
            "children": [
              "IPY_MODEL_61275a1f50504b10b516b29644b7e5ec",
              "IPY_MODEL_3fecb8e3416f43b49ea93c212bd21c3e",
              "IPY_MODEL_ac526a2abef84dcd971178c68f70f8c6"
            ],
            "layout": "IPY_MODEL_c28e55bb728b4015989a475a001cfdb8"
          }
        },
        "61275a1f50504b10b516b29644b7e5ec": {
          "model_module": "@jupyter-widgets/controls",
          "model_name": "HTMLModel",
          "model_module_version": "1.5.0",
          "state": {
            "_dom_classes": [],
            "_model_module": "@jupyter-widgets/controls",
            "_model_module_version": "1.5.0",
            "_model_name": "HTMLModel",
            "_view_count": null,
            "_view_module": "@jupyter-widgets/controls",
            "_view_module_version": "1.5.0",
            "_view_name": "HTMLView",
            "description": "",
            "description_tooltip": null,
            "layout": "IPY_MODEL_60af46fcb02c40bfb6ac5d63459c139f",
            "placeholder": "​",
            "style": "IPY_MODEL_6922b45f91a14a5e8e231b3f5853c364",
            "value": "vocab.json: "
          }
        },
        "3fecb8e3416f43b49ea93c212bd21c3e": {
          "model_module": "@jupyter-widgets/controls",
          "model_name": "FloatProgressModel",
          "model_module_version": "1.5.0",
          "state": {
            "_dom_classes": [],
            "_model_module": "@jupyter-widgets/controls",
            "_model_module_version": "1.5.0",
            "_model_name": "FloatProgressModel",
            "_view_count": null,
            "_view_module": "@jupyter-widgets/controls",
            "_view_module_version": "1.5.0",
            "_view_name": "ProgressView",
            "bar_style": "success",
            "description": "",
            "description_tooltip": null,
            "layout": "IPY_MODEL_d94edbe6a20546ccac0b7e4814a72990",
            "max": 1,
            "min": 0,
            "orientation": "horizontal",
            "style": "IPY_MODEL_37d999d4cecb40149c856caf6dbaf48f",
            "value": 1
          }
        },
        "ac526a2abef84dcd971178c68f70f8c6": {
          "model_module": "@jupyter-widgets/controls",
          "model_name": "HTMLModel",
          "model_module_version": "1.5.0",
          "state": {
            "_dom_classes": [],
            "_model_module": "@jupyter-widgets/controls",
            "_model_module_version": "1.5.0",
            "_model_name": "HTMLModel",
            "_view_count": null,
            "_view_module": "@jupyter-widgets/controls",
            "_view_module_version": "1.5.0",
            "_view_name": "HTMLView",
            "description": "",
            "description_tooltip": null,
            "layout": "IPY_MODEL_5530e3ff00ca41d99c1fe2a3846e56af",
            "placeholder": "​",
            "style": "IPY_MODEL_9236dbe04f154c13a4d7dc6e0b514451",
            "value": " 2.78M/? [00:00&lt;00:00, 35.8MB/s]"
          }
        },
        "c28e55bb728b4015989a475a001cfdb8": {
          "model_module": "@jupyter-widgets/base",
          "model_name": "LayoutModel",
          "model_module_version": "1.2.0",
          "state": {
            "_model_module": "@jupyter-widgets/base",
            "_model_module_version": "1.2.0",
            "_model_name": "LayoutModel",
            "_view_count": null,
            "_view_module": "@jupyter-widgets/base",
            "_view_module_version": "1.2.0",
            "_view_name": "LayoutView",
            "align_content": null,
            "align_items": null,
            "align_self": null,
            "border": null,
            "bottom": null,
            "display": null,
            "flex": null,
            "flex_flow": null,
            "grid_area": null,
            "grid_auto_columns": null,
            "grid_auto_flow": null,
            "grid_auto_rows": null,
            "grid_column": null,
            "grid_gap": null,
            "grid_row": null,
            "grid_template_areas": null,
            "grid_template_columns": null,
            "grid_template_rows": null,
            "height": null,
            "justify_content": null,
            "justify_items": null,
            "left": null,
            "margin": null,
            "max_height": null,
            "max_width": null,
            "min_height": null,
            "min_width": null,
            "object_fit": null,
            "object_position": null,
            "order": null,
            "overflow": null,
            "overflow_x": null,
            "overflow_y": null,
            "padding": null,
            "right": null,
            "top": null,
            "visibility": null,
            "width": null
          }
        },
        "60af46fcb02c40bfb6ac5d63459c139f": {
          "model_module": "@jupyter-widgets/base",
          "model_name": "LayoutModel",
          "model_module_version": "1.2.0",
          "state": {
            "_model_module": "@jupyter-widgets/base",
            "_model_module_version": "1.2.0",
            "_model_name": "LayoutModel",
            "_view_count": null,
            "_view_module": "@jupyter-widgets/base",
            "_view_module_version": "1.2.0",
            "_view_name": "LayoutView",
            "align_content": null,
            "align_items": null,
            "align_self": null,
            "border": null,
            "bottom": null,
            "display": null,
            "flex": null,
            "flex_flow": null,
            "grid_area": null,
            "grid_auto_columns": null,
            "grid_auto_flow": null,
            "grid_auto_rows": null,
            "grid_column": null,
            "grid_gap": null,
            "grid_row": null,
            "grid_template_areas": null,
            "grid_template_columns": null,
            "grid_template_rows": null,
            "height": null,
            "justify_content": null,
            "justify_items": null,
            "left": null,
            "margin": null,
            "max_height": null,
            "max_width": null,
            "min_height": null,
            "min_width": null,
            "object_fit": null,
            "object_position": null,
            "order": null,
            "overflow": null,
            "overflow_x": null,
            "overflow_y": null,
            "padding": null,
            "right": null,
            "top": null,
            "visibility": null,
            "width": null
          }
        },
        "6922b45f91a14a5e8e231b3f5853c364": {
          "model_module": "@jupyter-widgets/controls",
          "model_name": "DescriptionStyleModel",
          "model_module_version": "1.5.0",
          "state": {
            "_model_module": "@jupyter-widgets/controls",
            "_model_module_version": "1.5.0",
            "_model_name": "DescriptionStyleModel",
            "_view_count": null,
            "_view_module": "@jupyter-widgets/base",
            "_view_module_version": "1.2.0",
            "_view_name": "StyleView",
            "description_width": ""
          }
        },
        "d94edbe6a20546ccac0b7e4814a72990": {
          "model_module": "@jupyter-widgets/base",
          "model_name": "LayoutModel",
          "model_module_version": "1.2.0",
          "state": {
            "_model_module": "@jupyter-widgets/base",
            "_model_module_version": "1.2.0",
            "_model_name": "LayoutModel",
            "_view_count": null,
            "_view_module": "@jupyter-widgets/base",
            "_view_module_version": "1.2.0",
            "_view_name": "LayoutView",
            "align_content": null,
            "align_items": null,
            "align_self": null,
            "border": null,
            "bottom": null,
            "display": null,
            "flex": null,
            "flex_flow": null,
            "grid_area": null,
            "grid_auto_columns": null,
            "grid_auto_flow": null,
            "grid_auto_rows": null,
            "grid_column": null,
            "grid_gap": null,
            "grid_row": null,
            "grid_template_areas": null,
            "grid_template_columns": null,
            "grid_template_rows": null,
            "height": null,
            "justify_content": null,
            "justify_items": null,
            "left": null,
            "margin": null,
            "max_height": null,
            "max_width": null,
            "min_height": null,
            "min_width": null,
            "object_fit": null,
            "object_position": null,
            "order": null,
            "overflow": null,
            "overflow_x": null,
            "overflow_y": null,
            "padding": null,
            "right": null,
            "top": null,
            "visibility": null,
            "width": "20px"
          }
        },
        "37d999d4cecb40149c856caf6dbaf48f": {
          "model_module": "@jupyter-widgets/controls",
          "model_name": "ProgressStyleModel",
          "model_module_version": "1.5.0",
          "state": {
            "_model_module": "@jupyter-widgets/controls",
            "_model_module_version": "1.5.0",
            "_model_name": "ProgressStyleModel",
            "_view_count": null,
            "_view_module": "@jupyter-widgets/base",
            "_view_module_version": "1.2.0",
            "_view_name": "StyleView",
            "bar_color": null,
            "description_width": ""
          }
        },
        "5530e3ff00ca41d99c1fe2a3846e56af": {
          "model_module": "@jupyter-widgets/base",
          "model_name": "LayoutModel",
          "model_module_version": "1.2.0",
          "state": {
            "_model_module": "@jupyter-widgets/base",
            "_model_module_version": "1.2.0",
            "_model_name": "LayoutModel",
            "_view_count": null,
            "_view_module": "@jupyter-widgets/base",
            "_view_module_version": "1.2.0",
            "_view_name": "LayoutView",
            "align_content": null,
            "align_items": null,
            "align_self": null,
            "border": null,
            "bottom": null,
            "display": null,
            "flex": null,
            "flex_flow": null,
            "grid_area": null,
            "grid_auto_columns": null,
            "grid_auto_flow": null,
            "grid_auto_rows": null,
            "grid_column": null,
            "grid_gap": null,
            "grid_row": null,
            "grid_template_areas": null,
            "grid_template_columns": null,
            "grid_template_rows": null,
            "height": null,
            "justify_content": null,
            "justify_items": null,
            "left": null,
            "margin": null,
            "max_height": null,
            "max_width": null,
            "min_height": null,
            "min_width": null,
            "object_fit": null,
            "object_position": null,
            "order": null,
            "overflow": null,
            "overflow_x": null,
            "overflow_y": null,
            "padding": null,
            "right": null,
            "top": null,
            "visibility": null,
            "width": null
          }
        },
        "9236dbe04f154c13a4d7dc6e0b514451": {
          "model_module": "@jupyter-widgets/controls",
          "model_name": "DescriptionStyleModel",
          "model_module_version": "1.5.0",
          "state": {
            "_model_module": "@jupyter-widgets/controls",
            "_model_module_version": "1.5.0",
            "_model_name": "DescriptionStyleModel",
            "_view_count": null,
            "_view_module": "@jupyter-widgets/base",
            "_view_module_version": "1.2.0",
            "_view_name": "StyleView",
            "description_width": ""
          }
        },
        "a114a1a3fb9d45359da69742c3f37dc5": {
          "model_module": "@jupyter-widgets/controls",
          "model_name": "HBoxModel",
          "model_module_version": "1.5.0",
          "state": {
            "_dom_classes": [],
            "_model_module": "@jupyter-widgets/controls",
            "_model_module_version": "1.5.0",
            "_model_name": "HBoxModel",
            "_view_count": null,
            "_view_module": "@jupyter-widgets/controls",
            "_view_module_version": "1.5.0",
            "_view_name": "HBoxView",
            "box_style": "",
            "children": [
              "IPY_MODEL_dd7745023dc24039a10a82da32f3180b",
              "IPY_MODEL_43be58a1d6274e9590b252d47b9d94dc",
              "IPY_MODEL_972f0cb5b7e342f0beddb9f31d1e02c1"
            ],
            "layout": "IPY_MODEL_a56d416a2d6449a1914bbd6c18421aba"
          }
        },
        "dd7745023dc24039a10a82da32f3180b": {
          "model_module": "@jupyter-widgets/controls",
          "model_name": "HTMLModel",
          "model_module_version": "1.5.0",
          "state": {
            "_dom_classes": [],
            "_model_module": "@jupyter-widgets/controls",
            "_model_module_version": "1.5.0",
            "_model_name": "HTMLModel",
            "_view_count": null,
            "_view_module": "@jupyter-widgets/controls",
            "_view_module_version": "1.5.0",
            "_view_name": "HTMLView",
            "description": "",
            "description_tooltip": null,
            "layout": "IPY_MODEL_6f83f80b1bc9449eb82c35a0bacaf789",
            "placeholder": "​",
            "style": "IPY_MODEL_9e477a40d1d04726ac8161bbcca69787",
            "value": "merges.txt: "
          }
        },
        "43be58a1d6274e9590b252d47b9d94dc": {
          "model_module": "@jupyter-widgets/controls",
          "model_name": "FloatProgressModel",
          "model_module_version": "1.5.0",
          "state": {
            "_dom_classes": [],
            "_model_module": "@jupyter-widgets/controls",
            "_model_module_version": "1.5.0",
            "_model_name": "FloatProgressModel",
            "_view_count": null,
            "_view_module": "@jupyter-widgets/controls",
            "_view_module_version": "1.5.0",
            "_view_name": "ProgressView",
            "bar_style": "success",
            "description": "",
            "description_tooltip": null,
            "layout": "IPY_MODEL_d46340c26b1444218d441234c4bd55c6",
            "max": 1,
            "min": 0,
            "orientation": "horizontal",
            "style": "IPY_MODEL_37bb782d60a24a35b078f76eb3b3566e",
            "value": 1
          }
        },
        "972f0cb5b7e342f0beddb9f31d1e02c1": {
          "model_module": "@jupyter-widgets/controls",
          "model_name": "HTMLModel",
          "model_module_version": "1.5.0",
          "state": {
            "_dom_classes": [],
            "_model_module": "@jupyter-widgets/controls",
            "_model_module_version": "1.5.0",
            "_model_name": "HTMLModel",
            "_view_count": null,
            "_view_module": "@jupyter-widgets/controls",
            "_view_module_version": "1.5.0",
            "_view_name": "HTMLView",
            "description": "",
            "description_tooltip": null,
            "layout": "IPY_MODEL_42b02fbecf5c4708b46fbcffa48b2def",
            "placeholder": "​",
            "style": "IPY_MODEL_83512341ce534f36b2b0044e97a3cb96",
            "value": " 1.67M/? [00:00&lt;00:00, 51.0MB/s]"
          }
        },
        "a56d416a2d6449a1914bbd6c18421aba": {
          "model_module": "@jupyter-widgets/base",
          "model_name": "LayoutModel",
          "model_module_version": "1.2.0",
          "state": {
            "_model_module": "@jupyter-widgets/base",
            "_model_module_version": "1.2.0",
            "_model_name": "LayoutModel",
            "_view_count": null,
            "_view_module": "@jupyter-widgets/base",
            "_view_module_version": "1.2.0",
            "_view_name": "LayoutView",
            "align_content": null,
            "align_items": null,
            "align_self": null,
            "border": null,
            "bottom": null,
            "display": null,
            "flex": null,
            "flex_flow": null,
            "grid_area": null,
            "grid_auto_columns": null,
            "grid_auto_flow": null,
            "grid_auto_rows": null,
            "grid_column": null,
            "grid_gap": null,
            "grid_row": null,
            "grid_template_areas": null,
            "grid_template_columns": null,
            "grid_template_rows": null,
            "height": null,
            "justify_content": null,
            "justify_items": null,
            "left": null,
            "margin": null,
            "max_height": null,
            "max_width": null,
            "min_height": null,
            "min_width": null,
            "object_fit": null,
            "object_position": null,
            "order": null,
            "overflow": null,
            "overflow_x": null,
            "overflow_y": null,
            "padding": null,
            "right": null,
            "top": null,
            "visibility": null,
            "width": null
          }
        },
        "6f83f80b1bc9449eb82c35a0bacaf789": {
          "model_module": "@jupyter-widgets/base",
          "model_name": "LayoutModel",
          "model_module_version": "1.2.0",
          "state": {
            "_model_module": "@jupyter-widgets/base",
            "_model_module_version": "1.2.0",
            "_model_name": "LayoutModel",
            "_view_count": null,
            "_view_module": "@jupyter-widgets/base",
            "_view_module_version": "1.2.0",
            "_view_name": "LayoutView",
            "align_content": null,
            "align_items": null,
            "align_self": null,
            "border": null,
            "bottom": null,
            "display": null,
            "flex": null,
            "flex_flow": null,
            "grid_area": null,
            "grid_auto_columns": null,
            "grid_auto_flow": null,
            "grid_auto_rows": null,
            "grid_column": null,
            "grid_gap": null,
            "grid_row": null,
            "grid_template_areas": null,
            "grid_template_columns": null,
            "grid_template_rows": null,
            "height": null,
            "justify_content": null,
            "justify_items": null,
            "left": null,
            "margin": null,
            "max_height": null,
            "max_width": null,
            "min_height": null,
            "min_width": null,
            "object_fit": null,
            "object_position": null,
            "order": null,
            "overflow": null,
            "overflow_x": null,
            "overflow_y": null,
            "padding": null,
            "right": null,
            "top": null,
            "visibility": null,
            "width": null
          }
        },
        "9e477a40d1d04726ac8161bbcca69787": {
          "model_module": "@jupyter-widgets/controls",
          "model_name": "DescriptionStyleModel",
          "model_module_version": "1.5.0",
          "state": {
            "_model_module": "@jupyter-widgets/controls",
            "_model_module_version": "1.5.0",
            "_model_name": "DescriptionStyleModel",
            "_view_count": null,
            "_view_module": "@jupyter-widgets/base",
            "_view_module_version": "1.2.0",
            "_view_name": "StyleView",
            "description_width": ""
          }
        },
        "d46340c26b1444218d441234c4bd55c6": {
          "model_module": "@jupyter-widgets/base",
          "model_name": "LayoutModel",
          "model_module_version": "1.2.0",
          "state": {
            "_model_module": "@jupyter-widgets/base",
            "_model_module_version": "1.2.0",
            "_model_name": "LayoutModel",
            "_view_count": null,
            "_view_module": "@jupyter-widgets/base",
            "_view_module_version": "1.2.0",
            "_view_name": "LayoutView",
            "align_content": null,
            "align_items": null,
            "align_self": null,
            "border": null,
            "bottom": null,
            "display": null,
            "flex": null,
            "flex_flow": null,
            "grid_area": null,
            "grid_auto_columns": null,
            "grid_auto_flow": null,
            "grid_auto_rows": null,
            "grid_column": null,
            "grid_gap": null,
            "grid_row": null,
            "grid_template_areas": null,
            "grid_template_columns": null,
            "grid_template_rows": null,
            "height": null,
            "justify_content": null,
            "justify_items": null,
            "left": null,
            "margin": null,
            "max_height": null,
            "max_width": null,
            "min_height": null,
            "min_width": null,
            "object_fit": null,
            "object_position": null,
            "order": null,
            "overflow": null,
            "overflow_x": null,
            "overflow_y": null,
            "padding": null,
            "right": null,
            "top": null,
            "visibility": null,
            "width": "20px"
          }
        },
        "37bb782d60a24a35b078f76eb3b3566e": {
          "model_module": "@jupyter-widgets/controls",
          "model_name": "ProgressStyleModel",
          "model_module_version": "1.5.0",
          "state": {
            "_model_module": "@jupyter-widgets/controls",
            "_model_module_version": "1.5.0",
            "_model_name": "ProgressStyleModel",
            "_view_count": null,
            "_view_module": "@jupyter-widgets/base",
            "_view_module_version": "1.2.0",
            "_view_name": "StyleView",
            "bar_color": null,
            "description_width": ""
          }
        },
        "42b02fbecf5c4708b46fbcffa48b2def": {
          "model_module": "@jupyter-widgets/base",
          "model_name": "LayoutModel",
          "model_module_version": "1.2.0",
          "state": {
            "_model_module": "@jupyter-widgets/base",
            "_model_module_version": "1.2.0",
            "_model_name": "LayoutModel",
            "_view_count": null,
            "_view_module": "@jupyter-widgets/base",
            "_view_module_version": "1.2.0",
            "_view_name": "LayoutView",
            "align_content": null,
            "align_items": null,
            "align_self": null,
            "border": null,
            "bottom": null,
            "display": null,
            "flex": null,
            "flex_flow": null,
            "grid_area": null,
            "grid_auto_columns": null,
            "grid_auto_flow": null,
            "grid_auto_rows": null,
            "grid_column": null,
            "grid_gap": null,
            "grid_row": null,
            "grid_template_areas": null,
            "grid_template_columns": null,
            "grid_template_rows": null,
            "height": null,
            "justify_content": null,
            "justify_items": null,
            "left": null,
            "margin": null,
            "max_height": null,
            "max_width": null,
            "min_height": null,
            "min_width": null,
            "object_fit": null,
            "object_position": null,
            "order": null,
            "overflow": null,
            "overflow_x": null,
            "overflow_y": null,
            "padding": null,
            "right": null,
            "top": null,
            "visibility": null,
            "width": null
          }
        },
        "83512341ce534f36b2b0044e97a3cb96": {
          "model_module": "@jupyter-widgets/controls",
          "model_name": "DescriptionStyleModel",
          "model_module_version": "1.5.0",
          "state": {
            "_model_module": "@jupyter-widgets/controls",
            "_model_module_version": "1.5.0",
            "_model_name": "DescriptionStyleModel",
            "_view_count": null,
            "_view_module": "@jupyter-widgets/base",
            "_view_module_version": "1.2.0",
            "_view_name": "StyleView",
            "description_width": ""
          }
        },
        "ba784877fea04f82b67c7e94796ba7d7": {
          "model_module": "@jupyter-widgets/controls",
          "model_name": "HBoxModel",
          "model_module_version": "1.5.0",
          "state": {
            "_dom_classes": [],
            "_model_module": "@jupyter-widgets/controls",
            "_model_module_version": "1.5.0",
            "_model_name": "HBoxModel",
            "_view_count": null,
            "_view_module": "@jupyter-widgets/controls",
            "_view_module_version": "1.5.0",
            "_view_name": "HBoxView",
            "box_style": "",
            "children": [
              "IPY_MODEL_76515fa00b394235b99cd0b09dd20148",
              "IPY_MODEL_f1b1f3e0cd1d4eb6a9a0bc141fe1c83a",
              "IPY_MODEL_87838652ccba47a090eba129ad7bf49d"
            ],
            "layout": "IPY_MODEL_bb48cf96684741cdb62c5d6889067d40"
          }
        },
        "76515fa00b394235b99cd0b09dd20148": {
          "model_module": "@jupyter-widgets/controls",
          "model_name": "HTMLModel",
          "model_module_version": "1.5.0",
          "state": {
            "_dom_classes": [],
            "_model_module": "@jupyter-widgets/controls",
            "_model_module_version": "1.5.0",
            "_model_name": "HTMLModel",
            "_view_count": null,
            "_view_module": "@jupyter-widgets/controls",
            "_view_module_version": "1.5.0",
            "_view_name": "HTMLView",
            "description": "",
            "description_tooltip": null,
            "layout": "IPY_MODEL_6da86b5e9a374d548f147e4219a1c16c",
            "placeholder": "​",
            "style": "IPY_MODEL_2b044654d8e846188321994ad9520c97",
            "value": "tokenizer.json: "
          }
        },
        "f1b1f3e0cd1d4eb6a9a0bc141fe1c83a": {
          "model_module": "@jupyter-widgets/controls",
          "model_name": "FloatProgressModel",
          "model_module_version": "1.5.0",
          "state": {
            "_dom_classes": [],
            "_model_module": "@jupyter-widgets/controls",
            "_model_module_version": "1.5.0",
            "_model_name": "FloatProgressModel",
            "_view_count": null,
            "_view_module": "@jupyter-widgets/controls",
            "_view_module_version": "1.5.0",
            "_view_name": "ProgressView",
            "bar_style": "success",
            "description": "",
            "description_tooltip": null,
            "layout": "IPY_MODEL_b2fe9ef69f074790b486d671c06385f6",
            "max": 1,
            "min": 0,
            "orientation": "horizontal",
            "style": "IPY_MODEL_16cb0072f1464a77a247da83bdac1c2c",
            "value": 1
          }
        },
        "87838652ccba47a090eba129ad7bf49d": {
          "model_module": "@jupyter-widgets/controls",
          "model_name": "HTMLModel",
          "model_module_version": "1.5.0",
          "state": {
            "_dom_classes": [],
            "_model_module": "@jupyter-widgets/controls",
            "_model_module_version": "1.5.0",
            "_model_name": "HTMLModel",
            "_view_count": null,
            "_view_module": "@jupyter-widgets/controls",
            "_view_module_version": "1.5.0",
            "_view_name": "HTMLView",
            "description": "",
            "description_tooltip": null,
            "layout": "IPY_MODEL_a67a85f82fd545a0bc9b5fdca8b04fe6",
            "placeholder": "​",
            "style": "IPY_MODEL_4173abf43d754825b14dc04777982f0b",
            "value": " 7.03M/? [00:00&lt;00:00, 42.7MB/s]"
          }
        },
        "bb48cf96684741cdb62c5d6889067d40": {
          "model_module": "@jupyter-widgets/base",
          "model_name": "LayoutModel",
          "model_module_version": "1.2.0",
          "state": {
            "_model_module": "@jupyter-widgets/base",
            "_model_module_version": "1.2.0",
            "_model_name": "LayoutModel",
            "_view_count": null,
            "_view_module": "@jupyter-widgets/base",
            "_view_module_version": "1.2.0",
            "_view_name": "LayoutView",
            "align_content": null,
            "align_items": null,
            "align_self": null,
            "border": null,
            "bottom": null,
            "display": null,
            "flex": null,
            "flex_flow": null,
            "grid_area": null,
            "grid_auto_columns": null,
            "grid_auto_flow": null,
            "grid_auto_rows": null,
            "grid_column": null,
            "grid_gap": null,
            "grid_row": null,
            "grid_template_areas": null,
            "grid_template_columns": null,
            "grid_template_rows": null,
            "height": null,
            "justify_content": null,
            "justify_items": null,
            "left": null,
            "margin": null,
            "max_height": null,
            "max_width": null,
            "min_height": null,
            "min_width": null,
            "object_fit": null,
            "object_position": null,
            "order": null,
            "overflow": null,
            "overflow_x": null,
            "overflow_y": null,
            "padding": null,
            "right": null,
            "top": null,
            "visibility": null,
            "width": null
          }
        },
        "6da86b5e9a374d548f147e4219a1c16c": {
          "model_module": "@jupyter-widgets/base",
          "model_name": "LayoutModel",
          "model_module_version": "1.2.0",
          "state": {
            "_model_module": "@jupyter-widgets/base",
            "_model_module_version": "1.2.0",
            "_model_name": "LayoutModel",
            "_view_count": null,
            "_view_module": "@jupyter-widgets/base",
            "_view_module_version": "1.2.0",
            "_view_name": "LayoutView",
            "align_content": null,
            "align_items": null,
            "align_self": null,
            "border": null,
            "bottom": null,
            "display": null,
            "flex": null,
            "flex_flow": null,
            "grid_area": null,
            "grid_auto_columns": null,
            "grid_auto_flow": null,
            "grid_auto_rows": null,
            "grid_column": null,
            "grid_gap": null,
            "grid_row": null,
            "grid_template_areas": null,
            "grid_template_columns": null,
            "grid_template_rows": null,
            "height": null,
            "justify_content": null,
            "justify_items": null,
            "left": null,
            "margin": null,
            "max_height": null,
            "max_width": null,
            "min_height": null,
            "min_width": null,
            "object_fit": null,
            "object_position": null,
            "order": null,
            "overflow": null,
            "overflow_x": null,
            "overflow_y": null,
            "padding": null,
            "right": null,
            "top": null,
            "visibility": null,
            "width": null
          }
        },
        "2b044654d8e846188321994ad9520c97": {
          "model_module": "@jupyter-widgets/controls",
          "model_name": "DescriptionStyleModel",
          "model_module_version": "1.5.0",
          "state": {
            "_model_module": "@jupyter-widgets/controls",
            "_model_module_version": "1.5.0",
            "_model_name": "DescriptionStyleModel",
            "_view_count": null,
            "_view_module": "@jupyter-widgets/base",
            "_view_module_version": "1.2.0",
            "_view_name": "StyleView",
            "description_width": ""
          }
        },
        "b2fe9ef69f074790b486d671c06385f6": {
          "model_module": "@jupyter-widgets/base",
          "model_name": "LayoutModel",
          "model_module_version": "1.2.0",
          "state": {
            "_model_module": "@jupyter-widgets/base",
            "_model_module_version": "1.2.0",
            "_model_name": "LayoutModel",
            "_view_count": null,
            "_view_module": "@jupyter-widgets/base",
            "_view_module_version": "1.2.0",
            "_view_name": "LayoutView",
            "align_content": null,
            "align_items": null,
            "align_self": null,
            "border": null,
            "bottom": null,
            "display": null,
            "flex": null,
            "flex_flow": null,
            "grid_area": null,
            "grid_auto_columns": null,
            "grid_auto_flow": null,
            "grid_auto_rows": null,
            "grid_column": null,
            "grid_gap": null,
            "grid_row": null,
            "grid_template_areas": null,
            "grid_template_columns": null,
            "grid_template_rows": null,
            "height": null,
            "justify_content": null,
            "justify_items": null,
            "left": null,
            "margin": null,
            "max_height": null,
            "max_width": null,
            "min_height": null,
            "min_width": null,
            "object_fit": null,
            "object_position": null,
            "order": null,
            "overflow": null,
            "overflow_x": null,
            "overflow_y": null,
            "padding": null,
            "right": null,
            "top": null,
            "visibility": null,
            "width": "20px"
          }
        },
        "16cb0072f1464a77a247da83bdac1c2c": {
          "model_module": "@jupyter-widgets/controls",
          "model_name": "ProgressStyleModel",
          "model_module_version": "1.5.0",
          "state": {
            "_model_module": "@jupyter-widgets/controls",
            "_model_module_version": "1.5.0",
            "_model_name": "ProgressStyleModel",
            "_view_count": null,
            "_view_module": "@jupyter-widgets/base",
            "_view_module_version": "1.2.0",
            "_view_name": "StyleView",
            "bar_color": null,
            "description_width": ""
          }
        },
        "a67a85f82fd545a0bc9b5fdca8b04fe6": {
          "model_module": "@jupyter-widgets/base",
          "model_name": "LayoutModel",
          "model_module_version": "1.2.0",
          "state": {
            "_model_module": "@jupyter-widgets/base",
            "_model_module_version": "1.2.0",
            "_model_name": "LayoutModel",
            "_view_count": null,
            "_view_module": "@jupyter-widgets/base",
            "_view_module_version": "1.2.0",
            "_view_name": "LayoutView",
            "align_content": null,
            "align_items": null,
            "align_self": null,
            "border": null,
            "bottom": null,
            "display": null,
            "flex": null,
            "flex_flow": null,
            "grid_area": null,
            "grid_auto_columns": null,
            "grid_auto_flow": null,
            "grid_auto_rows": null,
            "grid_column": null,
            "grid_gap": null,
            "grid_row": null,
            "grid_template_areas": null,
            "grid_template_columns": null,
            "grid_template_rows": null,
            "height": null,
            "justify_content": null,
            "justify_items": null,
            "left": null,
            "margin": null,
            "max_height": null,
            "max_width": null,
            "min_height": null,
            "min_width": null,
            "object_fit": null,
            "object_position": null,
            "order": null,
            "overflow": null,
            "overflow_x": null,
            "overflow_y": null,
            "padding": null,
            "right": null,
            "top": null,
            "visibility": null,
            "width": null
          }
        },
        "4173abf43d754825b14dc04777982f0b": {
          "model_module": "@jupyter-widgets/controls",
          "model_name": "DescriptionStyleModel",
          "model_module_version": "1.5.0",
          "state": {
            "_model_module": "@jupyter-widgets/controls",
            "_model_module_version": "1.5.0",
            "_model_name": "DescriptionStyleModel",
            "_view_count": null,
            "_view_module": "@jupyter-widgets/base",
            "_view_module_version": "1.2.0",
            "_view_name": "StyleView",
            "description_width": ""
          }
        },
        "806ab1478989442caf7f0e45dc3890d2": {
          "model_module": "@jupyter-widgets/controls",
          "model_name": "HBoxModel",
          "model_module_version": "1.5.0",
          "state": {
            "_dom_classes": [],
            "_model_module": "@jupyter-widgets/controls",
            "_model_module_version": "1.5.0",
            "_model_name": "HBoxModel",
            "_view_count": null,
            "_view_module": "@jupyter-widgets/controls",
            "_view_module_version": "1.5.0",
            "_view_name": "HBoxView",
            "box_style": "",
            "children": [
              "IPY_MODEL_6a62340631db4fddb91ac8cd1708a860",
              "IPY_MODEL_5b405dd7b75347efa310d849592aeeb6",
              "IPY_MODEL_94a16ef8127f48d2b07e10485df3ff8a"
            ],
            "layout": "IPY_MODEL_9a06d84b28a44a9c96fa3225c9838ff8"
          }
        },
        "6a62340631db4fddb91ac8cd1708a860": {
          "model_module": "@jupyter-widgets/controls",
          "model_name": "HTMLModel",
          "model_module_version": "1.5.0",
          "state": {
            "_dom_classes": [],
            "_model_module": "@jupyter-widgets/controls",
            "_model_module_version": "1.5.0",
            "_model_name": "HTMLModel",
            "_view_count": null,
            "_view_module": "@jupyter-widgets/controls",
            "_view_module_version": "1.5.0",
            "_view_name": "HTMLView",
            "description": "",
            "description_tooltip": null,
            "layout": "IPY_MODEL_502718a5ba78492ca0c79121a2fc36e3",
            "placeholder": "​",
            "style": "IPY_MODEL_40ba667d488b41418399f293849c9b15",
            "value": "README.md: "
          }
        },
        "5b405dd7b75347efa310d849592aeeb6": {
          "model_module": "@jupyter-widgets/controls",
          "model_name": "FloatProgressModel",
          "model_module_version": "1.5.0",
          "state": {
            "_dom_classes": [],
            "_model_module": "@jupyter-widgets/controls",
            "_model_module_version": "1.5.0",
            "_model_name": "FloatProgressModel",
            "_view_count": null,
            "_view_module": "@jupyter-widgets/controls",
            "_view_module_version": "1.5.0",
            "_view_name": "ProgressView",
            "bar_style": "success",
            "description": "",
            "description_tooltip": null,
            "layout": "IPY_MODEL_edc515b528834da8b870b135c6e52c92",
            "max": 1,
            "min": 0,
            "orientation": "horizontal",
            "style": "IPY_MODEL_f262d117cc8b42b0b4b04a7e89692017",
            "value": 1
          }
        },
        "94a16ef8127f48d2b07e10485df3ff8a": {
          "model_module": "@jupyter-widgets/controls",
          "model_name": "HTMLModel",
          "model_module_version": "1.5.0",
          "state": {
            "_dom_classes": [],
            "_model_module": "@jupyter-widgets/controls",
            "_model_module_version": "1.5.0",
            "_model_name": "HTMLModel",
            "_view_count": null,
            "_view_module": "@jupyter-widgets/controls",
            "_view_module_version": "1.5.0",
            "_view_name": "HTMLView",
            "description": "",
            "description_tooltip": null,
            "layout": "IPY_MODEL_b8327910ca07445e830381684075dbf9",
            "placeholder": "​",
            "style": "IPY_MODEL_266f622d07624a17b48eeb518398a16c",
            "value": " 7.94k/? [00:00&lt;00:00, 214kB/s]"
          }
        },
        "9a06d84b28a44a9c96fa3225c9838ff8": {
          "model_module": "@jupyter-widgets/base",
          "model_name": "LayoutModel",
          "model_module_version": "1.2.0",
          "state": {
            "_model_module": "@jupyter-widgets/base",
            "_model_module_version": "1.2.0",
            "_model_name": "LayoutModel",
            "_view_count": null,
            "_view_module": "@jupyter-widgets/base",
            "_view_module_version": "1.2.0",
            "_view_name": "LayoutView",
            "align_content": null,
            "align_items": null,
            "align_self": null,
            "border": null,
            "bottom": null,
            "display": null,
            "flex": null,
            "flex_flow": null,
            "grid_area": null,
            "grid_auto_columns": null,
            "grid_auto_flow": null,
            "grid_auto_rows": null,
            "grid_column": null,
            "grid_gap": null,
            "grid_row": null,
            "grid_template_areas": null,
            "grid_template_columns": null,
            "grid_template_rows": null,
            "height": null,
            "justify_content": null,
            "justify_items": null,
            "left": null,
            "margin": null,
            "max_height": null,
            "max_width": null,
            "min_height": null,
            "min_width": null,
            "object_fit": null,
            "object_position": null,
            "order": null,
            "overflow": null,
            "overflow_x": null,
            "overflow_y": null,
            "padding": null,
            "right": null,
            "top": null,
            "visibility": null,
            "width": null
          }
        },
        "502718a5ba78492ca0c79121a2fc36e3": {
          "model_module": "@jupyter-widgets/base",
          "model_name": "LayoutModel",
          "model_module_version": "1.2.0",
          "state": {
            "_model_module": "@jupyter-widgets/base",
            "_model_module_version": "1.2.0",
            "_model_name": "LayoutModel",
            "_view_count": null,
            "_view_module": "@jupyter-widgets/base",
            "_view_module_version": "1.2.0",
            "_view_name": "LayoutView",
            "align_content": null,
            "align_items": null,
            "align_self": null,
            "border": null,
            "bottom": null,
            "display": null,
            "flex": null,
            "flex_flow": null,
            "grid_area": null,
            "grid_auto_columns": null,
            "grid_auto_flow": null,
            "grid_auto_rows": null,
            "grid_column": null,
            "grid_gap": null,
            "grid_row": null,
            "grid_template_areas": null,
            "grid_template_columns": null,
            "grid_template_rows": null,
            "height": null,
            "justify_content": null,
            "justify_items": null,
            "left": null,
            "margin": null,
            "max_height": null,
            "max_width": null,
            "min_height": null,
            "min_width": null,
            "object_fit": null,
            "object_position": null,
            "order": null,
            "overflow": null,
            "overflow_x": null,
            "overflow_y": null,
            "padding": null,
            "right": null,
            "top": null,
            "visibility": null,
            "width": null
          }
        },
        "40ba667d488b41418399f293849c9b15": {
          "model_module": "@jupyter-widgets/controls",
          "model_name": "DescriptionStyleModel",
          "model_module_version": "1.5.0",
          "state": {
            "_model_module": "@jupyter-widgets/controls",
            "_model_module_version": "1.5.0",
            "_model_name": "DescriptionStyleModel",
            "_view_count": null,
            "_view_module": "@jupyter-widgets/base",
            "_view_module_version": "1.2.0",
            "_view_name": "StyleView",
            "description_width": ""
          }
        },
        "edc515b528834da8b870b135c6e52c92": {
          "model_module": "@jupyter-widgets/base",
          "model_name": "LayoutModel",
          "model_module_version": "1.2.0",
          "state": {
            "_model_module": "@jupyter-widgets/base",
            "_model_module_version": "1.2.0",
            "_model_name": "LayoutModel",
            "_view_count": null,
            "_view_module": "@jupyter-widgets/base",
            "_view_module_version": "1.2.0",
            "_view_name": "LayoutView",
            "align_content": null,
            "align_items": null,
            "align_self": null,
            "border": null,
            "bottom": null,
            "display": null,
            "flex": null,
            "flex_flow": null,
            "grid_area": null,
            "grid_auto_columns": null,
            "grid_auto_flow": null,
            "grid_auto_rows": null,
            "grid_column": null,
            "grid_gap": null,
            "grid_row": null,
            "grid_template_areas": null,
            "grid_template_columns": null,
            "grid_template_rows": null,
            "height": null,
            "justify_content": null,
            "justify_items": null,
            "left": null,
            "margin": null,
            "max_height": null,
            "max_width": null,
            "min_height": null,
            "min_width": null,
            "object_fit": null,
            "object_position": null,
            "order": null,
            "overflow": null,
            "overflow_x": null,
            "overflow_y": null,
            "padding": null,
            "right": null,
            "top": null,
            "visibility": null,
            "width": "20px"
          }
        },
        "f262d117cc8b42b0b4b04a7e89692017": {
          "model_module": "@jupyter-widgets/controls",
          "model_name": "ProgressStyleModel",
          "model_module_version": "1.5.0",
          "state": {
            "_model_module": "@jupyter-widgets/controls",
            "_model_module_version": "1.5.0",
            "_model_name": "ProgressStyleModel",
            "_view_count": null,
            "_view_module": "@jupyter-widgets/base",
            "_view_module_version": "1.2.0",
            "_view_name": "StyleView",
            "bar_color": null,
            "description_width": ""
          }
        },
        "b8327910ca07445e830381684075dbf9": {
          "model_module": "@jupyter-widgets/base",
          "model_name": "LayoutModel",
          "model_module_version": "1.2.0",
          "state": {
            "_model_module": "@jupyter-widgets/base",
            "_model_module_version": "1.2.0",
            "_model_name": "LayoutModel",
            "_view_count": null,
            "_view_module": "@jupyter-widgets/base",
            "_view_module_version": "1.2.0",
            "_view_name": "LayoutView",
            "align_content": null,
            "align_items": null,
            "align_self": null,
            "border": null,
            "bottom": null,
            "display": null,
            "flex": null,
            "flex_flow": null,
            "grid_area": null,
            "grid_auto_columns": null,
            "grid_auto_flow": null,
            "grid_auto_rows": null,
            "grid_column": null,
            "grid_gap": null,
            "grid_row": null,
            "grid_template_areas": null,
            "grid_template_columns": null,
            "grid_template_rows": null,
            "height": null,
            "justify_content": null,
            "justify_items": null,
            "left": null,
            "margin": null,
            "max_height": null,
            "max_width": null,
            "min_height": null,
            "min_width": null,
            "object_fit": null,
            "object_position": null,
            "order": null,
            "overflow": null,
            "overflow_x": null,
            "overflow_y": null,
            "padding": null,
            "right": null,
            "top": null,
            "visibility": null,
            "width": null
          }
        },
        "266f622d07624a17b48eeb518398a16c": {
          "model_module": "@jupyter-widgets/controls",
          "model_name": "DescriptionStyleModel",
          "model_module_version": "1.5.0",
          "state": {
            "_model_module": "@jupyter-widgets/controls",
            "_model_module_version": "1.5.0",
            "_model_name": "DescriptionStyleModel",
            "_view_count": null,
            "_view_module": "@jupyter-widgets/base",
            "_view_module_version": "1.2.0",
            "_view_name": "StyleView",
            "description_width": ""
          }
        },
        "017b9e7a3e644228af2695e25f158c4d": {
          "model_module": "@jupyter-widgets/controls",
          "model_name": "HBoxModel",
          "model_module_version": "1.5.0",
          "state": {
            "_dom_classes": [],
            "_model_module": "@jupyter-widgets/controls",
            "_model_module_version": "1.5.0",
            "_model_name": "HBoxModel",
            "_view_count": null,
            "_view_module": "@jupyter-widgets/controls",
            "_view_module_version": "1.5.0",
            "_view_name": "HBoxView",
            "box_style": "",
            "children": [
              "IPY_MODEL_d203f3b9996b415cbef134ea7f689748",
              "IPY_MODEL_70e3bacdd63b48dab162a647da29ec2d",
              "IPY_MODEL_2199960f1a18425c8abd5a486b0b89ec"
            ],
            "layout": "IPY_MODEL_fd331fada2604cbba66949c118457f0a"
          }
        },
        "d203f3b9996b415cbef134ea7f689748": {
          "model_module": "@jupyter-widgets/controls",
          "model_name": "HTMLModel",
          "model_module_version": "1.5.0",
          "state": {
            "_dom_classes": [],
            "_model_module": "@jupyter-widgets/controls",
            "_model_module_version": "1.5.0",
            "_model_name": "HTMLModel",
            "_view_count": null,
            "_view_module": "@jupyter-widgets/controls",
            "_view_module_version": "1.5.0",
            "_view_name": "HTMLView",
            "description": "",
            "description_tooltip": null,
            "layout": "IPY_MODEL_2a6653a5af7d4bcaa6c47ea588c6664c",
            "placeholder": "​",
            "style": "IPY_MODEL_0bd419dd312543d1adf297ae510ff36f",
            "value": "main/train-00000-of-00001.parquet: 100%"
          }
        },
        "70e3bacdd63b48dab162a647da29ec2d": {
          "model_module": "@jupyter-widgets/controls",
          "model_name": "FloatProgressModel",
          "model_module_version": "1.5.0",
          "state": {
            "_dom_classes": [],
            "_model_module": "@jupyter-widgets/controls",
            "_model_module_version": "1.5.0",
            "_model_name": "FloatProgressModel",
            "_view_count": null,
            "_view_module": "@jupyter-widgets/controls",
            "_view_module_version": "1.5.0",
            "_view_name": "ProgressView",
            "bar_style": "success",
            "description": "",
            "description_tooltip": null,
            "layout": "IPY_MODEL_15ba8b58b0a8478c9009738c1f1fed64",
            "max": 2306545,
            "min": 0,
            "orientation": "horizontal",
            "style": "IPY_MODEL_4b987e3abe894afc9060a10aa73e08d7",
            "value": 2306545
          }
        },
        "2199960f1a18425c8abd5a486b0b89ec": {
          "model_module": "@jupyter-widgets/controls",
          "model_name": "HTMLModel",
          "model_module_version": "1.5.0",
          "state": {
            "_dom_classes": [],
            "_model_module": "@jupyter-widgets/controls",
            "_model_module_version": "1.5.0",
            "_model_name": "HTMLModel",
            "_view_count": null,
            "_view_module": "@jupyter-widgets/controls",
            "_view_module_version": "1.5.0",
            "_view_name": "HTMLView",
            "description": "",
            "description_tooltip": null,
            "layout": "IPY_MODEL_baa28e8bd5254ba4aa635c085a1a948d",
            "placeholder": "​",
            "style": "IPY_MODEL_61b6f32308364eaa9b4e36bb20fe3e91",
            "value": " 2.31M/2.31M [00:00&lt;00:00, 31.9kB/s]"
          }
        },
        "fd331fada2604cbba66949c118457f0a": {
          "model_module": "@jupyter-widgets/base",
          "model_name": "LayoutModel",
          "model_module_version": "1.2.0",
          "state": {
            "_model_module": "@jupyter-widgets/base",
            "_model_module_version": "1.2.0",
            "_model_name": "LayoutModel",
            "_view_count": null,
            "_view_module": "@jupyter-widgets/base",
            "_view_module_version": "1.2.0",
            "_view_name": "LayoutView",
            "align_content": null,
            "align_items": null,
            "align_self": null,
            "border": null,
            "bottom": null,
            "display": null,
            "flex": null,
            "flex_flow": null,
            "grid_area": null,
            "grid_auto_columns": null,
            "grid_auto_flow": null,
            "grid_auto_rows": null,
            "grid_column": null,
            "grid_gap": null,
            "grid_row": null,
            "grid_template_areas": null,
            "grid_template_columns": null,
            "grid_template_rows": null,
            "height": null,
            "justify_content": null,
            "justify_items": null,
            "left": null,
            "margin": null,
            "max_height": null,
            "max_width": null,
            "min_height": null,
            "min_width": null,
            "object_fit": null,
            "object_position": null,
            "order": null,
            "overflow": null,
            "overflow_x": null,
            "overflow_y": null,
            "padding": null,
            "right": null,
            "top": null,
            "visibility": null,
            "width": null
          }
        },
        "2a6653a5af7d4bcaa6c47ea588c6664c": {
          "model_module": "@jupyter-widgets/base",
          "model_name": "LayoutModel",
          "model_module_version": "1.2.0",
          "state": {
            "_model_module": "@jupyter-widgets/base",
            "_model_module_version": "1.2.0",
            "_model_name": "LayoutModel",
            "_view_count": null,
            "_view_module": "@jupyter-widgets/base",
            "_view_module_version": "1.2.0",
            "_view_name": "LayoutView",
            "align_content": null,
            "align_items": null,
            "align_self": null,
            "border": null,
            "bottom": null,
            "display": null,
            "flex": null,
            "flex_flow": null,
            "grid_area": null,
            "grid_auto_columns": null,
            "grid_auto_flow": null,
            "grid_auto_rows": null,
            "grid_column": null,
            "grid_gap": null,
            "grid_row": null,
            "grid_template_areas": null,
            "grid_template_columns": null,
            "grid_template_rows": null,
            "height": null,
            "justify_content": null,
            "justify_items": null,
            "left": null,
            "margin": null,
            "max_height": null,
            "max_width": null,
            "min_height": null,
            "min_width": null,
            "object_fit": null,
            "object_position": null,
            "order": null,
            "overflow": null,
            "overflow_x": null,
            "overflow_y": null,
            "padding": null,
            "right": null,
            "top": null,
            "visibility": null,
            "width": null
          }
        },
        "0bd419dd312543d1adf297ae510ff36f": {
          "model_module": "@jupyter-widgets/controls",
          "model_name": "DescriptionStyleModel",
          "model_module_version": "1.5.0",
          "state": {
            "_model_module": "@jupyter-widgets/controls",
            "_model_module_version": "1.5.0",
            "_model_name": "DescriptionStyleModel",
            "_view_count": null,
            "_view_module": "@jupyter-widgets/base",
            "_view_module_version": "1.2.0",
            "_view_name": "StyleView",
            "description_width": ""
          }
        },
        "15ba8b58b0a8478c9009738c1f1fed64": {
          "model_module": "@jupyter-widgets/base",
          "model_name": "LayoutModel",
          "model_module_version": "1.2.0",
          "state": {
            "_model_module": "@jupyter-widgets/base",
            "_model_module_version": "1.2.0",
            "_model_name": "LayoutModel",
            "_view_count": null,
            "_view_module": "@jupyter-widgets/base",
            "_view_module_version": "1.2.0",
            "_view_name": "LayoutView",
            "align_content": null,
            "align_items": null,
            "align_self": null,
            "border": null,
            "bottom": null,
            "display": null,
            "flex": null,
            "flex_flow": null,
            "grid_area": null,
            "grid_auto_columns": null,
            "grid_auto_flow": null,
            "grid_auto_rows": null,
            "grid_column": null,
            "grid_gap": null,
            "grid_row": null,
            "grid_template_areas": null,
            "grid_template_columns": null,
            "grid_template_rows": null,
            "height": null,
            "justify_content": null,
            "justify_items": null,
            "left": null,
            "margin": null,
            "max_height": null,
            "max_width": null,
            "min_height": null,
            "min_width": null,
            "object_fit": null,
            "object_position": null,
            "order": null,
            "overflow": null,
            "overflow_x": null,
            "overflow_y": null,
            "padding": null,
            "right": null,
            "top": null,
            "visibility": null,
            "width": null
          }
        },
        "4b987e3abe894afc9060a10aa73e08d7": {
          "model_module": "@jupyter-widgets/controls",
          "model_name": "ProgressStyleModel",
          "model_module_version": "1.5.0",
          "state": {
            "_model_module": "@jupyter-widgets/controls",
            "_model_module_version": "1.5.0",
            "_model_name": "ProgressStyleModel",
            "_view_count": null,
            "_view_module": "@jupyter-widgets/base",
            "_view_module_version": "1.2.0",
            "_view_name": "StyleView",
            "bar_color": null,
            "description_width": ""
          }
        },
        "baa28e8bd5254ba4aa635c085a1a948d": {
          "model_module": "@jupyter-widgets/base",
          "model_name": "LayoutModel",
          "model_module_version": "1.2.0",
          "state": {
            "_model_module": "@jupyter-widgets/base",
            "_model_module_version": "1.2.0",
            "_model_name": "LayoutModel",
            "_view_count": null,
            "_view_module": "@jupyter-widgets/base",
            "_view_module_version": "1.2.0",
            "_view_name": "LayoutView",
            "align_content": null,
            "align_items": null,
            "align_self": null,
            "border": null,
            "bottom": null,
            "display": null,
            "flex": null,
            "flex_flow": null,
            "grid_area": null,
            "grid_auto_columns": null,
            "grid_auto_flow": null,
            "grid_auto_rows": null,
            "grid_column": null,
            "grid_gap": null,
            "grid_row": null,
            "grid_template_areas": null,
            "grid_template_columns": null,
            "grid_template_rows": null,
            "height": null,
            "justify_content": null,
            "justify_items": null,
            "left": null,
            "margin": null,
            "max_height": null,
            "max_width": null,
            "min_height": null,
            "min_width": null,
            "object_fit": null,
            "object_position": null,
            "order": null,
            "overflow": null,
            "overflow_x": null,
            "overflow_y": null,
            "padding": null,
            "right": null,
            "top": null,
            "visibility": null,
            "width": null
          }
        },
        "61b6f32308364eaa9b4e36bb20fe3e91": {
          "model_module": "@jupyter-widgets/controls",
          "model_name": "DescriptionStyleModel",
          "model_module_version": "1.5.0",
          "state": {
            "_model_module": "@jupyter-widgets/controls",
            "_model_module_version": "1.5.0",
            "_model_name": "DescriptionStyleModel",
            "_view_count": null,
            "_view_module": "@jupyter-widgets/base",
            "_view_module_version": "1.2.0",
            "_view_name": "StyleView",
            "description_width": ""
          }
        },
        "f511d881706944ff89589ff529315bf4": {
          "model_module": "@jupyter-widgets/controls",
          "model_name": "HBoxModel",
          "model_module_version": "1.5.0",
          "state": {
            "_dom_classes": [],
            "_model_module": "@jupyter-widgets/controls",
            "_model_module_version": "1.5.0",
            "_model_name": "HBoxModel",
            "_view_count": null,
            "_view_module": "@jupyter-widgets/controls",
            "_view_module_version": "1.5.0",
            "_view_name": "HBoxView",
            "box_style": "",
            "children": [
              "IPY_MODEL_972271c595754e90b7e3505c17e03738",
              "IPY_MODEL_45106430ca7147bfbe04b6d5370c3481",
              "IPY_MODEL_ebe73a4154dd45f98f571f98f079f0bc"
            ],
            "layout": "IPY_MODEL_7db30a82cc214c7fb6746abe493c8be9"
          }
        },
        "972271c595754e90b7e3505c17e03738": {
          "model_module": "@jupyter-widgets/controls",
          "model_name": "HTMLModel",
          "model_module_version": "1.5.0",
          "state": {
            "_dom_classes": [],
            "_model_module": "@jupyter-widgets/controls",
            "_model_module_version": "1.5.0",
            "_model_name": "HTMLModel",
            "_view_count": null,
            "_view_module": "@jupyter-widgets/controls",
            "_view_module_version": "1.5.0",
            "_view_name": "HTMLView",
            "description": "",
            "description_tooltip": null,
            "layout": "IPY_MODEL_6a1298e2892d42eb930563ef31055dac",
            "placeholder": "​",
            "style": "IPY_MODEL_c4a606fa13824b39b1df7c53e7c6832e",
            "value": "main/test-00000-of-00001.parquet: 100%"
          }
        },
        "45106430ca7147bfbe04b6d5370c3481": {
          "model_module": "@jupyter-widgets/controls",
          "model_name": "FloatProgressModel",
          "model_module_version": "1.5.0",
          "state": {
            "_dom_classes": [],
            "_model_module": "@jupyter-widgets/controls",
            "_model_module_version": "1.5.0",
            "_model_name": "FloatProgressModel",
            "_view_count": null,
            "_view_module": "@jupyter-widgets/controls",
            "_view_module_version": "1.5.0",
            "_view_name": "ProgressView",
            "bar_style": "success",
            "description": "",
            "description_tooltip": null,
            "layout": "IPY_MODEL_8caa53e452aa4edc8670491ec2efccb1",
            "max": 419088,
            "min": 0,
            "orientation": "horizontal",
            "style": "IPY_MODEL_5afe622f4fdd437997cdf0da33dde468",
            "value": 419088
          }
        },
        "ebe73a4154dd45f98f571f98f079f0bc": {
          "model_module": "@jupyter-widgets/controls",
          "model_name": "HTMLModel",
          "model_module_version": "1.5.0",
          "state": {
            "_dom_classes": [],
            "_model_module": "@jupyter-widgets/controls",
            "_model_module_version": "1.5.0",
            "_model_name": "HTMLModel",
            "_view_count": null,
            "_view_module": "@jupyter-widgets/controls",
            "_view_module_version": "1.5.0",
            "_view_name": "HTMLView",
            "description": "",
            "description_tooltip": null,
            "layout": "IPY_MODEL_4ffb85c8e37747f2978afc3833d1af93",
            "placeholder": "​",
            "style": "IPY_MODEL_2ef9304469544a23ab667de62e588dee",
            "value": " 419k/419k [00:00&lt;00:00, 1.69MB/s]"
          }
        },
        "7db30a82cc214c7fb6746abe493c8be9": {
          "model_module": "@jupyter-widgets/base",
          "model_name": "LayoutModel",
          "model_module_version": "1.2.0",
          "state": {
            "_model_module": "@jupyter-widgets/base",
            "_model_module_version": "1.2.0",
            "_model_name": "LayoutModel",
            "_view_count": null,
            "_view_module": "@jupyter-widgets/base",
            "_view_module_version": "1.2.0",
            "_view_name": "LayoutView",
            "align_content": null,
            "align_items": null,
            "align_self": null,
            "border": null,
            "bottom": null,
            "display": null,
            "flex": null,
            "flex_flow": null,
            "grid_area": null,
            "grid_auto_columns": null,
            "grid_auto_flow": null,
            "grid_auto_rows": null,
            "grid_column": null,
            "grid_gap": null,
            "grid_row": null,
            "grid_template_areas": null,
            "grid_template_columns": null,
            "grid_template_rows": null,
            "height": null,
            "justify_content": null,
            "justify_items": null,
            "left": null,
            "margin": null,
            "max_height": null,
            "max_width": null,
            "min_height": null,
            "min_width": null,
            "object_fit": null,
            "object_position": null,
            "order": null,
            "overflow": null,
            "overflow_x": null,
            "overflow_y": null,
            "padding": null,
            "right": null,
            "top": null,
            "visibility": null,
            "width": null
          }
        },
        "6a1298e2892d42eb930563ef31055dac": {
          "model_module": "@jupyter-widgets/base",
          "model_name": "LayoutModel",
          "model_module_version": "1.2.0",
          "state": {
            "_model_module": "@jupyter-widgets/base",
            "_model_module_version": "1.2.0",
            "_model_name": "LayoutModel",
            "_view_count": null,
            "_view_module": "@jupyter-widgets/base",
            "_view_module_version": "1.2.0",
            "_view_name": "LayoutView",
            "align_content": null,
            "align_items": null,
            "align_self": null,
            "border": null,
            "bottom": null,
            "display": null,
            "flex": null,
            "flex_flow": null,
            "grid_area": null,
            "grid_auto_columns": null,
            "grid_auto_flow": null,
            "grid_auto_rows": null,
            "grid_column": null,
            "grid_gap": null,
            "grid_row": null,
            "grid_template_areas": null,
            "grid_template_columns": null,
            "grid_template_rows": null,
            "height": null,
            "justify_content": null,
            "justify_items": null,
            "left": null,
            "margin": null,
            "max_height": null,
            "max_width": null,
            "min_height": null,
            "min_width": null,
            "object_fit": null,
            "object_position": null,
            "order": null,
            "overflow": null,
            "overflow_x": null,
            "overflow_y": null,
            "padding": null,
            "right": null,
            "top": null,
            "visibility": null,
            "width": null
          }
        },
        "c4a606fa13824b39b1df7c53e7c6832e": {
          "model_module": "@jupyter-widgets/controls",
          "model_name": "DescriptionStyleModel",
          "model_module_version": "1.5.0",
          "state": {
            "_model_module": "@jupyter-widgets/controls",
            "_model_module_version": "1.5.0",
            "_model_name": "DescriptionStyleModel",
            "_view_count": null,
            "_view_module": "@jupyter-widgets/base",
            "_view_module_version": "1.2.0",
            "_view_name": "StyleView",
            "description_width": ""
          }
        },
        "8caa53e452aa4edc8670491ec2efccb1": {
          "model_module": "@jupyter-widgets/base",
          "model_name": "LayoutModel",
          "model_module_version": "1.2.0",
          "state": {
            "_model_module": "@jupyter-widgets/base",
            "_model_module_version": "1.2.0",
            "_model_name": "LayoutModel",
            "_view_count": null,
            "_view_module": "@jupyter-widgets/base",
            "_view_module_version": "1.2.0",
            "_view_name": "LayoutView",
            "align_content": null,
            "align_items": null,
            "align_self": null,
            "border": null,
            "bottom": null,
            "display": null,
            "flex": null,
            "flex_flow": null,
            "grid_area": null,
            "grid_auto_columns": null,
            "grid_auto_flow": null,
            "grid_auto_rows": null,
            "grid_column": null,
            "grid_gap": null,
            "grid_row": null,
            "grid_template_areas": null,
            "grid_template_columns": null,
            "grid_template_rows": null,
            "height": null,
            "justify_content": null,
            "justify_items": null,
            "left": null,
            "margin": null,
            "max_height": null,
            "max_width": null,
            "min_height": null,
            "min_width": null,
            "object_fit": null,
            "object_position": null,
            "order": null,
            "overflow": null,
            "overflow_x": null,
            "overflow_y": null,
            "padding": null,
            "right": null,
            "top": null,
            "visibility": null,
            "width": null
          }
        },
        "5afe622f4fdd437997cdf0da33dde468": {
          "model_module": "@jupyter-widgets/controls",
          "model_name": "ProgressStyleModel",
          "model_module_version": "1.5.0",
          "state": {
            "_model_module": "@jupyter-widgets/controls",
            "_model_module_version": "1.5.0",
            "_model_name": "ProgressStyleModel",
            "_view_count": null,
            "_view_module": "@jupyter-widgets/base",
            "_view_module_version": "1.2.0",
            "_view_name": "StyleView",
            "bar_color": null,
            "description_width": ""
          }
        },
        "4ffb85c8e37747f2978afc3833d1af93": {
          "model_module": "@jupyter-widgets/base",
          "model_name": "LayoutModel",
          "model_module_version": "1.2.0",
          "state": {
            "_model_module": "@jupyter-widgets/base",
            "_model_module_version": "1.2.0",
            "_model_name": "LayoutModel",
            "_view_count": null,
            "_view_module": "@jupyter-widgets/base",
            "_view_module_version": "1.2.0",
            "_view_name": "LayoutView",
            "align_content": null,
            "align_items": null,
            "align_self": null,
            "border": null,
            "bottom": null,
            "display": null,
            "flex": null,
            "flex_flow": null,
            "grid_area": null,
            "grid_auto_columns": null,
            "grid_auto_flow": null,
            "grid_auto_rows": null,
            "grid_column": null,
            "grid_gap": null,
            "grid_row": null,
            "grid_template_areas": null,
            "grid_template_columns": null,
            "grid_template_rows": null,
            "height": null,
            "justify_content": null,
            "justify_items": null,
            "left": null,
            "margin": null,
            "max_height": null,
            "max_width": null,
            "min_height": null,
            "min_width": null,
            "object_fit": null,
            "object_position": null,
            "order": null,
            "overflow": null,
            "overflow_x": null,
            "overflow_y": null,
            "padding": null,
            "right": null,
            "top": null,
            "visibility": null,
            "width": null
          }
        },
        "2ef9304469544a23ab667de62e588dee": {
          "model_module": "@jupyter-widgets/controls",
          "model_name": "DescriptionStyleModel",
          "model_module_version": "1.5.0",
          "state": {
            "_model_module": "@jupyter-widgets/controls",
            "_model_module_version": "1.5.0",
            "_model_name": "DescriptionStyleModel",
            "_view_count": null,
            "_view_module": "@jupyter-widgets/base",
            "_view_module_version": "1.2.0",
            "_view_name": "StyleView",
            "description_width": ""
          }
        },
        "6dfbc64ec4ba43f0a962916a285c6137": {
          "model_module": "@jupyter-widgets/controls",
          "model_name": "HBoxModel",
          "model_module_version": "1.5.0",
          "state": {
            "_dom_classes": [],
            "_model_module": "@jupyter-widgets/controls",
            "_model_module_version": "1.5.0",
            "_model_name": "HBoxModel",
            "_view_count": null,
            "_view_module": "@jupyter-widgets/controls",
            "_view_module_version": "1.5.0",
            "_view_name": "HBoxView",
            "box_style": "",
            "children": [
              "IPY_MODEL_3ede96b6f38f492a870f9e0fa69af53e",
              "IPY_MODEL_26baa1e4c3144903bf2fdc20c42175b1",
              "IPY_MODEL_3a99681172e049aea46393586170f984"
            ],
            "layout": "IPY_MODEL_1e22c75be10a40789c498f87b11084a0"
          }
        },
        "3ede96b6f38f492a870f9e0fa69af53e": {
          "model_module": "@jupyter-widgets/controls",
          "model_name": "HTMLModel",
          "model_module_version": "1.5.0",
          "state": {
            "_dom_classes": [],
            "_model_module": "@jupyter-widgets/controls",
            "_model_module_version": "1.5.0",
            "_model_name": "HTMLModel",
            "_view_count": null,
            "_view_module": "@jupyter-widgets/controls",
            "_view_module_version": "1.5.0",
            "_view_name": "HTMLView",
            "description": "",
            "description_tooltip": null,
            "layout": "IPY_MODEL_80fc19d527e8428696e9d86d9f07fe87",
            "placeholder": "​",
            "style": "IPY_MODEL_c22c79b2cefe4266942658cb1b513dc2",
            "value": "Generating train split: 100%"
          }
        },
        "26baa1e4c3144903bf2fdc20c42175b1": {
          "model_module": "@jupyter-widgets/controls",
          "model_name": "FloatProgressModel",
          "model_module_version": "1.5.0",
          "state": {
            "_dom_classes": [],
            "_model_module": "@jupyter-widgets/controls",
            "_model_module_version": "1.5.0",
            "_model_name": "FloatProgressModel",
            "_view_count": null,
            "_view_module": "@jupyter-widgets/controls",
            "_view_module_version": "1.5.0",
            "_view_name": "ProgressView",
            "bar_style": "success",
            "description": "",
            "description_tooltip": null,
            "layout": "IPY_MODEL_d8f2477c5b4049ef867d728a82034760",
            "max": 7473,
            "min": 0,
            "orientation": "horizontal",
            "style": "IPY_MODEL_c148574d7a8346d7a6ea9250fc323738",
            "value": 7473
          }
        },
        "3a99681172e049aea46393586170f984": {
          "model_module": "@jupyter-widgets/controls",
          "model_name": "HTMLModel",
          "model_module_version": "1.5.0",
          "state": {
            "_dom_classes": [],
            "_model_module": "@jupyter-widgets/controls",
            "_model_module_version": "1.5.0",
            "_model_name": "HTMLModel",
            "_view_count": null,
            "_view_module": "@jupyter-widgets/controls",
            "_view_module_version": "1.5.0",
            "_view_name": "HTMLView",
            "description": "",
            "description_tooltip": null,
            "layout": "IPY_MODEL_6d8e475c163f4d1b99a0ecd8eadd9738",
            "placeholder": "​",
            "style": "IPY_MODEL_9e8a7e6cd24f45e2afe47312f87338c4",
            "value": " 7473/7473 [00:00&lt;00:00, 41796.75 examples/s]"
          }
        },
        "1e22c75be10a40789c498f87b11084a0": {
          "model_module": "@jupyter-widgets/base",
          "model_name": "LayoutModel",
          "model_module_version": "1.2.0",
          "state": {
            "_model_module": "@jupyter-widgets/base",
            "_model_module_version": "1.2.0",
            "_model_name": "LayoutModel",
            "_view_count": null,
            "_view_module": "@jupyter-widgets/base",
            "_view_module_version": "1.2.0",
            "_view_name": "LayoutView",
            "align_content": null,
            "align_items": null,
            "align_self": null,
            "border": null,
            "bottom": null,
            "display": null,
            "flex": null,
            "flex_flow": null,
            "grid_area": null,
            "grid_auto_columns": null,
            "grid_auto_flow": null,
            "grid_auto_rows": null,
            "grid_column": null,
            "grid_gap": null,
            "grid_row": null,
            "grid_template_areas": null,
            "grid_template_columns": null,
            "grid_template_rows": null,
            "height": null,
            "justify_content": null,
            "justify_items": null,
            "left": null,
            "margin": null,
            "max_height": null,
            "max_width": null,
            "min_height": null,
            "min_width": null,
            "object_fit": null,
            "object_position": null,
            "order": null,
            "overflow": null,
            "overflow_x": null,
            "overflow_y": null,
            "padding": null,
            "right": null,
            "top": null,
            "visibility": null,
            "width": null
          }
        },
        "80fc19d527e8428696e9d86d9f07fe87": {
          "model_module": "@jupyter-widgets/base",
          "model_name": "LayoutModel",
          "model_module_version": "1.2.0",
          "state": {
            "_model_module": "@jupyter-widgets/base",
            "_model_module_version": "1.2.0",
            "_model_name": "LayoutModel",
            "_view_count": null,
            "_view_module": "@jupyter-widgets/base",
            "_view_module_version": "1.2.0",
            "_view_name": "LayoutView",
            "align_content": null,
            "align_items": null,
            "align_self": null,
            "border": null,
            "bottom": null,
            "display": null,
            "flex": null,
            "flex_flow": null,
            "grid_area": null,
            "grid_auto_columns": null,
            "grid_auto_flow": null,
            "grid_auto_rows": null,
            "grid_column": null,
            "grid_gap": null,
            "grid_row": null,
            "grid_template_areas": null,
            "grid_template_columns": null,
            "grid_template_rows": null,
            "height": null,
            "justify_content": null,
            "justify_items": null,
            "left": null,
            "margin": null,
            "max_height": null,
            "max_width": null,
            "min_height": null,
            "min_width": null,
            "object_fit": null,
            "object_position": null,
            "order": null,
            "overflow": null,
            "overflow_x": null,
            "overflow_y": null,
            "padding": null,
            "right": null,
            "top": null,
            "visibility": null,
            "width": null
          }
        },
        "c22c79b2cefe4266942658cb1b513dc2": {
          "model_module": "@jupyter-widgets/controls",
          "model_name": "DescriptionStyleModel",
          "model_module_version": "1.5.0",
          "state": {
            "_model_module": "@jupyter-widgets/controls",
            "_model_module_version": "1.5.0",
            "_model_name": "DescriptionStyleModel",
            "_view_count": null,
            "_view_module": "@jupyter-widgets/base",
            "_view_module_version": "1.2.0",
            "_view_name": "StyleView",
            "description_width": ""
          }
        },
        "d8f2477c5b4049ef867d728a82034760": {
          "model_module": "@jupyter-widgets/base",
          "model_name": "LayoutModel",
          "model_module_version": "1.2.0",
          "state": {
            "_model_module": "@jupyter-widgets/base",
            "_model_module_version": "1.2.0",
            "_model_name": "LayoutModel",
            "_view_count": null,
            "_view_module": "@jupyter-widgets/base",
            "_view_module_version": "1.2.0",
            "_view_name": "LayoutView",
            "align_content": null,
            "align_items": null,
            "align_self": null,
            "border": null,
            "bottom": null,
            "display": null,
            "flex": null,
            "flex_flow": null,
            "grid_area": null,
            "grid_auto_columns": null,
            "grid_auto_flow": null,
            "grid_auto_rows": null,
            "grid_column": null,
            "grid_gap": null,
            "grid_row": null,
            "grid_template_areas": null,
            "grid_template_columns": null,
            "grid_template_rows": null,
            "height": null,
            "justify_content": null,
            "justify_items": null,
            "left": null,
            "margin": null,
            "max_height": null,
            "max_width": null,
            "min_height": null,
            "min_width": null,
            "object_fit": null,
            "object_position": null,
            "order": null,
            "overflow": null,
            "overflow_x": null,
            "overflow_y": null,
            "padding": null,
            "right": null,
            "top": null,
            "visibility": null,
            "width": null
          }
        },
        "c148574d7a8346d7a6ea9250fc323738": {
          "model_module": "@jupyter-widgets/controls",
          "model_name": "ProgressStyleModel",
          "model_module_version": "1.5.0",
          "state": {
            "_model_module": "@jupyter-widgets/controls",
            "_model_module_version": "1.5.0",
            "_model_name": "ProgressStyleModel",
            "_view_count": null,
            "_view_module": "@jupyter-widgets/base",
            "_view_module_version": "1.2.0",
            "_view_name": "StyleView",
            "bar_color": null,
            "description_width": ""
          }
        },
        "6d8e475c163f4d1b99a0ecd8eadd9738": {
          "model_module": "@jupyter-widgets/base",
          "model_name": "LayoutModel",
          "model_module_version": "1.2.0",
          "state": {
            "_model_module": "@jupyter-widgets/base",
            "_model_module_version": "1.2.0",
            "_model_name": "LayoutModel",
            "_view_count": null,
            "_view_module": "@jupyter-widgets/base",
            "_view_module_version": "1.2.0",
            "_view_name": "LayoutView",
            "align_content": null,
            "align_items": null,
            "align_self": null,
            "border": null,
            "bottom": null,
            "display": null,
            "flex": null,
            "flex_flow": null,
            "grid_area": null,
            "grid_auto_columns": null,
            "grid_auto_flow": null,
            "grid_auto_rows": null,
            "grid_column": null,
            "grid_gap": null,
            "grid_row": null,
            "grid_template_areas": null,
            "grid_template_columns": null,
            "grid_template_rows": null,
            "height": null,
            "justify_content": null,
            "justify_items": null,
            "left": null,
            "margin": null,
            "max_height": null,
            "max_width": null,
            "min_height": null,
            "min_width": null,
            "object_fit": null,
            "object_position": null,
            "order": null,
            "overflow": null,
            "overflow_x": null,
            "overflow_y": null,
            "padding": null,
            "right": null,
            "top": null,
            "visibility": null,
            "width": null
          }
        },
        "9e8a7e6cd24f45e2afe47312f87338c4": {
          "model_module": "@jupyter-widgets/controls",
          "model_name": "DescriptionStyleModel",
          "model_module_version": "1.5.0",
          "state": {
            "_model_module": "@jupyter-widgets/controls",
            "_model_module_version": "1.5.0",
            "_model_name": "DescriptionStyleModel",
            "_view_count": null,
            "_view_module": "@jupyter-widgets/base",
            "_view_module_version": "1.2.0",
            "_view_name": "StyleView",
            "description_width": ""
          }
        },
        "93098c839fd14cf489604b96f864719b": {
          "model_module": "@jupyter-widgets/controls",
          "model_name": "HBoxModel",
          "model_module_version": "1.5.0",
          "state": {
            "_dom_classes": [],
            "_model_module": "@jupyter-widgets/controls",
            "_model_module_version": "1.5.0",
            "_model_name": "HBoxModel",
            "_view_count": null,
            "_view_module": "@jupyter-widgets/controls",
            "_view_module_version": "1.5.0",
            "_view_name": "HBoxView",
            "box_style": "",
            "children": [
              "IPY_MODEL_0b4a372c84ed4a258fb14c43aa4049eb",
              "IPY_MODEL_571cf10be86046ef9f57a5a17ea7d799",
              "IPY_MODEL_76e1bf601ca14c4e8316818f7ea2bf4c"
            ],
            "layout": "IPY_MODEL_11adcab981cf44f986d3d96367a01a49"
          }
        },
        "0b4a372c84ed4a258fb14c43aa4049eb": {
          "model_module": "@jupyter-widgets/controls",
          "model_name": "HTMLModel",
          "model_module_version": "1.5.0",
          "state": {
            "_dom_classes": [],
            "_model_module": "@jupyter-widgets/controls",
            "_model_module_version": "1.5.0",
            "_model_name": "HTMLModel",
            "_view_count": null,
            "_view_module": "@jupyter-widgets/controls",
            "_view_module_version": "1.5.0",
            "_view_name": "HTMLView",
            "description": "",
            "description_tooltip": null,
            "layout": "IPY_MODEL_5d5ea0dfc7714e83a54fa3d40df9ee0e",
            "placeholder": "​",
            "style": "IPY_MODEL_5cc2b9e76b7943c78ddbd81d05a0c2e0",
            "value": "Generating test split: 100%"
          }
        },
        "571cf10be86046ef9f57a5a17ea7d799": {
          "model_module": "@jupyter-widgets/controls",
          "model_name": "FloatProgressModel",
          "model_module_version": "1.5.0",
          "state": {
            "_dom_classes": [],
            "_model_module": "@jupyter-widgets/controls",
            "_model_module_version": "1.5.0",
            "_model_name": "FloatProgressModel",
            "_view_count": null,
            "_view_module": "@jupyter-widgets/controls",
            "_view_module_version": "1.5.0",
            "_view_name": "ProgressView",
            "bar_style": "success",
            "description": "",
            "description_tooltip": null,
            "layout": "IPY_MODEL_92a89153ed354de8909ccba2c5e3ff22",
            "max": 1319,
            "min": 0,
            "orientation": "horizontal",
            "style": "IPY_MODEL_f084cd402a774e9f8c7a6119ec1f073d",
            "value": 1319
          }
        },
        "76e1bf601ca14c4e8316818f7ea2bf4c": {
          "model_module": "@jupyter-widgets/controls",
          "model_name": "HTMLModel",
          "model_module_version": "1.5.0",
          "state": {
            "_dom_classes": [],
            "_model_module": "@jupyter-widgets/controls",
            "_model_module_version": "1.5.0",
            "_model_name": "HTMLModel",
            "_view_count": null,
            "_view_module": "@jupyter-widgets/controls",
            "_view_module_version": "1.5.0",
            "_view_name": "HTMLView",
            "description": "",
            "description_tooltip": null,
            "layout": "IPY_MODEL_4e2fec2e4d544064b91757463258c9f3",
            "placeholder": "​",
            "style": "IPY_MODEL_786d58bb7dfe4b90a4fcd6944936556c",
            "value": " 1319/1319 [00:00&lt;00:00, 22664.85 examples/s]"
          }
        },
        "11adcab981cf44f986d3d96367a01a49": {
          "model_module": "@jupyter-widgets/base",
          "model_name": "LayoutModel",
          "model_module_version": "1.2.0",
          "state": {
            "_model_module": "@jupyter-widgets/base",
            "_model_module_version": "1.2.0",
            "_model_name": "LayoutModel",
            "_view_count": null,
            "_view_module": "@jupyter-widgets/base",
            "_view_module_version": "1.2.0",
            "_view_name": "LayoutView",
            "align_content": null,
            "align_items": null,
            "align_self": null,
            "border": null,
            "bottom": null,
            "display": null,
            "flex": null,
            "flex_flow": null,
            "grid_area": null,
            "grid_auto_columns": null,
            "grid_auto_flow": null,
            "grid_auto_rows": null,
            "grid_column": null,
            "grid_gap": null,
            "grid_row": null,
            "grid_template_areas": null,
            "grid_template_columns": null,
            "grid_template_rows": null,
            "height": null,
            "justify_content": null,
            "justify_items": null,
            "left": null,
            "margin": null,
            "max_height": null,
            "max_width": null,
            "min_height": null,
            "min_width": null,
            "object_fit": null,
            "object_position": null,
            "order": null,
            "overflow": null,
            "overflow_x": null,
            "overflow_y": null,
            "padding": null,
            "right": null,
            "top": null,
            "visibility": null,
            "width": null
          }
        },
        "5d5ea0dfc7714e83a54fa3d40df9ee0e": {
          "model_module": "@jupyter-widgets/base",
          "model_name": "LayoutModel",
          "model_module_version": "1.2.0",
          "state": {
            "_model_module": "@jupyter-widgets/base",
            "_model_module_version": "1.2.0",
            "_model_name": "LayoutModel",
            "_view_count": null,
            "_view_module": "@jupyter-widgets/base",
            "_view_module_version": "1.2.0",
            "_view_name": "LayoutView",
            "align_content": null,
            "align_items": null,
            "align_self": null,
            "border": null,
            "bottom": null,
            "display": null,
            "flex": null,
            "flex_flow": null,
            "grid_area": null,
            "grid_auto_columns": null,
            "grid_auto_flow": null,
            "grid_auto_rows": null,
            "grid_column": null,
            "grid_gap": null,
            "grid_row": null,
            "grid_template_areas": null,
            "grid_template_columns": null,
            "grid_template_rows": null,
            "height": null,
            "justify_content": null,
            "justify_items": null,
            "left": null,
            "margin": null,
            "max_height": null,
            "max_width": null,
            "min_height": null,
            "min_width": null,
            "object_fit": null,
            "object_position": null,
            "order": null,
            "overflow": null,
            "overflow_x": null,
            "overflow_y": null,
            "padding": null,
            "right": null,
            "top": null,
            "visibility": null,
            "width": null
          }
        },
        "5cc2b9e76b7943c78ddbd81d05a0c2e0": {
          "model_module": "@jupyter-widgets/controls",
          "model_name": "DescriptionStyleModel",
          "model_module_version": "1.5.0",
          "state": {
            "_model_module": "@jupyter-widgets/controls",
            "_model_module_version": "1.5.0",
            "_model_name": "DescriptionStyleModel",
            "_view_count": null,
            "_view_module": "@jupyter-widgets/base",
            "_view_module_version": "1.2.0",
            "_view_name": "StyleView",
            "description_width": ""
          }
        },
        "92a89153ed354de8909ccba2c5e3ff22": {
          "model_module": "@jupyter-widgets/base",
          "model_name": "LayoutModel",
          "model_module_version": "1.2.0",
          "state": {
            "_model_module": "@jupyter-widgets/base",
            "_model_module_version": "1.2.0",
            "_model_name": "LayoutModel",
            "_view_count": null,
            "_view_module": "@jupyter-widgets/base",
            "_view_module_version": "1.2.0",
            "_view_name": "LayoutView",
            "align_content": null,
            "align_items": null,
            "align_self": null,
            "border": null,
            "bottom": null,
            "display": null,
            "flex": null,
            "flex_flow": null,
            "grid_area": null,
            "grid_auto_columns": null,
            "grid_auto_flow": null,
            "grid_auto_rows": null,
            "grid_column": null,
            "grid_gap": null,
            "grid_row": null,
            "grid_template_areas": null,
            "grid_template_columns": null,
            "grid_template_rows": null,
            "height": null,
            "justify_content": null,
            "justify_items": null,
            "left": null,
            "margin": null,
            "max_height": null,
            "max_width": null,
            "min_height": null,
            "min_width": null,
            "object_fit": null,
            "object_position": null,
            "order": null,
            "overflow": null,
            "overflow_x": null,
            "overflow_y": null,
            "padding": null,
            "right": null,
            "top": null,
            "visibility": null,
            "width": null
          }
        },
        "f084cd402a774e9f8c7a6119ec1f073d": {
          "model_module": "@jupyter-widgets/controls",
          "model_name": "ProgressStyleModel",
          "model_module_version": "1.5.0",
          "state": {
            "_model_module": "@jupyter-widgets/controls",
            "_model_module_version": "1.5.0",
            "_model_name": "ProgressStyleModel",
            "_view_count": null,
            "_view_module": "@jupyter-widgets/base",
            "_view_module_version": "1.2.0",
            "_view_name": "StyleView",
            "bar_color": null,
            "description_width": ""
          }
        },
        "4e2fec2e4d544064b91757463258c9f3": {
          "model_module": "@jupyter-widgets/base",
          "model_name": "LayoutModel",
          "model_module_version": "1.2.0",
          "state": {
            "_model_module": "@jupyter-widgets/base",
            "_model_module_version": "1.2.0",
            "_model_name": "LayoutModel",
            "_view_count": null,
            "_view_module": "@jupyter-widgets/base",
            "_view_module_version": "1.2.0",
            "_view_name": "LayoutView",
            "align_content": null,
            "align_items": null,
            "align_self": null,
            "border": null,
            "bottom": null,
            "display": null,
            "flex": null,
            "flex_flow": null,
            "grid_area": null,
            "grid_auto_columns": null,
            "grid_auto_flow": null,
            "grid_auto_rows": null,
            "grid_column": null,
            "grid_gap": null,
            "grid_row": null,
            "grid_template_areas": null,
            "grid_template_columns": null,
            "grid_template_rows": null,
            "height": null,
            "justify_content": null,
            "justify_items": null,
            "left": null,
            "margin": null,
            "max_height": null,
            "max_width": null,
            "min_height": null,
            "min_width": null,
            "object_fit": null,
            "object_position": null,
            "order": null,
            "overflow": null,
            "overflow_x": null,
            "overflow_y": null,
            "padding": null,
            "right": null,
            "top": null,
            "visibility": null,
            "width": null
          }
        },
        "786d58bb7dfe4b90a4fcd6944936556c": {
          "model_module": "@jupyter-widgets/controls",
          "model_name": "DescriptionStyleModel",
          "model_module_version": "1.5.0",
          "state": {
            "_model_module": "@jupyter-widgets/controls",
            "_model_module_version": "1.5.0",
            "_model_name": "DescriptionStyleModel",
            "_view_count": null,
            "_view_module": "@jupyter-widgets/base",
            "_view_module_version": "1.2.0",
            "_view_name": "StyleView",
            "description_width": ""
          }
        },
        "b7347357d9174ccfa015ad5c7e12e8b3": {
          "model_module": "@jupyter-widgets/controls",
          "model_name": "HBoxModel",
          "model_module_version": "1.5.0",
          "state": {
            "_dom_classes": [],
            "_model_module": "@jupyter-widgets/controls",
            "_model_module_version": "1.5.0",
            "_model_name": "HBoxModel",
            "_view_count": null,
            "_view_module": "@jupyter-widgets/controls",
            "_view_module_version": "1.5.0",
            "_view_name": "HBoxView",
            "box_style": "",
            "children": [
              "IPY_MODEL_354287f8a0364393a216837ce654060a",
              "IPY_MODEL_1db2faa1e5b149d9a9293aee55a1b01e",
              "IPY_MODEL_ac580ee07b1d46b98996cc07f779b421"
            ],
            "layout": "IPY_MODEL_131f96bffc524f139cc306e936623120"
          }
        },
        "354287f8a0364393a216837ce654060a": {
          "model_module": "@jupyter-widgets/controls",
          "model_name": "HTMLModel",
          "model_module_version": "1.5.0",
          "state": {
            "_dom_classes": [],
            "_model_module": "@jupyter-widgets/controls",
            "_model_module_version": "1.5.0",
            "_model_name": "HTMLModel",
            "_view_count": null,
            "_view_module": "@jupyter-widgets/controls",
            "_view_module_version": "1.5.0",
            "_view_name": "HTMLView",
            "description": "",
            "description_tooltip": null,
            "layout": "IPY_MODEL_c93f8dbd28b64bc3852599a06407f59e",
            "placeholder": "​",
            "style": "IPY_MODEL_22c55b6de55643cda061661b286586f0",
            "value": "Map: 100%"
          }
        },
        "1db2faa1e5b149d9a9293aee55a1b01e": {
          "model_module": "@jupyter-widgets/controls",
          "model_name": "FloatProgressModel",
          "model_module_version": "1.5.0",
          "state": {
            "_dom_classes": [],
            "_model_module": "@jupyter-widgets/controls",
            "_model_module_version": "1.5.0",
            "_model_name": "FloatProgressModel",
            "_view_count": null,
            "_view_module": "@jupyter-widgets/controls",
            "_view_module_version": "1.5.0",
            "_view_name": "ProgressView",
            "bar_style": "success",
            "description": "",
            "description_tooltip": null,
            "layout": "IPY_MODEL_81019393efee410fb61a88f333147e18",
            "max": 1000,
            "min": 0,
            "orientation": "horizontal",
            "style": "IPY_MODEL_10cc4646465d4833868b1256c591b093",
            "value": 1000
          }
        },
        "ac580ee07b1d46b98996cc07f779b421": {
          "model_module": "@jupyter-widgets/controls",
          "model_name": "HTMLModel",
          "model_module_version": "1.5.0",
          "state": {
            "_dom_classes": [],
            "_model_module": "@jupyter-widgets/controls",
            "_model_module_version": "1.5.0",
            "_model_name": "HTMLModel",
            "_view_count": null,
            "_view_module": "@jupyter-widgets/controls",
            "_view_module_version": "1.5.0",
            "_view_name": "HTMLView",
            "description": "",
            "description_tooltip": null,
            "layout": "IPY_MODEL_c048daff94ec44c5804f0bbf22eca32c",
            "placeholder": "​",
            "style": "IPY_MODEL_d701ef0e9a8e4bfda890343afddfdb87",
            "value": " 1000/1000 [00:00&lt;00:00, 6447.13 examples/s]"
          }
        },
        "131f96bffc524f139cc306e936623120": {
          "model_module": "@jupyter-widgets/base",
          "model_name": "LayoutModel",
          "model_module_version": "1.2.0",
          "state": {
            "_model_module": "@jupyter-widgets/base",
            "_model_module_version": "1.2.0",
            "_model_name": "LayoutModel",
            "_view_count": null,
            "_view_module": "@jupyter-widgets/base",
            "_view_module_version": "1.2.0",
            "_view_name": "LayoutView",
            "align_content": null,
            "align_items": null,
            "align_self": null,
            "border": null,
            "bottom": null,
            "display": null,
            "flex": null,
            "flex_flow": null,
            "grid_area": null,
            "grid_auto_columns": null,
            "grid_auto_flow": null,
            "grid_auto_rows": null,
            "grid_column": null,
            "grid_gap": null,
            "grid_row": null,
            "grid_template_areas": null,
            "grid_template_columns": null,
            "grid_template_rows": null,
            "height": null,
            "justify_content": null,
            "justify_items": null,
            "left": null,
            "margin": null,
            "max_height": null,
            "max_width": null,
            "min_height": null,
            "min_width": null,
            "object_fit": null,
            "object_position": null,
            "order": null,
            "overflow": null,
            "overflow_x": null,
            "overflow_y": null,
            "padding": null,
            "right": null,
            "top": null,
            "visibility": null,
            "width": null
          }
        },
        "c93f8dbd28b64bc3852599a06407f59e": {
          "model_module": "@jupyter-widgets/base",
          "model_name": "LayoutModel",
          "model_module_version": "1.2.0",
          "state": {
            "_model_module": "@jupyter-widgets/base",
            "_model_module_version": "1.2.0",
            "_model_name": "LayoutModel",
            "_view_count": null,
            "_view_module": "@jupyter-widgets/base",
            "_view_module_version": "1.2.0",
            "_view_name": "LayoutView",
            "align_content": null,
            "align_items": null,
            "align_self": null,
            "border": null,
            "bottom": null,
            "display": null,
            "flex": null,
            "flex_flow": null,
            "grid_area": null,
            "grid_auto_columns": null,
            "grid_auto_flow": null,
            "grid_auto_rows": null,
            "grid_column": null,
            "grid_gap": null,
            "grid_row": null,
            "grid_template_areas": null,
            "grid_template_columns": null,
            "grid_template_rows": null,
            "height": null,
            "justify_content": null,
            "justify_items": null,
            "left": null,
            "margin": null,
            "max_height": null,
            "max_width": null,
            "min_height": null,
            "min_width": null,
            "object_fit": null,
            "object_position": null,
            "order": null,
            "overflow": null,
            "overflow_x": null,
            "overflow_y": null,
            "padding": null,
            "right": null,
            "top": null,
            "visibility": null,
            "width": null
          }
        },
        "22c55b6de55643cda061661b286586f0": {
          "model_module": "@jupyter-widgets/controls",
          "model_name": "DescriptionStyleModel",
          "model_module_version": "1.5.0",
          "state": {
            "_model_module": "@jupyter-widgets/controls",
            "_model_module_version": "1.5.0",
            "_model_name": "DescriptionStyleModel",
            "_view_count": null,
            "_view_module": "@jupyter-widgets/base",
            "_view_module_version": "1.2.0",
            "_view_name": "StyleView",
            "description_width": ""
          }
        },
        "81019393efee410fb61a88f333147e18": {
          "model_module": "@jupyter-widgets/base",
          "model_name": "LayoutModel",
          "model_module_version": "1.2.0",
          "state": {
            "_model_module": "@jupyter-widgets/base",
            "_model_module_version": "1.2.0",
            "_model_name": "LayoutModel",
            "_view_count": null,
            "_view_module": "@jupyter-widgets/base",
            "_view_module_version": "1.2.0",
            "_view_name": "LayoutView",
            "align_content": null,
            "align_items": null,
            "align_self": null,
            "border": null,
            "bottom": null,
            "display": null,
            "flex": null,
            "flex_flow": null,
            "grid_area": null,
            "grid_auto_columns": null,
            "grid_auto_flow": null,
            "grid_auto_rows": null,
            "grid_column": null,
            "grid_gap": null,
            "grid_row": null,
            "grid_template_areas": null,
            "grid_template_columns": null,
            "grid_template_rows": null,
            "height": null,
            "justify_content": null,
            "justify_items": null,
            "left": null,
            "margin": null,
            "max_height": null,
            "max_width": null,
            "min_height": null,
            "min_width": null,
            "object_fit": null,
            "object_position": null,
            "order": null,
            "overflow": null,
            "overflow_x": null,
            "overflow_y": null,
            "padding": null,
            "right": null,
            "top": null,
            "visibility": null,
            "width": null
          }
        },
        "10cc4646465d4833868b1256c591b093": {
          "model_module": "@jupyter-widgets/controls",
          "model_name": "ProgressStyleModel",
          "model_module_version": "1.5.0",
          "state": {
            "_model_module": "@jupyter-widgets/controls",
            "_model_module_version": "1.5.0",
            "_model_name": "ProgressStyleModel",
            "_view_count": null,
            "_view_module": "@jupyter-widgets/base",
            "_view_module_version": "1.2.0",
            "_view_name": "StyleView",
            "bar_color": null,
            "description_width": ""
          }
        },
        "c048daff94ec44c5804f0bbf22eca32c": {
          "model_module": "@jupyter-widgets/base",
          "model_name": "LayoutModel",
          "model_module_version": "1.2.0",
          "state": {
            "_model_module": "@jupyter-widgets/base",
            "_model_module_version": "1.2.0",
            "_model_name": "LayoutModel",
            "_view_count": null,
            "_view_module": "@jupyter-widgets/base",
            "_view_module_version": "1.2.0",
            "_view_name": "LayoutView",
            "align_content": null,
            "align_items": null,
            "align_self": null,
            "border": null,
            "bottom": null,
            "display": null,
            "flex": null,
            "flex_flow": null,
            "grid_area": null,
            "grid_auto_columns": null,
            "grid_auto_flow": null,
            "grid_auto_rows": null,
            "grid_column": null,
            "grid_gap": null,
            "grid_row": null,
            "grid_template_areas": null,
            "grid_template_columns": null,
            "grid_template_rows": null,
            "height": null,
            "justify_content": null,
            "justify_items": null,
            "left": null,
            "margin": null,
            "max_height": null,
            "max_width": null,
            "min_height": null,
            "min_width": null,
            "object_fit": null,
            "object_position": null,
            "order": null,
            "overflow": null,
            "overflow_x": null,
            "overflow_y": null,
            "padding": null,
            "right": null,
            "top": null,
            "visibility": null,
            "width": null
          }
        },
        "d701ef0e9a8e4bfda890343afddfdb87": {
          "model_module": "@jupyter-widgets/controls",
          "model_name": "DescriptionStyleModel",
          "model_module_version": "1.5.0",
          "state": {
            "_model_module": "@jupyter-widgets/controls",
            "_model_module_version": "1.5.0",
            "_model_name": "DescriptionStyleModel",
            "_view_count": null,
            "_view_module": "@jupyter-widgets/base",
            "_view_module_version": "1.2.0",
            "_view_name": "StyleView",
            "description_width": ""
          }
        }
      }
    }
  },
  "cells": [
    {
      "cell_type": "markdown",
      "source": [
        "# 🤖 微調實戰課程-P3-GRPO\n",
        "\n",
        "> 使用 Trl 訓練框架、GRPO 策略微調 0.5B 模型，專屬於你的第一堂微調語言模型實戰課程\n",
        "> 日期：2025/09/16-1020\n",
        "\n",
        "<a href=\"https://www.tenlong.com.tw/products/9786264142915\"><img src=\"https://github.com/openpipe/art/raw/main/assets/Header_separator.png\" height=\"5\"></a>\n",
        "\n",
        "## 👨‍💻 作者資源與聯絡方式\n",
        "\n",
        "### 📚 深度學習專書\n",
        "**📖 《LangGraph 實戰開發 AI Agent 全攻略》** - 我的最新技術著作\n",
        "深入探討 LangGraph、Agentic AI System 等前沿技術\n",
        "**[立即購買](https://www.tenlong.com.tw/products/9786264142915)**\n",
        "\n",
        "### 🌐 社群媒體與技術交流\n",
        "如果您有任何疑問或想要進一步交流，歡迎透過以下管道聯絡：\n",
        "\n",
        "* **📖 技術專書**： [購買我的 LangGraph 實戰開發 AI Agent 全攻略](https://www.tenlong.com.tw/products/9786264142915)\n",
        "* **💻 GitHub**： [我的開源專案](https://github.com/Heng-xiu)\n",
        "* **🤗 Hugging Face**： [我的模型與資料集](https://huggingface.co/Heng666)\n",
        "* **✍️ 部落格**： [技術文章分享](https://r23456999.medium.com/)\n",
        "\n",
        "感謝大家的支持！期待與更多 AI 技術愛好者交流討論 🚀\n",
        "\n",
        "<div class=\"align-center\">\n",
        "  <a href=\"https://ko-fi.com/hengshiousheu\"><img src=\"https://github.com/unslothai/unsloth/raw/main/images/Kofi button.png\" width=\"145\"></a>\n",
        "</div>\n",
        "\n",
        "<a href=\"https://www.tenlong.com.tw/products/9786264142915\"><img src=\"https://github.com/openpipe/art/raw/main/assets/Header_separator.png\" height=\"5\"></a>\n",
        "\n"
      ],
      "metadata": {
        "id": "HJX0Dgarr-Oj"
      }
    },
    {
      "cell_type": "markdown",
      "source": [
        "# 第一章、可驗證獎勵強化學習\n",
        "可驗證獎勵強化學習 (Reinforcement LEarning Verfied Reward; RLVR) 是一種訓練 AI 系統（尤其是大型語言模型）的方法，它根據輸出是否符合預先定義的正確性標準，為系統提供清晰客觀的回饋。與依賴主觀人工評估或複雜的學習獎勵模型的傳統強化學習方法不同，RLVR 使用基於規則的函數來評估模型反應的準確性，並提供二元獎勵：1 表示正確輸出，0 表示錯誤輸出。\n",
        "\n",
        "---"
      ],
      "metadata": {
        "id": "k2Z5mlnmsEC6"
      }
    },
    {
      "cell_type": "markdown",
      "source": [
        "#第二章、介紹 GRPO\n",
        "\n",
        "GRPO（Group Relative Policy Optimization） 是一個相對新穎的做法。它的特點在於能夠「直接優化模型的偏好對齊」，換句話說，就是讓模型更快、更穩定地學會產生符合人類期待的輸出。相比傳統的 PPO，GRPO 的設計更簡潔，但效果往往更好。下面我們從三個核心元素來理解它的運作。"
      ],
      "metadata": {
        "id": "ILS_POkIkP1V"
      }
    },
    {
      "cell_type": "markdown",
      "source": [
        "##2.1群組取樣（Group Sampling）：一次嘗試多種答案\n",
        "\n",
        "在 GRPO 的第一步是針對每個問題產生多個可能的答案。這樣就能建立一組多樣化的輸出，之後可以彼此比較。模型不會只給出單一解答，而是針對同一個問題產生多個版本。常見的數量是 4、8，甚至 16 個。這有點像同一組學生被分派一樣的數學題，每個人都交出自己的解法。\n",
        "\n",
        "有些解法會按部就班，先算總數再細分；有些解法可能直接跳步，或者方法雖不同卻同樣正確；當然，也會出現錯誤或比較笨拙的做法。這些嘗試會一起被保留下來，形成一個「解答集合」，方便後續進行比較與學習。\n",
        "\n",
        "###2.1.1範例\n",
        "\n",
        "假設有一個簡單的算術問題：\n",
        "\n",
        "$$\n",
        "q : \\; \\text{計算 } 2 + 2 \\times 6\n",
        "$$\n",
        "\n",
        "輸出結果（當 $G = 8$ 時）：\n",
        "\n",
        "$$\n",
        "\\{ o_1: 14 \\; (\\text{正確}),\\; o_2: 16 \\; (\\text{錯誤}),\\; o_3: 10 \\; (\\text{錯誤}),\\; \\ldots,\\; o_8: 14 \\; (\\text{正確}) \\}\n",
        "$$\n",
        "\n",
        "可以看到，有些答案正確（14），而有些答案則錯誤（16 或 10）。這種多樣性對接下來的步驟至關重要。"
      ],
      "metadata": {
        "id": "n3bEraHVkVde"
      }
    },
    {
      "cell_type": "markdown",
      "source": [
        "##2.2-優勢值計算（Advantage Calculation）：分辨誰更好\n",
        "\n",
        "在我們已經得到多個回應之後，下一步就是要判斷：哪些答案比其他更好？GRPO 的簡潔性正是其真正亮點所在。與其他 RLHF 方法不同，傳統的 RLHF 通常要另外訓練一個獎勵模型，但 GRPO 的設計比較靈活，只要透過判斷品質的函數，計算出「優勢值（Advantage）」就可。\n",
        "\n",
        "優勢值公式\n",
        "\n",
        "GRPO 的關鍵洞察是：我們不需要絕對的品質分數，只要比較同一組裡的答案相對好壞即可。\n",
        "\n",
        "這透過「標準化」來完成：\n",
        "\n",
        "$$\n",
        "A_i = \\frac{r_i - \\text{mean}(r_1, r_2, \\dots, r_G)}{\\text{std}(r_1, r_2, \\dots, r_G)}\n",
        "$$\n",
        "\n",
        "其中：\n",
        "\n",
        "$r_i$ 是單一回應的獎勵分數\n",
        "\n",
        "$\\text{mean}(\\cdot)$ 是整組回應的平均獎勵\n",
        "\n",
        "$\\text{std}(\\cdot)$ 是這組回應的標準差\n",
        "\n",
        "引入獎勵分布\n",
        "\n",
        "首先，為每個產生的回應分配一個獎勵分數。這裡我們以「獎勵模型（Reward Model, RM）」為例，但正如前一節提到的，我們其實可以使用任何能回傳獎勵的函數。\n",
        "\n",
        "例如，根據答案是否正確來給分：若正確則 r_i = 1，若錯誤則 r_i = 0。接著，我們就可以利用這些分數來計算每個回應的優勢值。\n",
        "\n",
        "###2.2.1-範例\n",
        "\n",
        "延續前面的算術例子，假設我們有 8 個回應，其中 4 個正確、4 個錯誤。則：\n",
        "\n",
        "| 指標       | 數值                                   |\n",
        "| -------- | ------------------------------------ |\n",
        "| 群組平均     | $\\text{mean}(r_i) = 0.5$             |\n",
        "| 標準差      | $\\text{std}(r_i) = 0.53$             |\n",
        "| 正確答案的優勢值 | $A_i = \\frac{1 - 0.5}{0.53} = 0.94$  |\n",
        "| 錯誤答案的優勢值 | $A_i = \\frac{0 - 0.5}{0.53} = -0.94$ |\n",
        "\n",
        "\n",
        "這個「優勢值」告訴我們每個答案相對於平均表現的好壞：\n",
        "\n",
        "若 $A_i > 0$，代表該答案表現好於平均（高品質回應），模型在訓練時會提高它的生成機率。\n",
        "\n",
        "若 $A_i < 0$，則代表答案低於平均（低品質回應），模型會降低它的生成機率。\n",
        "\n",
        "在這個例子中，正確答案的 $A_i = 0.94$，因此在後續的最佳化過程中，它會被「強化」；而錯誤答案的 $A_i = -0.94$，則會被「削弱」。\n",
        "\n",
        "📌 小結 透過優勢值計算，模型能在同一組輸出中辨別誰表現突出、誰表現落後，進而引導最佳化過程。接下來，我們就可以利用這些優勢值來更新策略。"
      ],
      "metadata": {
        "id": "bvieUGOMkb9a"
      }
    },
    {
      "cell_type": "markdown",
      "source": [
        "##2.3-策略更新（Policy Update）：學習並持續改進\n",
        "\n",
        "最後一步是 GRPO 訓練模型，就是利用前面計算出來的「優勢值」來更新模型，讓它在未來更有可能生成好的回應。這個過程既強大又穩定，主要基於兩個原則：\n",
        "\n",
        "它鼓勵模型產生更多類似成功解決方案，同時擺脫效率較低的方法\n",
        "\n",
        "它包含一個安全機制（稱為 KL 散度懲罰），可以防止模型一次發生太大的變化"
      ],
      "metadata": {
        "id": "R6CC09vD5BSk"
      }
    },
    {
      "cell_type": "markdown",
      "source": [
        "\n",
        "\n",
        "---\n",
        "\n"
      ],
      "metadata": {
        "id": "A3oGqyASkhQ-"
      }
    },
    {
      "cell_type": "markdown",
      "source": [
        "# 第 三 章：環境建置與前置準備\n",
        "在我們開始微調 LLM 之前，首先要確保我們的開發環境已經準備就緒。一個穩定且配置正確的環境是成功訓練模型的第一步。\n",
        "\n",
        "> GPU 啟用： 請確保您的 Colab Notebook 已啟用 GPU。點擊菜單欄的 執行階段 (Runtime) -> 變更執行階段類型 (Change runtime type)，然後在 硬體加速器 (Hardware accelerator) 中選擇 GPU。"
      ],
      "metadata": {
        "id": "K1mRf-Ry5Gvu"
      }
    },
    {
      "cell_type": "markdown",
      "source": [
        "## 3.1  首先，來登入 HuggingFace\n",
        "\n",
        "由於我們將從 Hugging Face hub 下載基礎模型 `unsloth/gemma-3-1b-it`，並將我們量化過的模型上傳回 Hugging Face hub，所以讓我們先登入 Hugging Face。\n",
        "\n",
        "#### Google Colab 新功能\n",
        "我將我的 Hugging Face token 存儲在左側的秘密標籤中。將我的 token 儲存在這個秘密標籤的好處是，我不會在筆記本中暴露 token，且我可以將這個秘密配置應用於我所有的 Colab 筆記本。"
      ],
      "metadata": {
        "id": "24gXwKpu5I1f"
      }
    },
    {
      "cell_type": "code",
      "execution_count": null,
      "metadata": {
        "colab": {
          "base_uri": "https://localhost:8080/"
        },
        "id": "Px_kEKxEqyhP",
        "outputId": "f4f05037-f2be-4706-ddd8-6e995d4bcaa1"
      },
      "outputs": [
        {
          "output_type": "stream",
          "name": "stdout",
          "text": [
            "Heng666\n"
          ]
        }
      ],
      "source": [
        "from google.colab import userdata\n",
        "from huggingface_hub import HfApi\n",
        "\n",
        "HF_TOKEN = userdata.get(\"HF_TOKEN\")\n",
        "\n",
        "api = HfApi(token=HF_TOKEN)\n",
        "username = api.whoami()['name']\n",
        "print(username)"
      ]
    },
    {
      "cell_type": "markdown",
      "source": [
        "##3.2 必要 Python 套件安裝\n",
        "無論您是使用 Conda 環境還是 Google Colab，接下來都需要安裝進行 LLM 微調所需的 Python 套件。請在您啟用的 Conda 環境中 (或 Colab 儲存格中) 執行以下指令：\n",
        "\n",
        "*   transformers: Hugging Face 模型的基礎，\n",
        "用於載入模型和分詞器。\n",
        "*   datasets: Hugging Face 資料集函式庫，用於載入和處理資料。"
      ],
      "metadata": {
        "id": "PeHCtuRU5R7P"
      }
    },
    {
      "cell_type": "code",
      "source": [
        "!pip install --quiet transformers datasets trl bitsandbytes peft trackio"
      ],
      "metadata": {
        "colab": {
          "base_uri": "https://localhost:8080/"
        },
        "id": "MHeEuxzs6B58",
        "outputId": "b294bb02-ff71-453b-d08e-032d982cb84e"
      },
      "execution_count": null,
      "outputs": [
        {
          "output_type": "stream",
          "name": "stdout",
          "text": [
            "\u001b[2K   \u001b[90m━━━━━━━━━━━━━━━━━━━━━━━━━━━━━━━━━━━━━━━━\u001b[0m \u001b[32m564.7/564.7 kB\u001b[0m \u001b[31m15.1 MB/s\u001b[0m eta \u001b[36m0:00:00\u001b[0m\n",
            "\u001b[2K   \u001b[90m━━━━━━━━━━━━━━━━━━━━━━━━━━━━━━━━━━━━━━━━\u001b[0m \u001b[32m61.3/61.3 MB\u001b[0m \u001b[31m14.3 MB/s\u001b[0m eta \u001b[36m0:00:00\u001b[0m\n",
            "\u001b[2K   \u001b[90m━━━━━━━━━━━━━━━━━━━━━━━━━━━━━━━━━━━━━━━━\u001b[0m \u001b[32m851.6/851.6 kB\u001b[0m \u001b[31m53.7 MB/s\u001b[0m eta \u001b[36m0:00:00\u001b[0m\n",
            "\u001b[?25h"
          ]
        }
      ]
    },
    {
      "cell_type": "markdown",
      "source": [
        "## 3.3 GPU 驅動與 CUDA 支援確認\n",
        "\n",
        "LLM 的訓練需要大量的計算資源，幾乎必須仰賴 GPU (Graphics Processing Unit)。因此，確認您的環境是否正確偵測到 GPU 並支援 CUDA 是至關重要的一步。\n",
        "\n",
        "CUDA 是 NVIDIA 提供的平行運算平台和程式設計模型，允許軟體使用 GPU 進行通用計算。PyTorch (一個流行的深度學習框架) 透過 CUDA 來利用 NVIDIA GPU 的運算能力。\n",
        "\n",
        "請執行以下 Python 程式碼，檢查您的 PyTorch 環境是否已正確偵測到 CUDA："
      ],
      "metadata": {
        "id": "Raj5MUre59Vv"
      }
    },
    {
      "cell_type": "code",
      "source": [
        "# 3.3.1 檢查 PyTorch 是否偵測到 CUDA\n",
        "import torch\n",
        "\n",
        "print(f\"PyTorch 是否支援 CUDA: {torch.cuda.is_available()}\")\n",
        "if torch.cuda.is_available():\n",
        "    print(f\"目前使用的 CUDA 裝置名稱: {torch.cuda.get_device_name(0)}\")\n",
        "    print(f\"CUDA 裝置數量: {torch.cuda.device_count()}\")\n",
        "    # 可以進一步檢查 CUDA 版本\n",
        "    print(f\"PyTorch 編譯的 CUDA 版本: {torch.version.cuda}\")\n",
        "    # 執行 nvidia-smi (僅限 Linux/Windows 終端機，Colab 可直接執行)\n",
        "    # !nvidia-smi\n",
        "else:\n",
        "    print(\"警告：未偵測到 CUDA。模型訓練將在 CPU 上運行，速度會非常慢。\")\n",
        "    print(\"請檢查您的 GPU 驅動程式安裝、CUDA Toolkit 設定以及 PyTorch 的 CUDA 支援。\")"
      ],
      "metadata": {
        "colab": {
          "base_uri": "https://localhost:8080/"
        },
        "id": "OSK-X-rI5-5L",
        "outputId": "8656ed2a-6e69-4dfe-b2b8-5a366241a5d5"
      },
      "execution_count": null,
      "outputs": [
        {
          "output_type": "stream",
          "name": "stdout",
          "text": [
            "PyTorch 是否支援 CUDA: True\n",
            "目前使用的 CUDA 裝置名稱: Tesla T4\n",
            "CUDA 裝置數量: 1\n",
            "PyTorch 編譯的 CUDA 版本: 12.6\n"
          ]
        }
      ]
    },
    {
      "cell_type": "code",
      "source": [
        "!nvidia-smi"
      ],
      "metadata": {
        "colab": {
          "base_uri": "https://localhost:8080/"
        },
        "id": "aHDb0nX06Beh",
        "outputId": "534cfd18-b2d0-4712-c8d5-0ba1d4d93e90"
      },
      "execution_count": null,
      "outputs": [
        {
          "output_type": "stream",
          "name": "stdout",
          "text": [
            "Tue Sep 16 15:05:02 2025       \n",
            "+-----------------------------------------------------------------------------------------+\n",
            "| NVIDIA-SMI 550.54.15              Driver Version: 550.54.15      CUDA Version: 12.4     |\n",
            "|-----------------------------------------+------------------------+----------------------+\n",
            "| GPU  Name                 Persistence-M | Bus-Id          Disp.A | Volatile Uncorr. ECC |\n",
            "| Fan  Temp   Perf          Pwr:Usage/Cap |           Memory-Usage | GPU-Util  Compute M. |\n",
            "|                                         |                        |               MIG M. |\n",
            "|=========================================+========================+======================|\n",
            "|   0  Tesla T4                       Off |   00000000:00:04.0 Off |                    0 |\n",
            "| N/A   65C    P8             11W /   70W |       2MiB /  15360MiB |      0%      Default |\n",
            "|                                         |                        |                  N/A |\n",
            "+-----------------------------------------+------------------------+----------------------+\n",
            "                                                                                         \n",
            "+-----------------------------------------------------------------------------------------+\n",
            "| Processes:                                                                              |\n",
            "|  GPU   GI   CI        PID   Type   Process name                              GPU Memory |\n",
            "|        ID   ID                                                               Usage      |\n",
            "|=========================================================================================|\n",
            "|  No running processes found                                                             |\n",
            "+-----------------------------------------------------------------------------------------+\n"
          ]
        }
      ]
    },
    {
      "cell_type": "markdown",
      "source": [
        "> 【重要提醒】：如果 torch.cuda.is_available() 回傳 False，您可能需要：\n",
        "\n",
        "確認您的電腦有 NVIDIA GPU。\n",
        "\n",
        "安裝正確版本的 NVIDIA 顯示卡驅動程式。\n",
        "\n",
        "安裝與您 PyTorch 版本相容的 CUDA Toolkit。\n",
        "\n",
        "對於 Colab 用戶，請再次確認您已在執行階段中選擇了 GPU。"
      ],
      "metadata": {
        "id": "1jYlsabs7ynL"
      }
    },
    {
      "cell_type": "markdown",
      "source": [
        "## 3.5 確認安裝套件版本\n",
        "\n",
        "套入 GRPO 訓練, 模型參以及實驗追蹤。"
      ],
      "metadata": {
        "id": "3y7XNcxg6-aK"
      }
    },
    {
      "cell_type": "code",
      "source": [
        "import trackio  # Experiment tracking dashboard\n",
        "import re  # Regex patterns for reward functions\n",
        "\n",
        "# GRPO training components\n",
        "from trl import GRPOConfig, GRPOTrainer\n",
        "\n",
        "# Model and tokenization\n",
        "from transformers import (\n",
        "    AutoModelForCausalLM,  # Causal language model loading\n",
        "    AutoTokenizer,  # Text tokenization\n",
        ")\n",
        "\n",
        "# Dataset handling\n",
        "from datasets import load_dataset\n",
        "\n",
        "# Logging configuration\n",
        "import logging\n",
        "\n",
        "logging.basicConfig(level=logging.INFO)\n",
        "logger = logging.getLogger(__name__)\n",
        "\n",
        "# Suppress httpx request logs that appear during trackio usage\n",
        "logging.getLogger(\"httpx\").setLevel(logging.WARNING)\n",
        "logging.getLogger(\"gradio_client\").setLevel(logging.WARNING)"
      ],
      "metadata": {
        "id": "yO5ZhFyb7Cg7"
      },
      "execution_count": null,
      "outputs": []
    },
    {
      "cell_type": "markdown",
      "source": [
        "#第四章、如何在有限資源下完成 GRPO 訓練？\n",
        "\n",
        "Load up `Qwen/Qwen2.5-0.5B-Instruct`, and set parameters"
      ],
      "metadata": {
        "id": "SeKq9UmN6k_A"
      }
    },
    {
      "cell_type": "markdown",
      "source": [
        "## 4.0 仔入模型\n",
        "\n",
        "選擇一個緊湊但功能強大的模型，適合具有記憶體限制的數學推理。"
      ],
      "metadata": {
        "id": "DVc9frfF_V9_"
      }
    },
    {
      "cell_type": "code",
      "source": [
        "# Select model optimized for instruction-following and reasoning\n",
        "model_name = \"Qwen/Qwen2.5-0.5B-Instruct\"  # 3B parameter model balances capability and memory usage\n",
        "max_seq_length = 2048  # Token limit for mathematical problems (reduce if OOM)\n",
        "\n",
        "print(f\"Loading model: {model_name}\")\n",
        "print(f\"Max sequence length: {max_seq_length}\")"
      ],
      "metadata": {
        "id": "iPIe49p8_aan",
        "colab": {
          "base_uri": "https://localhost:8080/"
        },
        "outputId": "1a8bc0b0-0fb7-4294-c1d2-e16a0c0f3fb4"
      },
      "execution_count": null,
      "outputs": [
        {
          "output_type": "stream",
          "name": "stdout",
          "text": [
            "Loading model: Qwen/Qwen2.5-0.5B-Instruct\n",
            "Max sequence length: 2048\n"
          ]
        }
      ]
    },
    {
      "cell_type": "code",
      "source": [
        "# Load model with automatic device mapping\n",
        "model = AutoModelForCausalLM.from_pretrained(\n",
        "    model_name,\n",
        "    device_map=\"auto\",  # Auto-distribute across available GPUs/CPU\n",
        "    trust_remote_code=True,  # Allow custom model code execution\n",
        "    torch_dtype=torch.float16,  # Use FP16 for non-quantized operations\n",
        ")\n",
        "\n",
        "# Load corresponding tokenizer\n",
        "tokenizer = AutoTokenizer.from_pretrained(model_name, trust_remote_code=True)  # Allow custom tokenizer code\n",
        "\n",
        "# Ensure tokenizer has proper padding token for batch processing\n",
        "if tokenizer.pad_token is None:\n",
        "    tokenizer.pad_token = tokenizer.eos_token\n",
        "\n",
        "print(f\"✅ Model loaded successfully!\")\n",
        "print(f\"📊 Model parameters: ~{sum(p.numel() for p in model.parameters()) / 1e6:.1f}M\")\n",
        "print(f\"🧮 Quantized parameters: ~{sum(p.numel() for p in model.parameters() if hasattr(p, 'quant_type')) / 1e6:.1f}M\")"
      ],
      "metadata": {
        "id": "dZGqbEyU_fpU",
        "colab": {
          "base_uri": "https://localhost:8080/",
          "height": 310,
          "referenced_widgets": [
            "7c51f15fe88b4071b1c0e5600194a458",
            "34d4f6864ffc45fa883a14b663cdeed2",
            "c67a560f4107424188efe4de895d1e98",
            "a6b83cee8dce40c2bda37a950bcdff13",
            "8b9fd3e9e4d44ba9b0c2500a717f1a4b",
            "2bb7ace566844bb4b7c66025edc0b06e",
            "9ccebb8f2fc046589515b211377a6dfd",
            "88661630128842d1926cb986832b30e7",
            "8a9b409b93084938b111cee5facd6aa5",
            "593a27b55ba94c8796f9bcbb8fede266",
            "48ce651bc04c408f9b0ae5db9d182155",
            "7e5b9db5001f4a0d9c37448c1228be7e",
            "23e15b9fcdb345e79dedc9caa93a9678",
            "84893a129c0a4d35833b9828c7696265",
            "6371254ac2c64e44830107244d817e6c",
            "c6ee9ae5a87f4fec86db0a3945f861b0",
            "7a468c904ee34f799af9dbdd3b9330c8",
            "6b69f0b895104434ad86f55de6d9248f",
            "0ea8bfe1ec4a4d0a9c5f24a814690000",
            "f5799a9c2f8c410dbf0326750208e73e",
            "8301ba6a15834482903841f106b1f415",
            "c54b879a54ab4e6fb8914e9598a28a5f",
            "e38b63959bcc4144975566aba0def065",
            "3340564aa6234cd4bf17e9fd9bf67eb2",
            "f92d2713bca346748cb6e70dc5729104",
            "995fec82f12a4e47b503a0bfaf56f66f",
            "fb117867ac4946719c70f7744efb9f42",
            "7d1dcb5b35254186a5daa0386cb37454",
            "2213b49563174cec83be77ecd88263f9",
            "3a30363861cb419c92b915dfde39947d",
            "a46681e0b77446cdbf0b3e5fb4fb6df8",
            "e88fdb1f8365414c886b7552e434cf91",
            "b710f3932e404ad5beb1da1896545fa4",
            "60af50a85a1a4f6cac86fb0a8adbed7e",
            "2e0cb3ce53be4e7a9b35d2abe85e11de",
            "d67c5a8baded430a986426413bf9787f",
            "54174b80564d40759c8d78dd09f7f5a0",
            "e3847020bba543fea64fddd6b2a77d96",
            "189dba6e19654b79a2c11ef61d3c50b4",
            "4130efd1372248ac92216b1818c416bc",
            "66003d9640aa4020b73085ea8a492612",
            "d0b24ac8114246719d37e06afd4b5165",
            "bde08a4827884e9baa866710ccd9c6a1",
            "a0cadf7919794f8b824835aff258c3b0",
            "69ef2dbb3288406f98951f295d162bdf",
            "61275a1f50504b10b516b29644b7e5ec",
            "3fecb8e3416f43b49ea93c212bd21c3e",
            "ac526a2abef84dcd971178c68f70f8c6",
            "c28e55bb728b4015989a475a001cfdb8",
            "60af46fcb02c40bfb6ac5d63459c139f",
            "6922b45f91a14a5e8e231b3f5853c364",
            "d94edbe6a20546ccac0b7e4814a72990",
            "37d999d4cecb40149c856caf6dbaf48f",
            "5530e3ff00ca41d99c1fe2a3846e56af",
            "9236dbe04f154c13a4d7dc6e0b514451",
            "a114a1a3fb9d45359da69742c3f37dc5",
            "dd7745023dc24039a10a82da32f3180b",
            "43be58a1d6274e9590b252d47b9d94dc",
            "972f0cb5b7e342f0beddb9f31d1e02c1",
            "a56d416a2d6449a1914bbd6c18421aba",
            "6f83f80b1bc9449eb82c35a0bacaf789",
            "9e477a40d1d04726ac8161bbcca69787",
            "d46340c26b1444218d441234c4bd55c6",
            "37bb782d60a24a35b078f76eb3b3566e",
            "42b02fbecf5c4708b46fbcffa48b2def",
            "83512341ce534f36b2b0044e97a3cb96",
            "ba784877fea04f82b67c7e94796ba7d7",
            "76515fa00b394235b99cd0b09dd20148",
            "f1b1f3e0cd1d4eb6a9a0bc141fe1c83a",
            "87838652ccba47a090eba129ad7bf49d",
            "bb48cf96684741cdb62c5d6889067d40",
            "6da86b5e9a374d548f147e4219a1c16c",
            "2b044654d8e846188321994ad9520c97",
            "b2fe9ef69f074790b486d671c06385f6",
            "16cb0072f1464a77a247da83bdac1c2c",
            "a67a85f82fd545a0bc9b5fdca8b04fe6",
            "4173abf43d754825b14dc04777982f0b"
          ]
        },
        "outputId": "2bb1e45b-5d88-4c49-fa18-40bbb246f457"
      },
      "execution_count": null,
      "outputs": [
        {
          "output_type": "display_data",
          "data": {
            "text/plain": [
              "config.json:   0%|          | 0.00/659 [00:00<?, ?B/s]"
            ],
            "application/vnd.jupyter.widget-view+json": {
              "version_major": 2,
              "version_minor": 0,
              "model_id": "7c51f15fe88b4071b1c0e5600194a458"
            }
          },
          "metadata": {}
        },
        {
          "output_type": "stream",
          "name": "stderr",
          "text": [
            "`torch_dtype` is deprecated! Use `dtype` instead!\n"
          ]
        },
        {
          "output_type": "display_data",
          "data": {
            "text/plain": [
              "model.safetensors:   0%|          | 0.00/988M [00:00<?, ?B/s]"
            ],
            "application/vnd.jupyter.widget-view+json": {
              "version_major": 2,
              "version_minor": 0,
              "model_id": "7e5b9db5001f4a0d9c37448c1228be7e"
            }
          },
          "metadata": {}
        },
        {
          "output_type": "display_data",
          "data": {
            "text/plain": [
              "generation_config.json:   0%|          | 0.00/242 [00:00<?, ?B/s]"
            ],
            "application/vnd.jupyter.widget-view+json": {
              "version_major": 2,
              "version_minor": 0,
              "model_id": "e38b63959bcc4144975566aba0def065"
            }
          },
          "metadata": {}
        },
        {
          "output_type": "display_data",
          "data": {
            "text/plain": [
              "tokenizer_config.json: 0.00B [00:00, ?B/s]"
            ],
            "application/vnd.jupyter.widget-view+json": {
              "version_major": 2,
              "version_minor": 0,
              "model_id": "60af50a85a1a4f6cac86fb0a8adbed7e"
            }
          },
          "metadata": {}
        },
        {
          "output_type": "display_data",
          "data": {
            "text/plain": [
              "vocab.json: 0.00B [00:00, ?B/s]"
            ],
            "application/vnd.jupyter.widget-view+json": {
              "version_major": 2,
              "version_minor": 0,
              "model_id": "69ef2dbb3288406f98951f295d162bdf"
            }
          },
          "metadata": {}
        },
        {
          "output_type": "display_data",
          "data": {
            "text/plain": [
              "merges.txt: 0.00B [00:00, ?B/s]"
            ],
            "application/vnd.jupyter.widget-view+json": {
              "version_major": 2,
              "version_minor": 0,
              "model_id": "a114a1a3fb9d45359da69742c3f37dc5"
            }
          },
          "metadata": {}
        },
        {
          "output_type": "display_data",
          "data": {
            "text/plain": [
              "tokenizer.json: 0.00B [00:00, ?B/s]"
            ],
            "application/vnd.jupyter.widget-view+json": {
              "version_major": 2,
              "version_minor": 0,
              "model_id": "ba784877fea04f82b67c7e94796ba7d7"
            }
          },
          "metadata": {}
        },
        {
          "output_type": "stream",
          "name": "stdout",
          "text": [
            "✅ Model loaded successfully!\n",
            "📊 Model parameters: ~494.0M\n",
            "🧮 Quantized parameters: ~0.0M\n"
          ]
        }
      ]
    },
    {
      "cell_type": "markdown",
      "source": [
        "## 4.3 GSM8K 資料集設定\n",
        "<a name=\"Data\"></a>\n",
        "\n",
        "我們來設置具有結構化輸出格式的 GSM8K 數學推理資料集，以便逐步解決問題。這也是 Openai 最出名的資料集之ㄧ!"
      ],
      "metadata": {
        "id": "Wa44SecZ7l4v"
      }
    },
    {
      "cell_type": "code",
      "source": [
        "from datasets import load_dataset\n",
        "dataset = load_dataset(\"openai/gsm8k\", \"main\", split = \"train[:1000]\")\n",
        "dataset"
      ],
      "metadata": {
        "colab": {
          "base_uri": "https://localhost:8080/",
          "height": 246,
          "referenced_widgets": [
            "806ab1478989442caf7f0e45dc3890d2",
            "6a62340631db4fddb91ac8cd1708a860",
            "5b405dd7b75347efa310d849592aeeb6",
            "94a16ef8127f48d2b07e10485df3ff8a",
            "9a06d84b28a44a9c96fa3225c9838ff8",
            "502718a5ba78492ca0c79121a2fc36e3",
            "40ba667d488b41418399f293849c9b15",
            "edc515b528834da8b870b135c6e52c92",
            "f262d117cc8b42b0b4b04a7e89692017",
            "b8327910ca07445e830381684075dbf9",
            "266f622d07624a17b48eeb518398a16c",
            "017b9e7a3e644228af2695e25f158c4d",
            "d203f3b9996b415cbef134ea7f689748",
            "70e3bacdd63b48dab162a647da29ec2d",
            "2199960f1a18425c8abd5a486b0b89ec",
            "fd331fada2604cbba66949c118457f0a",
            "2a6653a5af7d4bcaa6c47ea588c6664c",
            "0bd419dd312543d1adf297ae510ff36f",
            "15ba8b58b0a8478c9009738c1f1fed64",
            "4b987e3abe894afc9060a10aa73e08d7",
            "baa28e8bd5254ba4aa635c085a1a948d",
            "61b6f32308364eaa9b4e36bb20fe3e91",
            "f511d881706944ff89589ff529315bf4",
            "972271c595754e90b7e3505c17e03738",
            "45106430ca7147bfbe04b6d5370c3481",
            "ebe73a4154dd45f98f571f98f079f0bc",
            "7db30a82cc214c7fb6746abe493c8be9",
            "6a1298e2892d42eb930563ef31055dac",
            "c4a606fa13824b39b1df7c53e7c6832e",
            "8caa53e452aa4edc8670491ec2efccb1",
            "5afe622f4fdd437997cdf0da33dde468",
            "4ffb85c8e37747f2978afc3833d1af93",
            "2ef9304469544a23ab667de62e588dee",
            "6dfbc64ec4ba43f0a962916a285c6137",
            "3ede96b6f38f492a870f9e0fa69af53e",
            "26baa1e4c3144903bf2fdc20c42175b1",
            "3a99681172e049aea46393586170f984",
            "1e22c75be10a40789c498f87b11084a0",
            "80fc19d527e8428696e9d86d9f07fe87",
            "c22c79b2cefe4266942658cb1b513dc2",
            "d8f2477c5b4049ef867d728a82034760",
            "c148574d7a8346d7a6ea9250fc323738",
            "6d8e475c163f4d1b99a0ecd8eadd9738",
            "9e8a7e6cd24f45e2afe47312f87338c4",
            "93098c839fd14cf489604b96f864719b",
            "0b4a372c84ed4a258fb14c43aa4049eb",
            "571cf10be86046ef9f57a5a17ea7d799",
            "76e1bf601ca14c4e8316818f7ea2bf4c",
            "11adcab981cf44f986d3d96367a01a49",
            "5d5ea0dfc7714e83a54fa3d40df9ee0e",
            "5cc2b9e76b7943c78ddbd81d05a0c2e0",
            "92a89153ed354de8909ccba2c5e3ff22",
            "f084cd402a774e9f8c7a6119ec1f073d",
            "4e2fec2e4d544064b91757463258c9f3",
            "786d58bb7dfe4b90a4fcd6944936556c"
          ]
        },
        "id": "f-LYdFBA7mkP",
        "outputId": "51080276-e3e0-480a-ed57-d1d5df2abcfb"
      },
      "execution_count": null,
      "outputs": [
        {
          "output_type": "display_data",
          "data": {
            "text/plain": [
              "README.md: 0.00B [00:00, ?B/s]"
            ],
            "application/vnd.jupyter.widget-view+json": {
              "version_major": 2,
              "version_minor": 0,
              "model_id": "806ab1478989442caf7f0e45dc3890d2"
            }
          },
          "metadata": {}
        },
        {
          "output_type": "display_data",
          "data": {
            "text/plain": [
              "main/train-00000-of-00001.parquet:   0%|          | 0.00/2.31M [00:00<?, ?B/s]"
            ],
            "application/vnd.jupyter.widget-view+json": {
              "version_major": 2,
              "version_minor": 0,
              "model_id": "017b9e7a3e644228af2695e25f158c4d"
            }
          },
          "metadata": {}
        },
        {
          "output_type": "display_data",
          "data": {
            "text/plain": [
              "main/test-00000-of-00001.parquet:   0%|          | 0.00/419k [00:00<?, ?B/s]"
            ],
            "application/vnd.jupyter.widget-view+json": {
              "version_major": 2,
              "version_minor": 0,
              "model_id": "f511d881706944ff89589ff529315bf4"
            }
          },
          "metadata": {}
        },
        {
          "output_type": "display_data",
          "data": {
            "text/plain": [
              "Generating train split:   0%|          | 0/7473 [00:00<?, ? examples/s]"
            ],
            "application/vnd.jupyter.widget-view+json": {
              "version_major": 2,
              "version_minor": 0,
              "model_id": "6dfbc64ec4ba43f0a962916a285c6137"
            }
          },
          "metadata": {}
        },
        {
          "output_type": "display_data",
          "data": {
            "text/plain": [
              "Generating test split:   0%|          | 0/1319 [00:00<?, ? examples/s]"
            ],
            "application/vnd.jupyter.widget-view+json": {
              "version_major": 2,
              "version_minor": 0,
              "model_id": "93098c839fd14cf489604b96f864719b"
            }
          },
          "metadata": {}
        },
        {
          "output_type": "execute_result",
          "data": {
            "text/plain": [
              "Dataset({\n",
              "    features: ['question', 'answer'],\n",
              "    num_rows: 1000\n",
              "})"
            ]
          },
          "metadata": {},
          "execution_count": 8
        }
      ]
    },
    {
      "cell_type": "markdown",
      "source": [
        "接著讓我們來檢視第一筆資料，看看結構之外，也看看問了什麼問題？"
      ],
      "metadata": {
        "id": "0UK5P66-71uj"
      }
    },
    {
      "cell_type": "code",
      "source": [
        "dataset[0][\"question\"]"
      ],
      "metadata": {
        "colab": {
          "base_uri": "https://localhost:8080/",
          "height": 52
        },
        "id": "zs4PDDKa73Qr",
        "outputId": "aa21d076-dc11-483f-dd53-21e165ca088a"
      },
      "execution_count": null,
      "outputs": [
        {
          "output_type": "execute_result",
          "data": {
            "text/plain": [
              "'Natalia sold clips to 48 of her friends in April, and then she sold half as many clips in May. How many clips did Natalia sell altogether in April and May?'"
            ],
            "application/vnd.google.colaboratory.intrinsic+json": {
              "type": "string"
            }
          },
          "metadata": {},
          "execution_count": 9
        }
      ]
    },
    {
      "cell_type": "code",
      "source": [
        "dataset[0][\"answer\"]"
      ],
      "metadata": {
        "colab": {
          "base_uri": "https://localhost:8080/",
          "height": 52
        },
        "id": "vqwpwM5574eL",
        "outputId": "8d9e5891-ca8c-4716-fdfd-0025196b93a8"
      },
      "execution_count": null,
      "outputs": [
        {
          "output_type": "execute_result",
          "data": {
            "text/plain": [
              "'Natalia sold 48/2 = <<48/2=24>>24 clips in May.\\nNatalia sold 48+24 = <<48+24=72>>72 clips altogether in April and May.\\n#### 72'"
            ],
            "application/vnd.google.colaboratory.intrinsic+json": {
              "type": "string"
            }
          },
          "metadata": {},
          "execution_count": 10
        }
      ]
    },
    {
      "cell_type": "markdown",
      "source": [
        "我們可以注意到每一個答案都使用 `####` 符號表示，讓我們抽取。"
      ],
      "metadata": {
        "id": "Od23bzes759-"
      }
    },
    {
      "cell_type": "code",
      "source": [
        "def extract_hash_answer(text):\n",
        "    \"\"\"Extract numerical answer from GSM8K format (#### marker)\"\"\"\n",
        "    if \"####\" not in text: return None\n",
        "    return text.split(\"####\")[1].strip()\n",
        "extract_hash_answer(dataset[0][\"answer\"])"
      ],
      "metadata": {
        "colab": {
          "base_uri": "https://localhost:8080/",
          "height": 35
        },
        "id": "xZKlvARy77IX",
        "outputId": "61364f40-9c86-4f44-c2fa-c5f0b4cb782e"
      },
      "execution_count": null,
      "outputs": [
        {
          "output_type": "execute_result",
          "data": {
            "text/plain": [
              "'72'"
            ],
            "application/vnd.google.colaboratory.intrinsic+json": {
              "type": "string"
            }
          },
          "metadata": {},
          "execution_count": 11
        }
      ]
    },
    {
      "cell_type": "markdown",
      "source": [
        "我們現在建立一個可以自訂的系統提示。我們額外加入了 4 個符號，用於推理或思考階段，最後再加上一個最終答案：。\n",
        "\n",
        "分別為\n",
        "- reasoning_start = \"<start_working_out>\"\n",
        "- reasoning_end   = \"<end_working_out>\"\n",
        "- solution_start = \"<SOLUTION>\"\n",
        "- solution_end = \"</SOLUTION>\""
      ],
      "metadata": {
        "id": "XtHUnhzX8QIN"
      }
    },
    {
      "cell_type": "code",
      "source": [
        "reasoning_start = \"<start_working_out>\"\n",
        "reasoning_end   = \"<end_working_out>\"\n",
        "solution_start = \"<SOLUTION>\"\n",
        "solution_end = \"</SOLUTION>\"\n",
        "\n",
        "system_prompt = \\\n",
        "f\"\"\"You are given a problem.\n",
        "Think about the problem and provide your working out.\n",
        "Place it between {reasoning_start} and {reasoning_end}.\n",
        "Then, provide your solution between {solution_start}{solution_end}\"\"\"\n",
        "\n",
        "system_prompt"
      ],
      "metadata": {
        "colab": {
          "base_uri": "https://localhost:8080/",
          "height": 52
        },
        "id": "xBypf8kq8Rsd",
        "outputId": "459aaebe-7b70-4b2f-b1fd-1bc2c793c023"
      },
      "execution_count": null,
      "outputs": [
        {
          "output_type": "execute_result",
          "data": {
            "text/plain": [
              "'You are given a problem.\\nThink about the problem and provide your working out.\\nPlace it between <start_working_out> and <end_working_out>.\\nThen, provide your solution between <SOLUTION></SOLUTION>'"
            ],
            "application/vnd.google.colaboratory.intrinsic+json": {
              "type": "string"
            }
          },
          "metadata": {},
          "execution_count": 12
        }
      ]
    },
    {
      "cell_type": "markdown",
      "source": [
        "讓我們來改照這個資料集！並查看第一列："
      ],
      "metadata": {
        "id": "-w_ygXfy8gfR"
      }
    },
    {
      "cell_type": "code",
      "source": [
        "dataset = dataset.map(lambda x: {\n",
        "    \"prompt\" : [\n",
        "        {\"role\": \"system\", \"content\": system_prompt},\n",
        "        {\"role\": \"user\",   \"content\": x[\"question\"]},\n",
        "    ],\n",
        "    \"answer\": extract_hash_answer(x[\"answer\"]),\n",
        "})\n",
        "dataset[0]"
      ],
      "metadata": {
        "colab": {
          "base_uri": "https://localhost:8080/",
          "height": 223,
          "referenced_widgets": [
            "b7347357d9174ccfa015ad5c7e12e8b3",
            "354287f8a0364393a216837ce654060a",
            "1db2faa1e5b149d9a9293aee55a1b01e",
            "ac580ee07b1d46b98996cc07f779b421",
            "131f96bffc524f139cc306e936623120",
            "c93f8dbd28b64bc3852599a06407f59e",
            "22c55b6de55643cda061661b286586f0",
            "81019393efee410fb61a88f333147e18",
            "10cc4646465d4833868b1256c591b093",
            "c048daff94ec44c5804f0bbf22eca32c",
            "d701ef0e9a8e4bfda890343afddfdb87"
          ]
        },
        "id": "c1qPhzZE8hdA",
        "outputId": "df2d859c-0370-4bdc-d9b9-70524cd0c2f8"
      },
      "execution_count": null,
      "outputs": [
        {
          "output_type": "display_data",
          "data": {
            "text/plain": [
              "Map:   0%|          | 0/1000 [00:00<?, ? examples/s]"
            ],
            "application/vnd.jupyter.widget-view+json": {
              "version_major": 2,
              "version_minor": 0,
              "model_id": "b7347357d9174ccfa015ad5c7e12e8b3"
            }
          },
          "metadata": {}
        },
        {
          "output_type": "execute_result",
          "data": {
            "text/plain": [
              "{'question': 'Natalia sold clips to 48 of her friends in April, and then she sold half as many clips in May. How many clips did Natalia sell altogether in April and May?',\n",
              " 'answer': '72',\n",
              " 'prompt': [{'content': 'You are given a problem.\\nThink about the problem and provide your working out.\\nPlace it between <start_working_out> and <end_working_out>.\\nThen, provide your solution between <SOLUTION></SOLUTION>',\n",
              "   'role': 'system'},\n",
              "  {'content': 'Natalia sold clips to 48 of her friends in April, and then she sold half as many clips in May. How many clips did Natalia sell altogether in April and May?',\n",
              "   'role': 'user'}]}"
            ]
          },
          "metadata": {},
          "execution_count": 13
        }
      ]
    },
    {
      "cell_type": "code",
      "source": [
        "print(f\"✅ 資料集已載入並處理完成！\")\n",
        "print(f\"📊 訓練樣本數量: {len(dataset):,}\")\n",
        "print(f\"🎯 範例問題: {dataset[0]['prompt'][1]['content']}...\")\n",
        "print(f\"🎯 範例答案: {dataset[0]['answer']}\")\n",
        "\n",
        "# 顯示第一個樣本的結構以供驗證\n",
        "print(f\"\\n📋 範例結構:\")\n",
        "print(f\"   提示: {len(dataset[0]['prompt'])} 則訊息 (system + user)\")\n",
        "print(f\"   答案: {dataset[0]['answer']} (獎勵用的標準答案)\")\n"
      ],
      "metadata": {
        "colab": {
          "base_uri": "https://localhost:8080/"
        },
        "id": "EdGA55D-8Yqu",
        "outputId": "ffe61fff-0675-4280-b083-5c1b7b81fe05"
      },
      "execution_count": null,
      "outputs": [
        {
          "output_type": "stream",
          "name": "stdout",
          "text": [
            "✅ Dataset loaded and processed!\n",
            "📊 Training examples: 1,000\n",
            "🎯 Sample question: Natalia sold clips to 48 of her friends in April, and then she sold half as many clips in May. How many clips did Natalia sell altogether in April and May?...\n",
            "🎯 Sample answer: 72\n",
            "\n",
            "📋 Example structure:\n",
            "   Prompt: 2 messages (system + user)\n",
            "   Answer: 72 (ground truth for rewards)\n"
          ]
        }
      ]
    },
    {
      "cell_type": "markdown",
      "source": [
        "接著，我們建立一組正則表達式（regex）格式，用來比對推理區段與答案："
      ],
      "metadata": {
        "id": "wjaO021i8jS6"
      }
    },
    {
      "cell_type": "code",
      "source": [
        "import re\n",
        "\n",
        "match_format = re.compile(\n",
        "    rf\"^[\\s]{{0,}}\"  # Optional whitespace at start\n",
        "    rf\"{reasoning_start}.+?{reasoning_end}.*?\"  # Reasoning section (non-greedy)\n",
        "    rf\"{solution_start}(.+?){solution_end}\"  # Solution section with capture group\n",
        "    rf\"[\\s]{{0,}}$\",  # Optional whitespace at end\n",
        "    flags=re.MULTILINE | re.DOTALL,  # Multi-line matching with . matching newlines\n",
        ")"
      ],
      "metadata": {
        "id": "pnaG0Xhu8keL"
      },
      "execution_count": null,
      "outputs": []
    },
    {
      "cell_type": "markdown",
      "source": [
        "驗證這一段 Regex 可以正常運作："
      ],
      "metadata": {
        "id": "M9-ocXLa8l4U"
      }
    },
    {
      "cell_type": "code",
      "source": [
        "match_format.search(\n",
        "    \"<start_working_out>Let me think!<end_working_out>\"\\\n",
        "    \"<SOLUTION>2</SOLUTION>\",\n",
        ")"
      ],
      "metadata": {
        "colab": {
          "base_uri": "https://localhost:8080/"
        },
        "id": "BOX32Ue68nEF",
        "outputId": "9f1e574d-f944-481a-9fe1-5276a3dc5401"
      },
      "execution_count": null,
      "outputs": [
        {
          "output_type": "execute_result",
          "data": {
            "text/plain": [
              "<re.Match object; span=(0, 71), match='<start_working_out>Let me think!<end_working_out>>"
            ]
          },
          "metadata": {},
          "execution_count": 16
        }
      ]
    },
    {
      "cell_type": "markdown",
      "source": [
        "\n",
        "\n",
        "---\n",
        "\n"
      ],
      "metadata": {
        "id": "wlohhHHk80_E"
      }
    },
    {
      "cell_type": "markdown",
      "source": [
        "## 4.4 設計多道獎勵函數\n",
        "\n",
        "實現四個互補的獎勵函數來評估數學推理的不同面向：\n",
        "\n",
        "1. `match_format_exactly`:完美格式合規\n",
        "2. `match_format_approximately`: 部分格式接近\n",
        "3. `check_answer_correctness`：數學準確性，評分標準\n",
        "4. `check_numbers_extraction`：能夠解析並輸出數字結果"
      ],
      "metadata": {
        "id": "7p5h5gdp7neC"
      }
    },
    {
      "cell_type": "markdown",
      "source": [
        "接下來我們要建立一個獎勵函數，用來嚴格比對該格式——如果比對成功，就給予 3 分的獎勵："
      ],
      "metadata": {
        "id": "CYnkmsD-81vP"
      }
    },
    {
      "cell_type": "code",
      "source": [
        "def match_format_exactly(completions, **kwargs):\n",
        "    \"\"\"\n",
        "    High reward (3.0) for perfect format adherence\n",
        "    Ensures model learns the complete structured output pattern\n",
        "    \"\"\"\n",
        "    scores = []\n",
        "    for completion in completions:\n",
        "        response = completion[0][\"content\"]\n",
        "        # Check if response matches complete format pattern\n",
        "        score = 3.0 if match_format.search(response) is not None else 0.0\n",
        "        scores.append(score)\n",
        "    return scores"
      ],
      "metadata": {
        "id": "x19M0T-c83Jy"
      },
      "execution_count": null,
      "outputs": []
    },
    {
      "cell_type": "markdown",
      "source": [
        "如果比對失敗，但模型至少部分遵循該格式，我們就按每個符號的匹配數來給予獎勵："
      ],
      "metadata": {
        "id": "GTu8hVpU840k"
      }
    },
    {
      "cell_type": "code",
      "source": [
        "def match_format_approximately(completions, **kwargs):\n",
        "    \"\"\"\n",
        "    Graduated scoring for format elements\n",
        "    Encourages learning individual components even if not perfect\n",
        "    \"\"\"\n",
        "    scores = []\n",
        "    for completion in completions:\n",
        "        response = completion[0][\"content\"]\n",
        "        score = 0\n",
        "\n",
        "        # Count how many keywords are seen - we penalize if too many!\n",
        "        # If we see 1, then plus some points!\n",
        "        # Award +0.5 for correct token count, -0.5 for wrong count\n",
        "        score += 0.5 if response.count(reasoning_start) == 1 else -0.5\n",
        "        score += 0.5 if response.count(reasoning_end) == 1 else -0.5\n",
        "        score += 0.5 if response.count(solution_start) == 1 else -0.5\n",
        "        score += 0.5 if response.count(solution_end) == 1 else -0.5\n",
        "\n",
        "        scores.append(score)\n",
        "    return scores"
      ],
      "metadata": {
        "id": "IhbTE3Jb86bk"
      },
      "execution_count": null,
      "outputs": []
    },
    {
      "cell_type": "markdown",
      "source": [
        "最後，我們要擷取模型產生的答案，並對其進行獎勵或懲罰！同時，我們會根據答案與正確答案的接近程度（以比例計算）來給予獎勵："
      ],
      "metadata": {
        "id": "esg1Lpgl88Fg"
      }
    },
    {
      "cell_type": "code",
      "source": [
        "def check_answer_correctness(prompts, completions, answer, **kwargs):\n",
        "    \"\"\"\n",
        "    Graduated scoring for mathematical accuracy:\n",
        "    - 3.0: Exact match\n",
        "    - 1.5: Within 10% (close answer)\n",
        "    - 0.5: Within 20% (reasonable attempt)\n",
        "    - -0.5: Wrong answer (penalty for incorrect math)\n",
        "    \"\"\"\n",
        "    responses = [completion[0][\"content\"] for completion in completions]\n",
        "\n",
        "    # Extract answers using format pattern\n",
        "    extracted_responses = [\n",
        "        guess.group(1) if (guess := match_format.search(r)) is not None else None for r in responses\n",
        "    ]\n",
        "\n",
        "    scores = []\n",
        "    for guess, true_answer in zip(extracted_responses, answer):\n",
        "        if guess is None:  # No extractable answer\n",
        "            scores.append(0)\n",
        "            continue\n",
        "\n",
        "        # Exact string match gets full points\n",
        "        if guess.strip() == true_answer.strip():\n",
        "            scores.append(3.0)\n",
        "        else:\n",
        "            # Try numerical comparison for partial credit\n",
        "            try:\n",
        "                ratio = float(guess) / float(true_answer)\n",
        "                if 0.9 <= ratio <= 1.1:  # Within 10%\n",
        "                    scores.append(1.5)\n",
        "                elif 0.8 <= ratio <= 1.2:  # Within 20%\n",
        "                    scores.append(0.5)\n",
        "                else:  # Wrong answer\n",
        "                    scores.append(-0.5)\n",
        "            except (ValueError, ZeroDivisionError):\n",
        "                scores.append(-0.5)  # Invalid numerical format\n",
        "\n",
        "    return scores"
      ],
      "metadata": {
        "id": "RfQaUvkw89aF"
      },
      "execution_count": null,
      "outputs": []
    },
    {
      "cell_type": "markdown",
      "source": [
        "另外，有時候答案可能不只是一個數字，而是一句話，例如 'The solution is $20' ——我們就要從中擷取出 20。"
      ],
      "metadata": {
        "id": "hqFzxDYl8_Vt"
      }
    },
    {
      "cell_type": "code",
      "source": [
        "match_numbers = re.compile(\n",
        "    rf\"{solution_start}.*?([\\d\\.]{{1,}})\",  # Extract numbers from solution section\n",
        "    flags=re.MULTILINE | re.DOTALL,  # Flexible pattern matching\n",
        ")\n",
        "\n",
        "match_numbers.findall(\"<SOLUTION>  0.34  </SOLUTION>\")"
      ],
      "metadata": {
        "colab": {
          "base_uri": "https://localhost:8080/"
        },
        "id": "EgYkq96w9ClZ",
        "outputId": "c2092cca-e5df-400a-e501-20a3fe6125c1"
      },
      "execution_count": null,
      "outputs": [
        {
          "output_type": "execute_result",
          "data": {
            "text/plain": [
              "['0.34']"
            ]
          },
          "metadata": {},
          "execution_count": 20
        }
      ]
    },
    {
      "cell_type": "code",
      "source": [
        "def check_numbers_extraction(prompts, completions, answer, **kwargs):\n",
        "    \"\"\"\n",
        "    Tests the model's ability to extract numerical values from solution sections\n",
        "    Complementary to exact format matching - focuses on parsing capability\n",
        "    \"\"\"\n",
        "    responses = [completion[0][\"content\"] for completion in completions]\n",
        "\n",
        "    # Extract numbers from solution sections using number pattern\n",
        "    extracted_responses = [\n",
        "        guess.group(1) if (guess := match_numbers.search(r)) is not None else None for r in responses\n",
        "    ]\n",
        "\n",
        "    scores = []\n",
        "    for guess, true_answer in zip(extracted_responses, answer):\n",
        "        if guess is None:  # No extractable number\n",
        "            scores.append(0)\n",
        "            continue\n",
        "\n",
        "        try:\n",
        "            # Simple numerical equality check\n",
        "            true_val = float(true_answer.strip())\n",
        "            guess_val = float(guess.strip())\n",
        "            # Binary scoring: correct (1.5) or incorrect (0)\n",
        "            scores.append(1.5 if guess_val == true_val else 0.0)\n",
        "        except (ValueError, TypeError):\n",
        "            scores.append(0)  # Invalid number format\n",
        "\n",
        "    return scores"
      ],
      "metadata": {
        "id": "7k3414Xq9ELV"
      },
      "execution_count": null,
      "outputs": []
    },
    {
      "cell_type": "markdown",
      "source": [
        "\n",
        "---"
      ],
      "metadata": {
        "id": "ZNa-Uxcp9GVF"
      }
    },
    {
      "cell_type": "markdown",
      "source": [
        "<a name=\"Train\"></a>\n",
        "## 4.5 訓練模型\n",
        "\n",
        "現在來設定 GRPO Trainer 與所有配置！"
      ],
      "metadata": {
        "id": "9unWQAQd9G8h"
      }
    },
    {
      "cell_type": "code",
      "source": [
        "# 設定 GRPO 訓練參數（用於數學推理）\n",
        "training_args = GRPOConfig(\n",
        "    # 適用於推理任務的學習參數\n",
        "    learning_rate=5e-6,  # 保守的學習率，避免推理過程不穩定\n",
        "\n",
        "    # 記憶體效率最佳化的批次設定\n",
        "    per_device_train_batch_size=2,  # 小批次以符合 GPU 記憶體限制\n",
        "    gradient_accumulation_steps=8,  # 有效批次大小 = 2 * 8 = 16\n",
        "\n",
        "    # 數學問題的序列長度限制\n",
        "    max_prompt_length=1024,  # 足以應付複雜的文字題\n",
        "    max_completion_length=1024,  # 預留完整逐步推理的空間\n",
        "\n",
        "    # 訓練時長與監控\n",
        "    max_steps=10,  # 短時間展示用（正式訓練建議提升至 500+）\n",
        "    logging_steps=1,  # 每步記錄一次指標，方便密切監控\n",
        "\n",
        "    # 穩定性與輸出設定\n",
        "    output_dir=\"./trl_grpo_outputs\",\n",
        "    max_grad_norm=0.1,  # 積極的梯度裁剪，確保訓練穩定\n",
        "    report_to=\"trackio\",  # 使用 trackio 追蹤實驗（替代 wandb/tensorboard）\n",
        ")"
      ],
      "metadata": {
        "id": "TbThTlP8-EdV"
      },
      "execution_count": null,
      "outputs": []
    },
    {
      "cell_type": "markdown",
      "source": [
        "### 4.5.2 使用 Trackio 整合進行訓練器初始化\n",
        "\n",
        "使用我們的多獎勵系統和實驗追蹤來設定 GRPO 訓練器。"
      ],
      "metadata": {
        "id": "-x-BOHqq_HxV"
      }
    },
    {
      "cell_type": "code",
      "source": [
        "# 建立帶有時間戳記的唯一執行名稱，確保追蹤資料新鮮\n",
        "import datetime\n",
        "\n",
        "timestamp = datetime.datetime.now().strftime(\"%Y%m%d-%H%M%S\")\n",
        "run_name = f\"qwen2.5-0.5b-instruct-gsm8k-grpo-{timestamp}\"\n",
        "\n",
        "# 初始化 trackio 實驗追蹤，並指定唯一的執行名稱\n",
        "trackio.init(\n",
        "    project=\"GRPO-Mathematical-Reasoning\",  # 專案名稱（用於組織與管理）\n",
        "    name=run_name,  # 唯一執行識別碼（帶有時間戳記）\n",
        "    config={\n",
        "        # 模型與資料集設定\n",
        "        \"model_name\": \"Qwen/Qwen2.5-0.5B-Instruct\",\n",
        "        \"dataset\": \"GSM8K\",\n",
        "        \"technique\": \"GRPO + 4-bit\",\n",
        "\n",
        "        # 訓練超參數\n",
        "        \"learning_rate\": training_args.learning_rate,\n",
        "        \"batch_size\": training_args.per_device_train_batch_size,\n",
        "        \"gradient_accumulation_steps\": training_args.gradient_accumulation_steps,\n",
        "        \"effective_batch_size\": training_args.per_device_train_batch_size * training_args.gradient_accumulation_steps,\n",
        "        \"max_steps\": training_args.max_steps,\n",
        "\n",
        "        # GRPO 特定設定\n",
        "        \"num_generations\": training_args.num_generations,  # 預設：每步產生 8 個樣本\n",
        "        \"max_prompt_length\": training_args.max_prompt_length,\n",
        "        \"max_completion_length\": training_args.max_completion_length,\n",
        "\n",
        "        # 獎勵系統\n",
        "        \"num_reward_functions\": 4,\n",
        "    },\n",
        ")\n",
        "\n",
        "print(\"🎯 GRPO 設定摘要:\")\n",
        "print(f\"   學習率: {training_args.learning_rate}\")\n",
        "print(\n",
        "    f\"   有效批次大小: {training_args.per_device_train_batch_size * training_args.gradient_accumulation_steps}\"\n",
        ")\n",
        "print(f\"   訓練步數: {training_args.max_steps}\")\n",
        "print(f\"   每步生成數: {training_args.num_generations}\")\n",
        "print(f\"✅ Trackio 實驗追蹤初始化完成\")\n",
        "print(f\"📊 執行名稱: {run_name}\")"
      ],
      "metadata": {
        "colab": {
          "base_uri": "https://localhost:8080/"
        },
        "id": "WIOEbsZW-IuH",
        "outputId": "b8529bd6-0ebf-486d-bd42-910d925b3bb6"
      },
      "execution_count": null,
      "outputs": [
        {
          "output_type": "stream",
          "name": "stdout",
          "text": [
            "* Running on public URL: https://281d4fc2ce647119e4.gradio.live\n",
            "* Trackio project initialized: GRPO-Mathematical-Reasoning\n",
            "* Trackio metrics logged to: /root/.cache/huggingface/trackio\n",
            "* View dashboard by running in your terminal:\n",
            "\u001b[1m\u001b[93mtrackio show --project \"GRPO-Mathematical-Reasoning\"\u001b[0m\n",
            "* or by running in Python: trackio.show(project=\"GRPO-Mathematical-Reasoning\")\n",
            "* Created new run: qwen2.5-0.5b-instruct-gsm8k-grpo-20250916-150726\n",
            "🎯 GRPO Configuration Summary:\n",
            "   Learning rate: 5e-06\n",
            "   Effective batch size: 16\n",
            "   Training steps: 10\n",
            "   Generations per step: 8\n",
            "✅ Trackio experiment tracking initialized\n",
            "📊 Run name: qwen2.5-0.5b-instruct-gsm8k-grpo-20250916-150726\n"
          ]
        }
      ]
    },
    {
      "cell_type": "code",
      "source": [
        "# 初始化 GRPO 訓練器，啟用多重獎勵系統\n",
        "# trackio_callback = TrackioCallback()  # 建立 trackio 日誌回呼函式\n",
        "\n",
        "trainer = GRPOTrainer(\n",
        "    model=model,  # 模型\n",
        "    reward_funcs=[  # 四個互補的獎勵函數\n",
        "        match_format_exactly,       # 完全符合結構\n",
        "        match_format_approximately, # 部分格式符合給予部分分數\n",
        "        check_answer_correctness,   # 數學正確性\n",
        "        check_numbers_extraction,   # 數字解析能力\n",
        "    ],\n",
        "    args=training_args,  # 訓練參數設定\n",
        "    train_dataset=dataset,  # 已處理好的 GSM8K 資料集\n",
        ")\n",
        "\n",
        "print(\"✅ GRPO 訓練器初始化成功！\")\n",
        "print(f\"📊 訓練資料集: {len(dataset):,} 筆樣本\")\n",
        "print(f\"🎯 啟用獎勵函數數量: {len(trainer.reward_funcs)} 個\")\n",
        "print(f\"📈 Trackio 整合狀態: 已啟用\")\n",
        "print(f\"🔄 準備開始訓練，每步生成 {training_args.num_generations} 個樣本\")"
      ],
      "metadata": {
        "colab": {
          "base_uri": "https://localhost:8080/"
        },
        "id": "ZpKdWufJ_LC9",
        "outputId": "6a296402-a628-43b5-cdc2-0d31c0230818"
      },
      "execution_count": null,
      "outputs": [
        {
          "output_type": "stream",
          "name": "stdout",
          "text": [
            "✅ GRPO Trainer initialized successfully!\n",
            "📊 Training dataset: 1,000 examples\n",
            "🎯 Reward functions: 4 active\n",
            "📈 Trackio integration: Enabled\n",
            "🔄 Ready for training with 8 generations per step\n"
          ]
        }
      ]
    },
    {
      "cell_type": "markdown",
      "source": [
        "### 4.5.3 開始 GRPO 培訓\n",
        "\n",
        "從即時獎勵監控開始訓練過程。觀察格式合規性和數學準確性的逐步提升。\n"
      ],
      "metadata": {
        "id": "2CZXJ7QK_2X5"
      }
    },
    {
      "cell_type": "code",
      "source": [
        "# 執行 GRPO 訓練，並進行多重獎勵最佳化\n",
        "print(\"🚀 開始 GRPO 訓練...\")\n",
        "print(\"📊 監控指標: 獎勵分數、KL 散度、策略梯度\")\n",
        "print(\"🔍 Trackio 將記錄: 損失、獎勵、學習率、梯度\")\n",
        "\n",
        "# 執行訓練流程\n",
        "trainer.train()\n",
        "\n",
        "# 完成 trackio 實驗\n",
        "trackio.finish()\n",
        "\n",
        "print(\"✅ 訓練成功完成！\")\n",
        "print(f\"💾 模型已儲存至: {training_args.output_dir}\")"
      ],
      "metadata": {
        "colab": {
          "base_uri": "https://localhost:8080/",
          "height": 652
        },
        "id": "Fq7z6_sv_7RH",
        "outputId": "132f9fc9-3ef5-4e24-a983-a6096af542e0"
      },
      "execution_count": null,
      "outputs": [
        {
          "output_type": "stream",
          "name": "stderr",
          "text": [
            "The tokenizer has new PAD/BOS/EOS tokens that differ from the model config and generation config. The model config and generation config were aligned accordingly, being updated with the tokenizer's values. Updated tokens: {'bos_token_id': None, 'pad_token_id': 151643}.\n"
          ]
        },
        {
          "output_type": "stream",
          "name": "stdout",
          "text": [
            "🚀 Starting GRPO training...\n",
            "📊 Monitor metrics: reward scores, KL divergence, policy gradients\n",
            "🔍 Trackio will log: losses, rewards, learning rate, gradients\n",
            "* Trackio project initialized: huggingface\n",
            "* Trackio metrics logged to: /root/.cache/huggingface/trackio\n",
            "* View dashboard by running in your terminal:\n",
            "\u001b[1m\u001b[93mtrackio show --project \"huggingface\"\u001b[0m\n",
            "* or by running in Python: trackio.show(project=\"huggingface\")\n",
            "* Created new run: dainty-sunset-0\n"
          ]
        },
        {
          "output_type": "display_data",
          "data": {
            "text/plain": [
              "<IPython.core.display.HTML object>"
            ],
            "text/html": [
              "\n",
              "    <div>\n",
              "      \n",
              "      <progress value='10' max='10' style='width:300px; height:20px; vertical-align: middle;'></progress>\n",
              "      [10/10 20:47, Epoch 0/1]\n",
              "    </div>\n",
              "    <table border=\"1\" class=\"dataframe\">\n",
              "  <thead>\n",
              " <tr style=\"text-align: left;\">\n",
              "      <th>Step</th>\n",
              "      <th>Training Loss</th>\n",
              "    </tr>\n",
              "  </thead>\n",
              "  <tbody>\n",
              "    <tr>\n",
              "      <td>1</td>\n",
              "      <td>0.230100</td>\n",
              "    </tr>\n",
              "    <tr>\n",
              "      <td>2</td>\n",
              "      <td>0.065200</td>\n",
              "    </tr>\n",
              "    <tr>\n",
              "      <td>3</td>\n",
              "      <td>0.000000</td>\n",
              "    </tr>\n",
              "    <tr>\n",
              "      <td>4</td>\n",
              "      <td>0.000000</td>\n",
              "    </tr>\n",
              "    <tr>\n",
              "      <td>5</td>\n",
              "      <td>0.000000</td>\n",
              "    </tr>\n",
              "    <tr>\n",
              "      <td>6</td>\n",
              "      <td>0.000000</td>\n",
              "    </tr>\n",
              "    <tr>\n",
              "      <td>7</td>\n",
              "      <td>0.000000</td>\n",
              "    </tr>\n",
              "    <tr>\n",
              "      <td>8</td>\n",
              "      <td>0.000000</td>\n",
              "    </tr>\n",
              "    <tr>\n",
              "      <td>9</td>\n",
              "      <td>0.000000</td>\n",
              "    </tr>\n",
              "    <tr>\n",
              "      <td>10</td>\n",
              "      <td>0.000000</td>\n",
              "    </tr>\n",
              "  </tbody>\n",
              "</table><p>"
            ]
          },
          "metadata": {}
        },
        {
          "output_type": "stream",
          "name": "stdout",
          "text": [
            "* Run finished. Uploading logs to Trackio Space: http://127.0.0.1:7860/ (please wait...)\n",
            "* Run finished. Uploading logs to Trackio Space: http://127.0.0.1:7860/ (please wait...)\n",
            "✅ Training completed successfully!\n",
            "💾 Model saved to: ./trl_grpo_outputs\n"
          ]
        }
      ]
    },
    {
      "cell_type": "markdown",
      "source": [
        "### 4.5.4 (選項)實驗儀表板\n",
        "\n",
        "啟動互動式 trackio 儀表板來分析訓練進度、獎勵演進和模型效能指標。"
      ],
      "metadata": {
        "id": "B-lqT3KOCfzV"
      }
    },
    {
      "cell_type": "code",
      "source": [
        "# Launch interactive trackio dashboard for experiment analysis\n",
        "# View training curves, reward progression, loss evolution, and hyperparameter effects\n",
        "trackio.show(project=\"GRPO-Mathematical-Reasoning\")\n",
        "\n",
        "\n",
        "# Alternative: Launch from command line with: trackio show --project \"GRPO-Mathematical-Reasoning\""
      ],
      "metadata": {
        "colab": {
          "base_uri": "https://localhost:8080/"
        },
        "id": "rtVmhk07CnFq",
        "outputId": "b0a6b72c-50ed-4143-a48e-05fc4f2e497c"
      },
      "execution_count": null,
      "outputs": [
        {
          "output_type": "stream",
          "name": "stdout",
          "text": [
            "* Running on public URL: https://281d4fc2ce647119e4.gradio.live\n",
            "* Trackio UI launched at: https://281d4fc2ce647119e4.gradio.live/?project=GRPO-Mathematical-Reasoning\n"
          ]
        }
      ]
    },
    {
      "cell_type": "markdown",
      "source": [
        "\n",
        "\n",
        "---\n",
        "\n"
      ],
      "metadata": {
        "id": "BIyH5HIh9QjX"
      }
    },
    {
      "cell_type": "markdown",
      "source": [
        "## 4.6 保存模型"
      ],
      "metadata": {
        "id": "t1HtdnItL2f1"
      }
    },
    {
      "cell_type": "code",
      "source": [
        "# 假設 dpo_trainer 是您的 DPOTrainer 實例\n",
        "output_dir = \"./saved_grpo_model\"  # 指定保存路徑\n",
        "\n",
        "# 保存模型權重、配置和分詞器\n",
        "trainer.save_model(output_dir)\n",
        "\n",
        "print(f\"模型已保存至 {output_dir}\")"
      ],
      "metadata": {
        "colab": {
          "base_uri": "https://localhost:8080/"
        },
        "id": "faLLEJw-L46A",
        "outputId": "db738ade-3a32-4e75-fa9e-7fa8c45f79d6"
      },
      "execution_count": null,
      "outputs": [
        {
          "output_type": "stream",
          "name": "stdout",
          "text": [
            "模型已保存至 ./saved_grpo_model\n"
          ]
        }
      ]
    },
    {
      "cell_type": "markdown",
      "source": [
        "## 4.6 模型評估與測試\n",
        "\n",
        "透過結構化輸出驗證來測試訓練模型的數學推理能力。"
      ],
      "metadata": {
        "id": "QxgurGosCxyu"
      }
    },
    {
      "cell_type": "code",
      "source": [
        "# 定義模型測試函式，並設定最佳化生成參數\n",
        "def test_model(question, max_length=512):\n",
        "    \"\"\"\n",
        "    測試已訓練的模型在數學問題上的表現\n",
        "\n",
        "    參數:\n",
        "        question (str): 要解決的數學問題\n",
        "        max_length (int): 最大生成的 token 數量\n",
        "\n",
        "    回傳:\n",
        "        str: 模型的結構化回覆（包含推理與解答）\n",
        "    \"\"\"\n",
        "    # 使用對話範本格式化輸入\n",
        "    messages = [\n",
        "        {\"role\": \"system\", \"content\": system_prompt},\n",
        "        {\"role\": \"user\", \"content\": question},\n",
        "    ]\n",
        "\n",
        "    # 套用對話範本並轉換成文字\n",
        "    text = tokenizer.apply_chat_template(\n",
        "        messages,\n",
        "        add_generation_prompt=True,  # 加入 assistant 提示\n",
        "        tokenize=False,  # 輸出字串而非 tokens\n",
        "    )\n",
        "\n",
        "    # 進行 tokenization 並移到對應的運算裝置\n",
        "    inputs = tokenizer(text, return_tensors=\"pt\").to(model.device)\n",
        "\n",
        "    print(f\"🤔 正在處理: {question}\")\n",
        "\n",
        "    # 使用最佳化的生成參數進行推理\n",
        "    with torch.no_grad():\n",
        "        outputs = model.generate(\n",
        "            **inputs,\n",
        "            max_new_tokens=max_length,\n",
        "            temperature=0.7,  # 在創造力與一致性之間取得平衡\n",
        "            do_sample=True,  # 啟用隨機取樣，探索多樣化推理路徑\n",
        "            top_p=0.9,  # Nucleus sampling，提升生成品質\n",
        "            pad_token_id=tokenizer.eos_token_id,\n",
        "            repetition_penalty=1.1,  # 降低重複推理步驟\n",
        "            length_penalty=1.0,  # 對輸出長度保持中立偏好\n",
        "            early_stopping=True,  # 在自然結束點提前停止\n",
        "        )\n",
        "\n",
        "    # 解碼並擷取生成的部分\n",
        "    response = tokenizer.decode(outputs[0], skip_special_tokens=True)\n",
        "    generated_text = response[len(text) :].strip()\n",
        "\n",
        "    return generated_text"
      ],
      "metadata": {
        "id": "ADCjb02TCzJb"
      },
      "execution_count": null,
      "outputs": []
    },
    {
      "cell_type": "code",
      "source": [
        "# 在 GSM8K 題目上測試模型\n",
        "gsm8k_question = \"Natalia sold clips to 48 of her friends in April, and then she sold half as many clips in May. How many clips did Natalia sell altogether in April and May?\"\n",
        "expected_answer = \"72\"\n",
        "\n",
        "# 生成模型回覆\n",
        "gsm8k_response = test_model(gsm8k_question, max_length=768)\n",
        "\n",
        "print(f\"Question: {gsm8k_question}\")\n",
        "print(f\"Model Response:\\n{gsm8k_response}\")\n",
        "\n",
        "# 驗證格式是否符合要求\n",
        "has_reasoning = reasoning_start in gsm8k_response and reasoning_end in gsm8k_response\n",
        "has_solution = solution_start in gsm8k_response and solution_end in gsm8k_response\n",
        "\n",
        "print(f\"\\n格式檢查:\")\n",
        "print(f\"推理區段存在: {has_reasoning}\")\n",
        "print(f\"解答區段存在: {has_solution}\")\n",
        "\n",
        "# 如果有解答區段，檢查答案是否正確\n",
        "if has_solution:\n",
        "    try:\n",
        "        solution_text = gsm8k_response.split(solution_start)[1].split(solution_end)[0].strip()\n",
        "        extracted_number = \"\".join(filter(str.isdigit, solution_text))\n",
        "        expected_number = \"\".join(filter(str.isdigit, expected_answer))\n",
        "        is_correct = extracted_number == expected_number\n",
        "\n",
        "        print(f\"擷取出的答案: {solution_text}\")\n",
        "        print(f\"期望答案: {expected_answer}\")\n",
        "        print(f\"是否正確: {is_correct}\")\n",
        "    except:\n",
        "        print(\"無法擷取解答\")"
      ],
      "metadata": {
        "colab": {
          "base_uri": "https://localhost:8080/"
        },
        "id": "TQaJF1kQC9O-",
        "outputId": "0518b771-884a-4e49-f925-e24da294b2f0"
      },
      "execution_count": null,
      "outputs": [
        {
          "output_type": "stream",
          "name": "stderr",
          "text": [
            "The following generation flags are not valid and may be ignored: ['early_stopping']. Set `TRANSFORMERS_VERBOSITY=info` for more details.\n"
          ]
        },
        {
          "output_type": "stream",
          "name": "stdout",
          "text": [
            "🤔 Processing: Natalia sold clips to 48 of her friends in April, and then she sold half as many clips in May. How many clips did Natalia sell altogether in April and May?\n",
            "Question: Natalia sold clips to 48 of her friends in April, and then she sold half as many clips in May. How many clips did Natalia sell altogether in April and May?\n",
            "Model Response:\n",
            "( < \\( < \\( < \\( < \\( < \\( < \\( < \\( < \\( < \\( < \\( < \\( < \\( < \\( < \\( < \\( < \\( < \\( < \\( < \\( < \\( < \\( < \\( < \\( < \\( < \\( < \\( < \\( < \\( < \\( < \\( < \\( < \\( < \\( < \\( < \\( < \\( < \\( < \\( < \\( < \\( < \\( < \\( < \\( < \\( < \\( < \\( < \\( < \\( < \\( < \\( < \\( < \\( < \\( < \\( < \\( < \\( < \\( < \\( < \\( < \\( < \\( < \\( < \\( < \\( < \\( < \\( < \\( < \\( < \\( < \\( < \\( < \\( < \\( < \\( < \\( < \\( < \\( < \\( < \\( < \\( < \\( < \\( < \\( < \\( < \\( < \\( < \\( < \\( < \\( < \\( < \\( < \\( < \\( < \\( < \\( < \\( < \\( < \\( < \\( < \\( < \\( < \\( < \\( < \\( < \\( < \\( < \\( < \\( < \\( < \\( < \\( < \\( < \\( < \\( < \\( < \\( < \\( < \\( < \\( < \\( < \\( < \\( < \\( < \\( < \\( < \\( < \\( < \\( < \\( < \\( < \\( < \\( < \\( < \\( < \\( < \\( < \\( < \\( < \\( < \\( < \\( < \\( < \\( < \\( < \\( < \\( < \\( < \\( < \\( < \\( < \\( < \\( < \\( < \\( < \\( < \\( < \\( < \\( < \\( < \\( < \\( < \\( < \\( < \\( < \\( < \\( < \\( < \\( < \\( < \\( < \\( < \\( < \\( < \\( < \\( < \\( < \\( < \\( < \\( < \\( < \\( < \\( < \\( < \\( < \\( < \\( < \\( < \\( < \\( < \\( < \\( < \\( < \\( < \\( < \\( < \\( < \\( < \\( < \\( < \\( < \\( < \\( < \\( < \\( < \\( < \\( < \\( < \\( < \\( < \\( < \\( < \\( < \\( < \\( < \\( < \\( < \\( < \\( < \\( < \\( < \\( < \\( < \\( < \\( < \\( < \\( < \\( < \\( < \\( < \\( < \\( < \\( < \\( < \\( < \\( < \\( < \\( < \\( < \\( < \\( < \\( < \\( < \\( < \\( < \\( < \\( < \\( < \\( < \\( < \\( < \\( < \\( < \\( < \\( < \\( < \\( < \\( < \\( < \\( < \\( < \\( < \\( < \\( < \\( < \\( < \\( < \\( < \\( < \\( < \\( < \\( < \\( < \\( < \\( < \\( < \\( < \\( < \\( < \\( < \\( < \\( < \\( < \\( < \\( < \\( < \\( < \\( < \\( < \\( < \\( < \\( < \\( < \\( < \\( < \\( < \\( < \\( < \\( < \\( < \\( < \\( < \\( < \\( < \\( < \\( < \\( < \\( < \\( < \\( < \\( < \\( < \\( < \\( < \\( < \\( < \\( < \\( < \\( < \\( < \\( < \\( < \\( < \\( < \\( < \\( < \\( < \\( < \\( < \\( < \\( < \\( < \\( < \\( < \\( < \\( < \\( < \\( < \\( < \\( < \\( < \\( < \\( < \\( < \\( < \\( < \\( < \\( < \\( < \\( < \\( < \\( < \\( < \\( < \\( < \\( < \\( < \\( < \\( < \\( < \\( < \\( < \\( < \\( < \\( < \\( < \\( < \\( < \\( < \\( < \\( < \\( < \\( < \\(\n",
            "\n",
            "Format Check:\n",
            "Reasoning section: False\n",
            "Solution section: False\n"
          ]
        }
      ]
    },
    {
      "cell_type": "markdown",
      "source": [
        "## 4.7 清理資源\n",
        "釋放 GPU 記憶體並清除快取的張量，以實現最佳資源管理。\n",
        "\n"
      ],
      "metadata": {
        "id": "txXas-nkMDRK"
      }
    },
    {
      "cell_type": "code",
      "source": [
        "from pathlib import Path\n",
        "\n",
        "def remove_trackio_project(project_name):\n",
        "    \"\"\"刪除一個 trackio 專案，方式是移除其資料庫檔案\"\"\"\n",
        "    cache_dir = Path.home() / \".cache\" / \"huggingface\" / \"trackio\"\n",
        "    db_file = cache_dir / f\"{project_name}.db\"\n",
        "\n",
        "    if db_file.exists():\n",
        "        db_file.unlink()\n",
        "        print(f\"已移除 trackio 專案: {project_name}\")\n",
        "    else:\n",
        "        print(f\"找不到專案: {project_name}\")"
      ],
      "metadata": {
        "id": "AF2mNePlMD4F"
      },
      "execution_count": null,
      "outputs": []
    },
    {
      "cell_type": "code",
      "source": [
        "# 釋放 GPU 記憶體並清理 Python 垃圾回收\n",
        "import gc\n",
        "\n",
        "torch.cuda.empty_cache()  # 清除 PyTorch CUDA 記憶體快取\n",
        "gc.collect()  # 執行 Python 垃圾回收器\n",
        "\n",
        "print(\"✅ GPU 記憶體快取已清除\")\n",
        "print(\"✅ Python 垃圾回收已完成\")\n",
        "print(\"🧹 資源已釋放，可供其他程序使用\")"
      ],
      "metadata": {
        "id": "LcBZqnEXMH6c"
      },
      "execution_count": null,
      "outputs": []
    }
  ]
}